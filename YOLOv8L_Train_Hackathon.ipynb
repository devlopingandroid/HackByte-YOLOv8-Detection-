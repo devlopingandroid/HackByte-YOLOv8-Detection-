{
 "cells": [
  {
   "cell_type": "code",
   "execution_count": 1,
   "id": "8bea1f5f-a0fb-4027-b8b0-a4ffa8e69e5d",
   "metadata": {},
   "outputs": [
    {
     "name": "stdout",
     "output_type": "stream",
     "text": [
      "✅ Torch version: 2.7.1+cu118\n",
      "✅ CUDA available: True\n"
     ]
    }
   ],
   "source": [
    "from ultralytics import YOLO\n",
    "import torch\n",
    "\n",
    "print(\"✅ Torch version:\", torch.__version__)\n",
    "print(\"✅ CUDA available:\", torch.cuda.is_available())\n"
   ]
  },
  {
   "cell_type": "code",
   "execution_count": 2,
   "id": "53a9e44a-c782-43d3-9353-074c42f54f7b",
   "metadata": {},
   "outputs": [],
   "source": [
    "model = YOLO(\"yolov8l.pt\")  # Auto-downloads weights if not present\n"
   ]
  },
  {
   "cell_type": "code",
   "execution_count": 3,
   "id": "9f8a96ce-1635-4008-95a4-a0cdac00c872",
   "metadata": {},
   "outputs": [
    {
     "name": "stdout",
     "output_type": "stream",
     "text": [
      "New https://pypi.org/project/ultralytics/8.3.157 available  Update with 'pip install -U ultralytics'\n",
      "Ultralytics 8.3.156  Python-3.10.18 torch-2.7.1+cu118 CUDA:0 (NVIDIA GeForce RTX 3050 Laptop GPU, 4096MiB)\n",
      "\u001b[34m\u001b[1mengine\\trainer: \u001b[0magnostic_nms=False, amp=True, augment=False, auto_augment=randaugment, batch=2, bgr=0.0, box=7.5, cache=False, cfg=None, classes=None, close_mosaic=0, cls=0.5, conf=None, copy_paste=0.0, copy_paste_mode=flip, cos_lr=False, cutmix=0.0, data=D:/HackByte_Dataset/yolo_params.yaml, degrees=0.0, deterministic=True, device=0, dfl=1.5, dnn=False, dropout=0.0, dynamic=False, embed=None, epochs=100, erasing=0.4, exist_ok=False, fliplr=0.5, flipud=0.2, format=torchscript, fraction=1.0, freeze=None, half=False, hsv_h=0.015, hsv_s=0.7, hsv_v=0.4, imgsz=640, int8=False, iou=0.7, keras=False, kobj=1.0, line_width=None, lr0=0.001, lrf=0.01, mask_ratio=4, max_det=300, mixup=0.3, mode=train, model=yolov8l.pt, momentum=0.937, mosaic=1.0, multi_scale=False, name=HackByte_YOLOv8L4, nbs=64, nms=False, opset=None, optimize=False, optimizer=SGD, overlap_mask=True, patience=100, perspective=0.0, plots=True, pose=12.0, pretrained=True, profile=False, project=None, rect=False, resume=False, retina_masks=False, save=True, save_conf=False, save_crop=False, save_dir=runs\\detect\\HackByte_YOLOv8L4, save_frames=False, save_json=False, save_period=-1, save_txt=False, scale=0.5, seed=0, shear=0.0, show=False, show_boxes=True, show_conf=True, show_labels=True, simplify=True, single_cls=False, source=None, split=val, stream_buffer=False, task=detect, time=None, tracker=botsort.yaml, translate=0.1, val=True, verbose=True, vid_stride=1, visualize=False, warmup_bias_lr=0.1, warmup_epochs=3.0, warmup_momentum=0.8, weight_decay=0.0005, workers=0, workspace=None\n",
      "Overriding model.yaml nc=80 with nc=3\n",
      "\n",
      "                   from  n    params  module                                       arguments                     \n",
      "  0                  -1  1      1856  ultralytics.nn.modules.conv.Conv             [3, 64, 3, 2]                 \n",
      "  1                  -1  1     73984  ultralytics.nn.modules.conv.Conv             [64, 128, 3, 2]               \n",
      "  2                  -1  3    279808  ultralytics.nn.modules.block.C2f             [128, 128, 3, True]           \n",
      "  3                  -1  1    295424  ultralytics.nn.modules.conv.Conv             [128, 256, 3, 2]              \n",
      "  4                  -1  6   2101248  ultralytics.nn.modules.block.C2f             [256, 256, 6, True]           \n",
      "  5                  -1  1   1180672  ultralytics.nn.modules.conv.Conv             [256, 512, 3, 2]              \n",
      "  6                  -1  6   8396800  ultralytics.nn.modules.block.C2f             [512, 512, 6, True]           \n",
      "  7                  -1  1   2360320  ultralytics.nn.modules.conv.Conv             [512, 512, 3, 2]              \n",
      "  8                  -1  3   4461568  ultralytics.nn.modules.block.C2f             [512, 512, 3, True]           \n",
      "  9                  -1  1    656896  ultralytics.nn.modules.block.SPPF            [512, 512, 5]                 \n",
      " 10                  -1  1         0  torch.nn.modules.upsampling.Upsample         [None, 2, 'nearest']          \n",
      " 11             [-1, 6]  1         0  ultralytics.nn.modules.conv.Concat           [1]                           \n",
      " 12                  -1  3   4723712  ultralytics.nn.modules.block.C2f             [1024, 512, 3]                \n",
      " 13                  -1  1         0  torch.nn.modules.upsampling.Upsample         [None, 2, 'nearest']          \n",
      " 14             [-1, 4]  1         0  ultralytics.nn.modules.conv.Concat           [1]                           \n",
      " 15                  -1  3   1247744  ultralytics.nn.modules.block.C2f             [768, 256, 3]                 \n",
      " 16                  -1  1    590336  ultralytics.nn.modules.conv.Conv             [256, 256, 3, 2]              \n",
      " 17            [-1, 12]  1         0  ultralytics.nn.modules.conv.Concat           [1]                           \n",
      " 18                  -1  3   4592640  ultralytics.nn.modules.block.C2f             [768, 512, 3]                 \n",
      " 19                  -1  1   2360320  ultralytics.nn.modules.conv.Conv             [512, 512, 3, 2]              \n",
      " 20             [-1, 9]  1         0  ultralytics.nn.modules.conv.Concat           [1]                           \n",
      " 21                  -1  3   4723712  ultralytics.nn.modules.block.C2f             [1024, 512, 3]                \n",
      " 22        [15, 18, 21]  1   5585113  ultralytics.nn.modules.head.Detect           [3, [256, 512, 512]]          \n",
      "Model summary: 209 layers, 43,632,153 parameters, 43,632,137 gradients, 165.4 GFLOPs\n",
      "\n",
      "Transferred 589/595 items from pretrained weights\n",
      "Freezing layer 'model.22.dfl.conv.weight'\n",
      "\u001b[34m\u001b[1mAMP: \u001b[0mrunning Automatic Mixed Precision (AMP) checks...\n",
      "\u001b[34m\u001b[1mAMP: \u001b[0mchecks passed \n",
      "\u001b[34m\u001b[1mtrain: \u001b[0mFast image access  (ping: 0.70.1 ms, read: 200.542.1 MB/s, size: 2900.0 KB)\n"
     ]
    },
    {
     "name": "stderr",
     "output_type": "stream",
     "text": [
      "\u001b[34m\u001b[1mtrain: \u001b[0mScanning D:\\HackByte_Dataset\\data\\train\\labels.cache... 846 images, 5 backgrounds, 0 corrupt: 100%|██████████| 8\u001b[0m"
     ]
    },
    {
     "name": "stdout",
     "output_type": "stream",
     "text": [
      "\u001b[34m\u001b[1mval: \u001b[0mFast image access  (ping: 0.70.2 ms, read: 199.850.0 MB/s, size: 3015.9 KB)\n"
     ]
    },
    {
     "name": "stderr",
     "output_type": "stream",
     "text": [
      "\n",
      "\u001b[34m\u001b[1mval: \u001b[0mScanning D:\\HackByte_Dataset\\data\\val\\labels.cache... 154 images, 0 backgrounds, 0 corrupt: 100%|██████████| 154/1\u001b[0m\n"
     ]
    },
    {
     "name": "stdout",
     "output_type": "stream",
     "text": [
      "Plotting labels to runs\\detect\\HackByte_YOLOv8L4\\labels.jpg... \n",
      "\u001b[34m\u001b[1moptimizer:\u001b[0m SGD(lr=0.001, momentum=0.937) with parameter groups 97 weight(decay=0.0), 104 weight(decay=0.0005), 103 bias(decay=0.0)\n",
      "Image sizes 640 train, 640 val\n",
      "Using 0 dataloader workers\n",
      "Logging results to \u001b[1mruns\\detect\\HackByte_YOLOv8L4\u001b[0m\n",
      "Starting training for 100 epochs...\n",
      "\n",
      "      Epoch    GPU_mem   box_loss   cls_loss   dfl_loss  Instances       Size\n"
     ]
    },
    {
     "name": "stderr",
     "output_type": "stream",
     "text": [
      "      1/100      1.81G      0.919      3.232      1.277          4        640: 100%|██████████| 423/423 [07:18<00:00,  \n",
      "                 Class     Images  Instances      Box(P          R      mAP50  mAP50-95): 100%|██████████| 39/39 [00:29"
     ]
    },
    {
     "name": "stdout",
     "output_type": "stream",
     "text": [
      "                   all        154        206      0.675      0.588      0.622      0.552\n"
     ]
    },
    {
     "name": "stderr",
     "output_type": "stream",
     "text": [
      "\n"
     ]
    },
    {
     "name": "stdout",
     "output_type": "stream",
     "text": [
      "\n",
      "      Epoch    GPU_mem   box_loss   cls_loss   dfl_loss  Instances       Size\n"
     ]
    },
    {
     "name": "stderr",
     "output_type": "stream",
     "text": [
      "      2/100      1.98G     0.7636      1.761      1.165          4        640: 100%|██████████| 423/423 [07:02<00:00,  \n",
      "                 Class     Images  Instances      Box(P          R      mAP50  mAP50-95): 100%|██████████| 39/39 [00:36"
     ]
    },
    {
     "name": "stdout",
     "output_type": "stream",
     "text": [
      "                   all        154        206      0.879      0.774      0.832      0.752\n"
     ]
    },
    {
     "name": "stderr",
     "output_type": "stream",
     "text": [
      "\n"
     ]
    },
    {
     "name": "stdout",
     "output_type": "stream",
     "text": [
      "\n",
      "      Epoch    GPU_mem   box_loss   cls_loss   dfl_loss  Instances       Size\n"
     ]
    },
    {
     "name": "stderr",
     "output_type": "stream",
     "text": [
      "      3/100      1.98G     0.6956      1.149      1.119          7        640: 100%|██████████| 423/423 [05:50<00:00,  \n",
      "                 Class     Images  Instances      Box(P          R      mAP50  mAP50-95): 100%|██████████| 39/39 [00:29"
     ]
    },
    {
     "name": "stdout",
     "output_type": "stream",
     "text": [
      "                   all        154        206      0.933      0.862      0.921      0.843\n"
     ]
    },
    {
     "name": "stderr",
     "output_type": "stream",
     "text": [
      "\n"
     ]
    },
    {
     "name": "stdout",
     "output_type": "stream",
     "text": [
      "\n",
      "      Epoch    GPU_mem   box_loss   cls_loss   dfl_loss  Instances       Size\n"
     ]
    },
    {
     "name": "stderr",
     "output_type": "stream",
     "text": [
      "      4/100      2.15G     0.6304      0.873      1.057          8        640: 100%|██████████| 423/423 [06:05<00:00,  \n",
      "                 Class     Images  Instances      Box(P          R      mAP50  mAP50-95): 100%|██████████| 39/39 [00:29"
     ]
    },
    {
     "name": "stdout",
     "output_type": "stream",
     "text": [
      "                   all        154        206      0.964      0.872      0.929      0.868\n"
     ]
    },
    {
     "name": "stderr",
     "output_type": "stream",
     "text": [
      "\n"
     ]
    },
    {
     "name": "stdout",
     "output_type": "stream",
     "text": [
      "\n",
      "      Epoch    GPU_mem   box_loss   cls_loss   dfl_loss  Instances       Size\n"
     ]
    },
    {
     "name": "stderr",
     "output_type": "stream",
     "text": [
      "      5/100      1.97G     0.6294     0.7909      1.058          9        640: 100%|██████████| 423/423 [05:41<00:00,  \n",
      "                 Class     Images  Instances      Box(P          R      mAP50  mAP50-95): 100%|██████████| 39/39 [00:28"
     ]
    },
    {
     "name": "stdout",
     "output_type": "stream",
     "text": [
      "                   all        154        206      0.959      0.885      0.944       0.86\n"
     ]
    },
    {
     "name": "stderr",
     "output_type": "stream",
     "text": [
      "\n"
     ]
    },
    {
     "name": "stdout",
     "output_type": "stream",
     "text": [
      "\n",
      "      Epoch    GPU_mem   box_loss   cls_loss   dfl_loss  Instances       Size\n"
     ]
    },
    {
     "name": "stderr",
     "output_type": "stream",
     "text": [
      "      6/100      2.16G     0.5933     0.6622      1.021          4        640: 100%|██████████| 423/423 [05:52<00:00,  \n",
      "                 Class     Images  Instances      Box(P          R      mAP50  mAP50-95): 100%|██████████| 39/39 [00:30"
     ]
    },
    {
     "name": "stdout",
     "output_type": "stream",
     "text": [
      "                   all        154        206       0.96      0.914      0.955      0.883\n"
     ]
    },
    {
     "name": "stderr",
     "output_type": "stream",
     "text": [
      "\n"
     ]
    },
    {
     "name": "stdout",
     "output_type": "stream",
     "text": [
      "\n",
      "      Epoch    GPU_mem   box_loss   cls_loss   dfl_loss  Instances       Size\n"
     ]
    },
    {
     "name": "stderr",
     "output_type": "stream",
     "text": [
      "      7/100      2.01G       0.57     0.6221      1.004          7        640: 100%|██████████| 423/423 [05:37<00:00,  \n",
      "                 Class     Images  Instances      Box(P          R      mAP50  mAP50-95): 100%|██████████| 39/39 [00:30<00:00,"
     ]
    },
    {
     "name": "stdout",
     "output_type": "stream",
     "text": [
      "                   all        154        206      0.985      0.892      0.951      0.886\n"
     ]
    },
    {
     "name": "stderr",
     "output_type": "stream",
     "text": [
      "\n"
     ]
    },
    {
     "name": "stdout",
     "output_type": "stream",
     "text": [
      "\n",
      "      Epoch    GPU_mem   box_loss   cls_loss   dfl_loss  Instances       Size\n"
     ]
    },
    {
     "name": "stderr",
     "output_type": "stream",
     "text": [
      "      8/100      1.98G      0.565     0.6002      1.005          3        640: 100%|██████████| 423/423 [05:37<00:00,  1.25it/\n",
      "                 Class     Images  Instances      Box(P          R      mAP50  mAP50-95): 100%|██████████| 39/39 [00:30<00:00,"
     ]
    },
    {
     "name": "stdout",
     "output_type": "stream",
     "text": [
      "                   all        154        206      0.957      0.927       0.96      0.901\n"
     ]
    },
    {
     "name": "stderr",
     "output_type": "stream",
     "text": [
      "\n"
     ]
    },
    {
     "name": "stdout",
     "output_type": "stream",
     "text": [
      "\n",
      "      Epoch    GPU_mem   box_loss   cls_loss   dfl_loss  Instances       Size\n"
     ]
    },
    {
     "name": "stderr",
     "output_type": "stream",
     "text": [
      "      9/100      2.15G     0.5356     0.5484     0.9873          4        640: 100%|██████████| 423/423 [05:42<00:00,  1.23it/\n",
      "                 Class     Images  Instances      Box(P          R      mAP50  mAP50-95): 100%|██████████| 39/39 [00:29<00:00,"
     ]
    },
    {
     "name": "stdout",
     "output_type": "stream",
     "text": [
      "                   all        154        206      0.972      0.914      0.949      0.892\n"
     ]
    },
    {
     "name": "stderr",
     "output_type": "stream",
     "text": [
      "\n"
     ]
    },
    {
     "name": "stdout",
     "output_type": "stream",
     "text": [
      "\n",
      "      Epoch    GPU_mem   box_loss   cls_loss   dfl_loss  Instances       Size\n"
     ]
    },
    {
     "name": "stderr",
     "output_type": "stream",
     "text": [
      "     10/100         2G     0.5326     0.5323     0.9937          8        640: 100%|██████████| 423/423 [05:38<00:00,  1.25it/\n",
      "                 Class     Images  Instances      Box(P          R      mAP50  mAP50-95): 100%|██████████| 39/39 [00:29"
     ]
    },
    {
     "name": "stdout",
     "output_type": "stream",
     "text": [
      "                   all        154        206      0.957      0.918      0.957      0.898\n"
     ]
    },
    {
     "name": "stderr",
     "output_type": "stream",
     "text": [
      "\n"
     ]
    },
    {
     "name": "stdout",
     "output_type": "stream",
     "text": [
      "\n",
      "      Epoch    GPU_mem   box_loss   cls_loss   dfl_loss  Instances       Size\n"
     ]
    },
    {
     "name": "stderr",
     "output_type": "stream",
     "text": [
      "     11/100      1.97G     0.5437     0.5263     0.9958          7        640: 100%|██████████| 423/423 [05:41<00:00,  \n",
      "                 Class     Images  Instances      Box(P          R      mAP50  mAP50-95): 100%|██████████| 39/39 [00:30"
     ]
    },
    {
     "name": "stdout",
     "output_type": "stream",
     "text": [
      "                   all        154        206      0.966      0.918      0.965      0.908\n"
     ]
    },
    {
     "name": "stderr",
     "output_type": "stream",
     "text": [
      "\n"
     ]
    },
    {
     "name": "stdout",
     "output_type": "stream",
     "text": [
      "\n",
      "      Epoch    GPU_mem   box_loss   cls_loss   dfl_loss  Instances       Size\n"
     ]
    },
    {
     "name": "stderr",
     "output_type": "stream",
     "text": [
      "     12/100      2.15G     0.4981     0.4939     0.9632          4        640: 100%|██████████| 423/423 [06:05<00:00,  \n",
      "                 Class     Images  Instances      Box(P          R      mAP50  mAP50-95): 100%|██████████| 39/39 [00:31"
     ]
    },
    {
     "name": "stdout",
     "output_type": "stream",
     "text": [
      "                   all        154        206      0.974      0.913      0.958        0.9\n"
     ]
    },
    {
     "name": "stderr",
     "output_type": "stream",
     "text": [
      "\n"
     ]
    },
    {
     "name": "stdout",
     "output_type": "stream",
     "text": [
      "\n",
      "      Epoch    GPU_mem   box_loss   cls_loss   dfl_loss  Instances       Size\n"
     ]
    },
    {
     "name": "stderr",
     "output_type": "stream",
     "text": [
      "     13/100      2.01G      0.515     0.4914     0.9799         13        640: 100%|██████████| 423/423 [05:53<00:00,  \n",
      "                 Class     Images  Instances      Box(P          R      mAP50  mAP50-95): 100%|██████████| 39/39 [00:29"
     ]
    },
    {
     "name": "stdout",
     "output_type": "stream",
     "text": [
      "                   all        154        206      0.977      0.932      0.963      0.908\n"
     ]
    },
    {
     "name": "stderr",
     "output_type": "stream",
     "text": [
      "\n"
     ]
    },
    {
     "name": "stdout",
     "output_type": "stream",
     "text": [
      "\n",
      "      Epoch    GPU_mem   box_loss   cls_loss   dfl_loss  Instances       Size\n"
     ]
    },
    {
     "name": "stderr",
     "output_type": "stream",
     "text": [
      "     14/100      1.97G      0.518     0.4952     0.9664          8        640: 100%|██████████| 423/423 [05:36<00:00,  \n",
      "                 Class     Images  Instances      Box(P          R      mAP50  mAP50-95): 100%|██████████| 39/39 [00:31"
     ]
    },
    {
     "name": "stdout",
     "output_type": "stream",
     "text": [
      "                   all        154        206      0.978      0.937      0.967      0.908\n"
     ]
    },
    {
     "name": "stderr",
     "output_type": "stream",
     "text": [
      "\n"
     ]
    },
    {
     "name": "stdout",
     "output_type": "stream",
     "text": [
      "\n",
      "      Epoch    GPU_mem   box_loss   cls_loss   dfl_loss  Instances       Size\n"
     ]
    },
    {
     "name": "stderr",
     "output_type": "stream",
     "text": [
      "     15/100      2.16G     0.4971      0.464     0.9582          6        640: 100%|██████████| 423/423 [05:42<00:00,  \n",
      "                 Class     Images  Instances      Box(P          R      mAP50  mAP50-95): 100%|██████████| 39/39 [00:30"
     ]
    },
    {
     "name": "stdout",
     "output_type": "stream",
     "text": [
      "                   all        154        206      0.965      0.949      0.969      0.918\n"
     ]
    },
    {
     "name": "stderr",
     "output_type": "stream",
     "text": [
      "\n"
     ]
    },
    {
     "name": "stdout",
     "output_type": "stream",
     "text": [
      "\n",
      "      Epoch    GPU_mem   box_loss   cls_loss   dfl_loss  Instances       Size\n"
     ]
    },
    {
     "name": "stderr",
     "output_type": "stream",
     "text": [
      "     16/100      1.99G     0.4969     0.4819     0.9561          6        640: 100%|██████████| 423/423 [05:48<00:00,  \n",
      "                 Class     Images  Instances      Box(P          R      mAP50  mAP50-95): 100%|██████████| 39/39 [00:31"
     ]
    },
    {
     "name": "stdout",
     "output_type": "stream",
     "text": [
      "                   all        154        206      0.975      0.924      0.968      0.922\n"
     ]
    },
    {
     "name": "stderr",
     "output_type": "stream",
     "text": [
      "\n"
     ]
    },
    {
     "name": "stdout",
     "output_type": "stream",
     "text": [
      "\n",
      "      Epoch    GPU_mem   box_loss   cls_loss   dfl_loss  Instances       Size\n"
     ]
    },
    {
     "name": "stderr",
     "output_type": "stream",
     "text": [
      "     17/100      2.17G     0.5012     0.4652     0.9734         14        640: 100%|██████████| 423/423 [05:50<00:00,  \n",
      "                 Class     Images  Instances      Box(P          R      mAP50  mAP50-95): 100%|██████████| 39/39 [00:31"
     ]
    },
    {
     "name": "stdout",
     "output_type": "stream",
     "text": [
      "                   all        154        206      0.972      0.929       0.97      0.919\n"
     ]
    },
    {
     "name": "stderr",
     "output_type": "stream",
     "text": [
      "\n"
     ]
    },
    {
     "name": "stdout",
     "output_type": "stream",
     "text": [
      "\n",
      "      Epoch    GPU_mem   box_loss   cls_loss   dfl_loss  Instances       Size\n"
     ]
    },
    {
     "name": "stderr",
     "output_type": "stream",
     "text": [
      "     18/100      1.97G      0.488      0.451     0.9535          9        640: 100%|██████████| 423/423 [05:58<00:00,  \n",
      "                 Class     Images  Instances      Box(P          R      mAP50  mAP50-95): 100%|██████████| 39/39 [00:30"
     ]
    },
    {
     "name": "stdout",
     "output_type": "stream",
     "text": [
      "                   all        154        206      0.982      0.923      0.968      0.918\n"
     ]
    },
    {
     "name": "stderr",
     "output_type": "stream",
     "text": [
      "\n"
     ]
    },
    {
     "name": "stdout",
     "output_type": "stream",
     "text": [
      "\n",
      "      Epoch    GPU_mem   box_loss   cls_loss   dfl_loss  Instances       Size\n"
     ]
    },
    {
     "name": "stderr",
     "output_type": "stream",
     "text": [
      "     19/100      2.15G     0.4793     0.4276     0.9489         13        640: 100%|██████████| 423/423 [05:42<00:00,  \n",
      "                 Class     Images  Instances      Box(P          R      mAP50  mAP50-95): 100%|██████████| 39/39 [00:30"
     ]
    },
    {
     "name": "stdout",
     "output_type": "stream",
     "text": [
      "                   all        154        206      0.981      0.928      0.969      0.926\n"
     ]
    },
    {
     "name": "stderr",
     "output_type": "stream",
     "text": [
      "\n"
     ]
    },
    {
     "name": "stdout",
     "output_type": "stream",
     "text": [
      "\n",
      "      Epoch    GPU_mem   box_loss   cls_loss   dfl_loss  Instances       Size\n"
     ]
    },
    {
     "name": "stderr",
     "output_type": "stream",
     "text": [
      "     20/100      2.01G     0.4964     0.4487     0.9521          8        640: 100%|██████████| 423/423 [05:47<00:00,  \n",
      "                 Class     Images  Instances      Box(P          R      mAP50  mAP50-95): 100%|██████████| 39/39 [00:30"
     ]
    },
    {
     "name": "stdout",
     "output_type": "stream",
     "text": [
      "                   all        154        206      0.992      0.926      0.965       0.92\n"
     ]
    },
    {
     "name": "stderr",
     "output_type": "stream",
     "text": [
      "\n"
     ]
    },
    {
     "name": "stdout",
     "output_type": "stream",
     "text": [
      "\n",
      "      Epoch    GPU_mem   box_loss   cls_loss   dfl_loss  Instances       Size\n"
     ]
    },
    {
     "name": "stderr",
     "output_type": "stream",
     "text": [
      "     21/100      1.98G     0.4693     0.4079     0.9426          9        640: 100%|██████████| 423/423 [05:51<00:00,  \n",
      "                 Class     Images  Instances      Box(P          R      mAP50  mAP50-95): 100%|██████████| 39/39 [00:31"
     ]
    },
    {
     "name": "stdout",
     "output_type": "stream",
     "text": [
      "                   all        154        206      0.993      0.928      0.968      0.927\n"
     ]
    },
    {
     "name": "stderr",
     "output_type": "stream",
     "text": [
      "\n"
     ]
    },
    {
     "name": "stdout",
     "output_type": "stream",
     "text": [
      "\n",
      "      Epoch    GPU_mem   box_loss   cls_loss   dfl_loss  Instances       Size\n"
     ]
    },
    {
     "name": "stderr",
     "output_type": "stream",
     "text": [
      "     22/100      2.15G     0.4818     0.3998      0.945          3        640: 100%|██████████| 423/423 [05:52<00:00,  \n",
      "                 Class     Images  Instances      Box(P          R      mAP50  mAP50-95): 100%|██████████| 39/39 [00:30"
     ]
    },
    {
     "name": "stdout",
     "output_type": "stream",
     "text": [
      "                   all        154        206      0.988      0.924      0.969      0.922\n"
     ]
    },
    {
     "name": "stderr",
     "output_type": "stream",
     "text": [
      "\n"
     ]
    },
    {
     "name": "stdout",
     "output_type": "stream",
     "text": [
      "\n",
      "      Epoch    GPU_mem   box_loss   cls_loss   dfl_loss  Instances       Size\n"
     ]
    },
    {
     "name": "stderr",
     "output_type": "stream",
     "text": [
      "     23/100      1.97G      0.486     0.4133      0.943          6        640: 100%|██████████| 423/423 [05:51<00:00,  \n",
      "                 Class     Images  Instances      Box(P          R      mAP50  mAP50-95): 100%|██████████| 39/39 [00:30"
     ]
    },
    {
     "name": "stdout",
     "output_type": "stream",
     "text": [
      "                   all        154        206      0.986      0.936      0.968      0.924\n"
     ]
    },
    {
     "name": "stderr",
     "output_type": "stream",
     "text": [
      "\n"
     ]
    },
    {
     "name": "stdout",
     "output_type": "stream",
     "text": [
      "\n",
      "      Epoch    GPU_mem   box_loss   cls_loss   dfl_loss  Instances       Size\n"
     ]
    },
    {
     "name": "stderr",
     "output_type": "stream",
     "text": [
      "     24/100       2.2G     0.4925     0.4258     0.9443          6        640: 100%|██████████| 423/423 [05:50<00:00,  \n",
      "                 Class     Images  Instances      Box(P          R      mAP50  mAP50-95): 100%|██████████| 39/39 [00:30"
     ]
    },
    {
     "name": "stdout",
     "output_type": "stream",
     "text": [
      "                   all        154        206      0.987      0.932      0.966      0.922\n"
     ]
    },
    {
     "name": "stderr",
     "output_type": "stream",
     "text": [
      "\n"
     ]
    },
    {
     "name": "stdout",
     "output_type": "stream",
     "text": [
      "\n",
      "      Epoch    GPU_mem   box_loss   cls_loss   dfl_loss  Instances       Size\n"
     ]
    },
    {
     "name": "stderr",
     "output_type": "stream",
     "text": [
      "     25/100      1.98G     0.4614     0.3982     0.9314          6        640: 100%|██████████| 423/423 [05:41<00:00,  \n",
      "                 Class     Images  Instances      Box(P          R      mAP50  mAP50-95): 100%|██████████| 39/39 [00:30"
     ]
    },
    {
     "name": "stdout",
     "output_type": "stream",
     "text": [
      "                   all        154        206      0.989      0.928      0.972      0.923\n"
     ]
    },
    {
     "name": "stderr",
     "output_type": "stream",
     "text": [
      "\n"
     ]
    },
    {
     "name": "stdout",
     "output_type": "stream",
     "text": [
      "\n",
      "      Epoch    GPU_mem   box_loss   cls_loss   dfl_loss  Instances       Size\n"
     ]
    },
    {
     "name": "stderr",
     "output_type": "stream",
     "text": [
      "     26/100      2.16G     0.4577     0.3963       0.94          8        640: 100%|██████████| 423/423 [05:42<00:00,  \n",
      "                 Class     Images  Instances      Box(P          R      mAP50  mAP50-95): 100%|██████████| 39/39 [00:30"
     ]
    },
    {
     "name": "stdout",
     "output_type": "stream",
     "text": [
      "                   all        154        206          1      0.931       0.97      0.925\n"
     ]
    },
    {
     "name": "stderr",
     "output_type": "stream",
     "text": [
      "\n"
     ]
    },
    {
     "name": "stdout",
     "output_type": "stream",
     "text": [
      "\n",
      "      Epoch    GPU_mem   box_loss   cls_loss   dfl_loss  Instances       Size\n"
     ]
    },
    {
     "name": "stderr",
     "output_type": "stream",
     "text": [
      "     27/100      1.98G     0.4843     0.4229      0.952          4        640: 100%|██████████| 423/423 [05:35<00:00,  \n",
      "                 Class     Images  Instances      Box(P          R      mAP50  mAP50-95): 100%|██████████| 39/39 [00:32"
     ]
    },
    {
     "name": "stdout",
     "output_type": "stream",
     "text": [
      "                   all        154        206      0.998      0.904      0.963      0.915\n"
     ]
    },
    {
     "name": "stderr",
     "output_type": "stream",
     "text": [
      "\n"
     ]
    },
    {
     "name": "stdout",
     "output_type": "stream",
     "text": [
      "\n",
      "      Epoch    GPU_mem   box_loss   cls_loss   dfl_loss  Instances       Size\n"
     ]
    },
    {
     "name": "stderr",
     "output_type": "stream",
     "text": [
      "     28/100      2.18G     0.4721     0.4273     0.9369          4        640: 100%|██████████| 423/423 [05:49<00:00,  \n",
      "                 Class     Images  Instances      Box(P          R      mAP50  mAP50-95): 100%|██████████| 39/39 [00:30"
     ]
    },
    {
     "name": "stdout",
     "output_type": "stream",
     "text": [
      "                   all        154        206      0.979       0.94      0.966       0.92\n"
     ]
    },
    {
     "name": "stderr",
     "output_type": "stream",
     "text": [
      "\n"
     ]
    },
    {
     "name": "stdout",
     "output_type": "stream",
     "text": [
      "\n",
      "      Epoch    GPU_mem   box_loss   cls_loss   dfl_loss  Instances       Size\n"
     ]
    },
    {
     "name": "stderr",
     "output_type": "stream",
     "text": [
      "     29/100      2.02G     0.4573     0.3833     0.9337          5        640: 100%|██████████| 423/423 [05:55<00:00,  \n",
      "                 Class     Images  Instances      Box(P          R      mAP50  mAP50-95): 100%|██████████| 39/39 [00:31"
     ]
    },
    {
     "name": "stdout",
     "output_type": "stream",
     "text": [
      "                   all        154        206       0.99      0.927      0.965      0.922\n"
     ]
    },
    {
     "name": "stderr",
     "output_type": "stream",
     "text": [
      "\n"
     ]
    },
    {
     "name": "stdout",
     "output_type": "stream",
     "text": [
      "\n",
      "      Epoch    GPU_mem   box_loss   cls_loss   dfl_loss  Instances       Size\n"
     ]
    },
    {
     "name": "stderr",
     "output_type": "stream",
     "text": [
      "     30/100      1.97G     0.4622     0.4029     0.9334          6        640: 100%|██████████| 423/423 [05:41<00:00,  \n",
      "                 Class     Images  Instances      Box(P          R      mAP50  mAP50-95): 100%|██████████| 39/39 [00:29"
     ]
    },
    {
     "name": "stdout",
     "output_type": "stream",
     "text": [
      "                   all        154        206      0.987      0.935      0.967      0.926\n"
     ]
    },
    {
     "name": "stderr",
     "output_type": "stream",
     "text": [
      "\n"
     ]
    },
    {
     "name": "stdout",
     "output_type": "stream",
     "text": [
      "\n",
      "      Epoch    GPU_mem   box_loss   cls_loss   dfl_loss  Instances       Size\n"
     ]
    },
    {
     "name": "stderr",
     "output_type": "stream",
     "text": [
      "     31/100      2.17G     0.4456     0.3726     0.9334          3        640: 100%|██████████| 423/423 [05:55<00:00,  \n",
      "                 Class     Images  Instances      Box(P          R      mAP50  mAP50-95): 100%|██████████| 39/39 [00:29"
     ]
    },
    {
     "name": "stdout",
     "output_type": "stream",
     "text": [
      "                   all        154        206      0.987      0.933      0.965      0.926\n"
     ]
    },
    {
     "name": "stderr",
     "output_type": "stream",
     "text": [
      "\n"
     ]
    },
    {
     "name": "stdout",
     "output_type": "stream",
     "text": [
      "\n",
      "      Epoch    GPU_mem   box_loss   cls_loss   dfl_loss  Instances       Size\n"
     ]
    },
    {
     "name": "stderr",
     "output_type": "stream",
     "text": [
      "     32/100      1.99G     0.4488     0.3761     0.9294         11        640: 100%|██████████| 423/423 [05:52<00:00,  \n",
      "                 Class     Images  Instances      Box(P          R      mAP50  mAP50-95): 100%|██████████| 39/39 [00:31"
     ]
    },
    {
     "name": "stdout",
     "output_type": "stream",
     "text": [
      "                   all        154        206      0.966       0.94      0.969      0.929\n"
     ]
    },
    {
     "name": "stderr",
     "output_type": "stream",
     "text": [
      "\n"
     ]
    },
    {
     "name": "stdout",
     "output_type": "stream",
     "text": [
      "\n",
      "      Epoch    GPU_mem   box_loss   cls_loss   dfl_loss  Instances       Size\n"
     ]
    },
    {
     "name": "stderr",
     "output_type": "stream",
     "text": [
      "     33/100      2.17G     0.4501     0.3795     0.9266         10        640: 100%|██████████| 423/423 [05:39<00:00,  \n",
      "                 Class     Images  Instances      Box(P          R      mAP50  mAP50-95): 100%|██████████| 39/39 [00:30"
     ]
    },
    {
     "name": "stdout",
     "output_type": "stream",
     "text": [
      "                   all        154        206      0.977       0.93      0.963      0.919\n"
     ]
    },
    {
     "name": "stderr",
     "output_type": "stream",
     "text": [
      "\n"
     ]
    },
    {
     "name": "stdout",
     "output_type": "stream",
     "text": [
      "\n",
      "      Epoch    GPU_mem   box_loss   cls_loss   dfl_loss  Instances       Size\n"
     ]
    },
    {
     "name": "stderr",
     "output_type": "stream",
     "text": [
      "     34/100      1.99G     0.4465     0.3722     0.9317         10        640: 100%|██████████| 423/423 [05:43<00:00,  \n",
      "                 Class     Images  Instances      Box(P          R      mAP50  mAP50-95): 100%|██████████| 39/39 [00:31"
     ]
    },
    {
     "name": "stdout",
     "output_type": "stream",
     "text": [
      "                   all        154        206      0.992      0.921       0.97      0.926\n"
     ]
    },
    {
     "name": "stderr",
     "output_type": "stream",
     "text": [
      "\n"
     ]
    },
    {
     "name": "stdout",
     "output_type": "stream",
     "text": [
      "\n",
      "      Epoch    GPU_mem   box_loss   cls_loss   dfl_loss  Instances       Size\n"
     ]
    },
    {
     "name": "stderr",
     "output_type": "stream",
     "text": [
      "     35/100      2.17G     0.4264     0.3625     0.9081          6        640: 100%|██████████| 423/423 [05:40<00:00,  \n",
      "                 Class     Images  Instances      Box(P          R      mAP50  mAP50-95): 100%|██████████| 39/39 [00:30"
     ]
    },
    {
     "name": "stdout",
     "output_type": "stream",
     "text": [
      "                   all        154        206      0.997      0.919       0.97      0.927\n"
     ]
    },
    {
     "name": "stderr",
     "output_type": "stream",
     "text": [
      "\n"
     ]
    },
    {
     "name": "stdout",
     "output_type": "stream",
     "text": [
      "\n",
      "      Epoch    GPU_mem   box_loss   cls_loss   dfl_loss  Instances       Size\n"
     ]
    },
    {
     "name": "stderr",
     "output_type": "stream",
     "text": [
      "     36/100         2G     0.4164     0.3529     0.9116          5        640: 100%|██████████| 423/423 [05:45<00:00,  \n",
      "                 Class     Images  Instances      Box(P          R      mAP50  mAP50-95): 100%|██████████| 39/39 [00:30"
     ]
    },
    {
     "name": "stdout",
     "output_type": "stream",
     "text": [
      "                   all        154        206      0.989       0.92      0.968      0.926\n"
     ]
    },
    {
     "name": "stderr",
     "output_type": "stream",
     "text": [
      "\n"
     ]
    },
    {
     "name": "stdout",
     "output_type": "stream",
     "text": [
      "\n",
      "      Epoch    GPU_mem   box_loss   cls_loss   dfl_loss  Instances       Size\n"
     ]
    },
    {
     "name": "stderr",
     "output_type": "stream",
     "text": [
      "     37/100      1.98G     0.4414     0.3844     0.9351          4        640: 100%|██████████| 423/423 [05:43<00:00,  \n",
      "                 Class     Images  Instances      Box(P          R      mAP50  mAP50-95): 100%|██████████| 39/39 [00:30"
     ]
    },
    {
     "name": "stdout",
     "output_type": "stream",
     "text": [
      "                   all        154        206      0.966      0.952      0.975      0.932\n"
     ]
    },
    {
     "name": "stderr",
     "output_type": "stream",
     "text": [
      "\n"
     ]
    },
    {
     "name": "stdout",
     "output_type": "stream",
     "text": [
      "\n",
      "      Epoch    GPU_mem   box_loss   cls_loss   dfl_loss  Instances       Size\n"
     ]
    },
    {
     "name": "stderr",
     "output_type": "stream",
     "text": [
      "     38/100      2.15G     0.4368      0.365       0.93          6        640: 100%|██████████| 423/423 [05:41<00:00,  \n",
      "                 Class     Images  Instances      Box(P          R      mAP50  mAP50-95): 100%|██████████| 39/39 [00:31"
     ]
    },
    {
     "name": "stdout",
     "output_type": "stream",
     "text": [
      "                   all        154        206      0.992      0.934      0.974      0.929\n"
     ]
    },
    {
     "name": "stderr",
     "output_type": "stream",
     "text": [
      "\n"
     ]
    },
    {
     "name": "stdout",
     "output_type": "stream",
     "text": [
      "\n",
      "      Epoch    GPU_mem   box_loss   cls_loss   dfl_loss  Instances       Size\n"
     ]
    },
    {
     "name": "stderr",
     "output_type": "stream",
     "text": [
      "     39/100      1.99G     0.4395     0.3692     0.9231          5        640: 100%|██████████| 423/423 [05:46<00:00,  \n",
      "                 Class     Images  Instances      Box(P          R      mAP50  mAP50-95): 100%|██████████| 39/39 [00:31"
     ]
    },
    {
     "name": "stdout",
     "output_type": "stream",
     "text": [
      "                   all        154        206      0.981      0.942      0.968      0.928\n"
     ]
    },
    {
     "name": "stderr",
     "output_type": "stream",
     "text": [
      "\n"
     ]
    },
    {
     "name": "stdout",
     "output_type": "stream",
     "text": [
      "\n",
      "      Epoch    GPU_mem   box_loss   cls_loss   dfl_loss  Instances       Size\n"
     ]
    },
    {
     "name": "stderr",
     "output_type": "stream",
     "text": [
      "     40/100      2.17G     0.4551     0.3797     0.9329          7        640: 100%|██████████| 423/423 [05:42<00:00,  \n",
      "                 Class     Images  Instances      Box(P          R      mAP50  mAP50-95): 100%|██████████| 39/39 [00:30"
     ]
    },
    {
     "name": "stdout",
     "output_type": "stream",
     "text": [
      "                   all        154        206      0.992       0.93      0.971      0.924\n"
     ]
    },
    {
     "name": "stderr",
     "output_type": "stream",
     "text": [
      "\n"
     ]
    },
    {
     "name": "stdout",
     "output_type": "stream",
     "text": [
      "\n",
      "      Epoch    GPU_mem   box_loss   cls_loss   dfl_loss  Instances       Size\n"
     ]
    },
    {
     "name": "stderr",
     "output_type": "stream",
     "text": [
      "     41/100      1.98G     0.4434     0.3561     0.9251          6        640: 100%|██████████| 423/423 [05:42<00:00,  \n",
      "                 Class     Images  Instances      Box(P          R      mAP50  mAP50-95): 100%|██████████| 39/39 [00:31"
     ]
    },
    {
     "name": "stdout",
     "output_type": "stream",
     "text": [
      "                   all        154        206      0.985      0.922      0.967       0.92\n"
     ]
    },
    {
     "name": "stderr",
     "output_type": "stream",
     "text": [
      "\n"
     ]
    },
    {
     "name": "stdout",
     "output_type": "stream",
     "text": [
      "\n",
      "      Epoch    GPU_mem   box_loss   cls_loss   dfl_loss  Instances       Size\n"
     ]
    },
    {
     "name": "stderr",
     "output_type": "stream",
     "text": [
      "     42/100      2.16G     0.4339     0.3596     0.9273          7        640: 100%|██████████| 423/423 [05:48<00:00,  \n",
      "                 Class     Images  Instances      Box(P          R      mAP50  mAP50-95): 100%|██████████| 39/39 [00:30"
     ]
    },
    {
     "name": "stdout",
     "output_type": "stream",
     "text": [
      "                   all        154        206      0.987      0.932      0.966      0.927\n"
     ]
    },
    {
     "name": "stderr",
     "output_type": "stream",
     "text": [
      "\n"
     ]
    },
    {
     "name": "stdout",
     "output_type": "stream",
     "text": [
      "\n",
      "      Epoch    GPU_mem   box_loss   cls_loss   dfl_loss  Instances       Size\n"
     ]
    },
    {
     "name": "stderr",
     "output_type": "stream",
     "text": [
      "     43/100      1.99G     0.4393     0.3464     0.9216          5        640: 100%|██████████| 423/423 [05:43<00:00,  \n",
      "                 Class     Images  Instances      Box(P          R      mAP50  mAP50-95): 100%|██████████| 39/39 [00:30"
     ]
    },
    {
     "name": "stdout",
     "output_type": "stream",
     "text": [
      "                   all        154        206       0.98      0.932       0.97      0.928\n"
     ]
    },
    {
     "name": "stderr",
     "output_type": "stream",
     "text": [
      "\n"
     ]
    },
    {
     "name": "stdout",
     "output_type": "stream",
     "text": [
      "\n",
      "      Epoch    GPU_mem   box_loss   cls_loss   dfl_loss  Instances       Size\n"
     ]
    },
    {
     "name": "stderr",
     "output_type": "stream",
     "text": [
      "     44/100      2.17G     0.4115     0.3305     0.9125          5        640: 100%|██████████| 423/423 [05:39<00:00,  \n",
      "                 Class     Images  Instances      Box(P          R      mAP50  mAP50-95): 100%|██████████| 39/39 [00:30"
     ]
    },
    {
     "name": "stdout",
     "output_type": "stream",
     "text": [
      "                   all        154        206      0.989      0.929      0.961      0.923\n"
     ]
    },
    {
     "name": "stderr",
     "output_type": "stream",
     "text": [
      "\n"
     ]
    },
    {
     "name": "stdout",
     "output_type": "stream",
     "text": [
      "\n",
      "      Epoch    GPU_mem   box_loss   cls_loss   dfl_loss  Instances       Size\n"
     ]
    },
    {
     "name": "stderr",
     "output_type": "stream",
     "text": [
      "     45/100      1.98G     0.4328     0.3441     0.9194         16        640: 100%|██████████| 423/423 [05:48<00:00,  \n",
      "                 Class     Images  Instances      Box(P          R      mAP50  mAP50-95): 100%|██████████| 39/39 [00:30"
     ]
    },
    {
     "name": "stdout",
     "output_type": "stream",
     "text": [
      "                   all        154        206      0.974      0.929      0.961      0.924\n"
     ]
    },
    {
     "name": "stderr",
     "output_type": "stream",
     "text": [
      "\n"
     ]
    },
    {
     "name": "stdout",
     "output_type": "stream",
     "text": [
      "\n",
      "      Epoch    GPU_mem   box_loss   cls_loss   dfl_loss  Instances       Size\n"
     ]
    },
    {
     "name": "stderr",
     "output_type": "stream",
     "text": [
      "     46/100      2.15G      0.428     0.3525     0.9218          2        640: 100%|██████████| 423/423 [05:41<00:00,  \n",
      "                 Class     Images  Instances      Box(P          R      mAP50  mAP50-95): 100%|██████████| 39/39 [00:32"
     ]
    },
    {
     "name": "stdout",
     "output_type": "stream",
     "text": [
      "                   all        154        206      0.983      0.919      0.962       0.92\n"
     ]
    },
    {
     "name": "stderr",
     "output_type": "stream",
     "text": [
      "\n"
     ]
    },
    {
     "name": "stdout",
     "output_type": "stream",
     "text": [
      "\n",
      "      Epoch    GPU_mem   box_loss   cls_loss   dfl_loss  Instances       Size\n"
     ]
    },
    {
     "name": "stderr",
     "output_type": "stream",
     "text": [
      "     47/100         2G     0.4272     0.3465     0.9223          7        640: 100%|██████████| 423/423 [05:52<00:00,  \n",
      "                 Class     Images  Instances      Box(P          R      mAP50  mAP50-95): 100%|██████████| 39/39 [00:31"
     ]
    },
    {
     "name": "stdout",
     "output_type": "stream",
     "text": [
      "                   all        154        206      0.984      0.918      0.969      0.926\n"
     ]
    },
    {
     "name": "stderr",
     "output_type": "stream",
     "text": [
      "\n"
     ]
    },
    {
     "name": "stdout",
     "output_type": "stream",
     "text": [
      "\n",
      "      Epoch    GPU_mem   box_loss   cls_loss   dfl_loss  Instances       Size\n"
     ]
    },
    {
     "name": "stderr",
     "output_type": "stream",
     "text": [
      "     48/100      1.97G     0.3982     0.3118     0.9144          3        640: 100%|██████████| 423/423 [05:32<00:00,  \n",
      "                 Class     Images  Instances      Box(P          R      mAP50  mAP50-95): 100%|██████████| 39/39 [00:31"
     ]
    },
    {
     "name": "stdout",
     "output_type": "stream",
     "text": [
      "                   all        154        206      0.979      0.943      0.971      0.934\n"
     ]
    },
    {
     "name": "stderr",
     "output_type": "stream",
     "text": [
      "\n"
     ]
    },
    {
     "name": "stdout",
     "output_type": "stream",
     "text": [
      "\n",
      "      Epoch    GPU_mem   box_loss   cls_loss   dfl_loss  Instances       Size\n"
     ]
    },
    {
     "name": "stderr",
     "output_type": "stream",
     "text": [
      "     49/100      2.17G     0.4175     0.3283     0.9196          7        640: 100%|██████████| 423/423 [05:46<00:00,  \n",
      "                 Class     Images  Instances      Box(P          R      mAP50  mAP50-95): 100%|██████████| 39/39 [00:30"
     ]
    },
    {
     "name": "stdout",
     "output_type": "stream",
     "text": [
      "                   all        154        206      0.978      0.944      0.969      0.925\n"
     ]
    },
    {
     "name": "stderr",
     "output_type": "stream",
     "text": [
      "\n"
     ]
    },
    {
     "name": "stdout",
     "output_type": "stream",
     "text": [
      "\n",
      "      Epoch    GPU_mem   box_loss   cls_loss   dfl_loss  Instances       Size\n"
     ]
    },
    {
     "name": "stderr",
     "output_type": "stream",
     "text": [
      "     50/100      1.99G     0.4141     0.3382     0.9163          8        640: 100%|██████████| 423/423 [05:40<00:00,  \n",
      "                 Class     Images  Instances      Box(P          R      mAP50  mAP50-95): 100%|██████████| 39/39 [00:31"
     ]
    },
    {
     "name": "stdout",
     "output_type": "stream",
     "text": [
      "                   all        154        206      0.986       0.93      0.966      0.928\n"
     ]
    },
    {
     "name": "stderr",
     "output_type": "stream",
     "text": [
      "\n"
     ]
    },
    {
     "name": "stdout",
     "output_type": "stream",
     "text": [
      "\n",
      "      Epoch    GPU_mem   box_loss   cls_loss   dfl_loss  Instances       Size\n"
     ]
    },
    {
     "name": "stderr",
     "output_type": "stream",
     "text": [
      "     51/100      2.15G     0.3943     0.3224     0.9032          5        640: 100%|██████████| 423/423 [05:41<00:00,  \n",
      "                 Class     Images  Instances      Box(P          R      mAP50  mAP50-95): 100%|██████████| 39/39 [00:30"
     ]
    },
    {
     "name": "stdout",
     "output_type": "stream",
     "text": [
      "                   all        154        206      0.985      0.936      0.969      0.922\n"
     ]
    },
    {
     "name": "stderr",
     "output_type": "stream",
     "text": [
      "\n"
     ]
    },
    {
     "name": "stdout",
     "output_type": "stream",
     "text": [
      "\n",
      "      Epoch    GPU_mem   box_loss   cls_loss   dfl_loss  Instances       Size\n"
     ]
    },
    {
     "name": "stderr",
     "output_type": "stream",
     "text": [
      "     52/100         2G     0.4005     0.3296     0.9111         10        640: 100%|██████████| 423/423 [05:44<00:00,  \n",
      "                 Class     Images  Instances      Box(P          R      mAP50  mAP50-95): 100%|██████████| 39/39 [00:30"
     ]
    },
    {
     "name": "stdout",
     "output_type": "stream",
     "text": [
      "                   all        154        206      0.988      0.929       0.97      0.923\n"
     ]
    },
    {
     "name": "stderr",
     "output_type": "stream",
     "text": [
      "\n"
     ]
    },
    {
     "name": "stdout",
     "output_type": "stream",
     "text": [
      "\n",
      "      Epoch    GPU_mem   box_loss   cls_loss   dfl_loss  Instances       Size\n"
     ]
    },
    {
     "name": "stderr",
     "output_type": "stream",
     "text": [
      "     53/100      1.98G     0.3981      0.315     0.9103          7        640: 100%|██████████| 423/423 [05:37<00:00,  \n",
      "                 Class     Images  Instances      Box(P          R      mAP50  mAP50-95): 100%|██████████| 39/39 [00:31"
     ]
    },
    {
     "name": "stdout",
     "output_type": "stream",
     "text": [
      "                   all        154        206      0.993      0.918      0.972      0.933\n"
     ]
    },
    {
     "name": "stderr",
     "output_type": "stream",
     "text": [
      "\n"
     ]
    },
    {
     "name": "stdout",
     "output_type": "stream",
     "text": [
      "\n",
      "      Epoch    GPU_mem   box_loss   cls_loss   dfl_loss  Instances       Size\n"
     ]
    },
    {
     "name": "stderr",
     "output_type": "stream",
     "text": [
      "     54/100      2.16G     0.4064     0.3176     0.9144          6        640: 100%|██████████| 423/423 [05:43<00:00,  \n",
      "                 Class     Images  Instances      Box(P          R      mAP50  mAP50-95): 100%|██████████| 39/39 [00:31"
     ]
    },
    {
     "name": "stdout",
     "output_type": "stream",
     "text": [
      "                   all        154        206      0.988      0.945      0.973      0.928\n"
     ]
    },
    {
     "name": "stderr",
     "output_type": "stream",
     "text": [
      "\n"
     ]
    },
    {
     "name": "stdout",
     "output_type": "stream",
     "text": [
      "\n",
      "      Epoch    GPU_mem   box_loss   cls_loss   dfl_loss  Instances       Size\n"
     ]
    },
    {
     "name": "stderr",
     "output_type": "stream",
     "text": [
      "     55/100      2.01G     0.4019     0.3232     0.9069          6        640: 100%|██████████| 423/423 [05:37<00:00,  \n",
      "                 Class     Images  Instances      Box(P          R      mAP50  mAP50-95): 100%|██████████| 39/39 [00:29"
     ]
    },
    {
     "name": "stdout",
     "output_type": "stream",
     "text": [
      "                   all        154        206      0.981      0.947      0.973       0.93\n"
     ]
    },
    {
     "name": "stderr",
     "output_type": "stream",
     "text": [
      "\n"
     ]
    },
    {
     "name": "stdout",
     "output_type": "stream",
     "text": [
      "\n",
      "      Epoch    GPU_mem   box_loss   cls_loss   dfl_loss  Instances       Size\n"
     ]
    },
    {
     "name": "stderr",
     "output_type": "stream",
     "text": [
      "     56/100      1.97G      0.435     0.3428     0.9254         10        640: 100%|██████████| 423/423 [05:43<00:00,  \n",
      "                 Class     Images  Instances      Box(P          R      mAP50  mAP50-95): 100%|██████████| 39/39 [00:32"
     ]
    },
    {
     "name": "stdout",
     "output_type": "stream",
     "text": [
      "                   all        154        206       0.98      0.953      0.974      0.943\n"
     ]
    },
    {
     "name": "stderr",
     "output_type": "stream",
     "text": [
      "\n"
     ]
    },
    {
     "name": "stdout",
     "output_type": "stream",
     "text": [
      "\n",
      "      Epoch    GPU_mem   box_loss   cls_loss   dfl_loss  Instances       Size\n"
     ]
    },
    {
     "name": "stderr",
     "output_type": "stream",
     "text": [
      "     57/100      1.82G     0.3871     0.3102     0.9027          3        640: 100%|██████████| 423/423 [05:39<00:00,  \n",
      "                 Class     Images  Instances      Box(P          R      mAP50  mAP50-95): 100%|██████████| 39/39 [00:31"
     ]
    },
    {
     "name": "stdout",
     "output_type": "stream",
     "text": [
      "                   all        154        206      0.966      0.954      0.975      0.936\n"
     ]
    },
    {
     "name": "stderr",
     "output_type": "stream",
     "text": [
      "\n"
     ]
    },
    {
     "name": "stdout",
     "output_type": "stream",
     "text": [
      "\n",
      "      Epoch    GPU_mem   box_loss   cls_loss   dfl_loss  Instances       Size\n"
     ]
    },
    {
     "name": "stderr",
     "output_type": "stream",
     "text": [
      "     58/100      1.97G     0.4061     0.3085     0.9149          6        640: 100%|██████████| 423/423 [05:41<00:00,  \n",
      "                 Class     Images  Instances      Box(P          R      mAP50  mAP50-95): 100%|██████████| 39/39 [00:30"
     ]
    },
    {
     "name": "stdout",
     "output_type": "stream",
     "text": [
      "                   all        154        206      0.989      0.937      0.973      0.937\n"
     ]
    },
    {
     "name": "stderr",
     "output_type": "stream",
     "text": [
      "\n"
     ]
    },
    {
     "name": "stdout",
     "output_type": "stream",
     "text": [
      "\n",
      "      Epoch    GPU_mem   box_loss   cls_loss   dfl_loss  Instances       Size\n"
     ]
    },
    {
     "name": "stderr",
     "output_type": "stream",
     "text": [
      "     59/100      2.15G     0.3905     0.3105     0.9003          3        640: 100%|██████████| 423/423 [05:40<00:00,  \n",
      "                 Class     Images  Instances      Box(P          R      mAP50  mAP50-95): 100%|██████████| 39/39 [00:31"
     ]
    },
    {
     "name": "stdout",
     "output_type": "stream",
     "text": [
      "                   all        154        206      0.992      0.933      0.972       0.93\n"
     ]
    },
    {
     "name": "stderr",
     "output_type": "stream",
     "text": [
      "\n"
     ]
    },
    {
     "name": "stdout",
     "output_type": "stream",
     "text": [
      "\n",
      "      Epoch    GPU_mem   box_loss   cls_loss   dfl_loss  Instances       Size\n"
     ]
    },
    {
     "name": "stderr",
     "output_type": "stream",
     "text": [
      "     60/100      2.01G     0.4039     0.3316     0.9095          4        640: 100%|██████████| 423/423 [05:47<00:00,  \n",
      "                 Class     Images  Instances      Box(P          R      mAP50  mAP50-95): 100%|██████████| 39/39 [00:30"
     ]
    },
    {
     "name": "stdout",
     "output_type": "stream",
     "text": [
      "                   all        154        206      0.994      0.942       0.97      0.936\n"
     ]
    },
    {
     "name": "stderr",
     "output_type": "stream",
     "text": [
      "\n"
     ]
    },
    {
     "name": "stdout",
     "output_type": "stream",
     "text": [
      "\n",
      "      Epoch    GPU_mem   box_loss   cls_loss   dfl_loss  Instances       Size\n"
     ]
    },
    {
     "name": "stderr",
     "output_type": "stream",
     "text": [
      "     61/100         2G     0.3869     0.3184     0.9069          6        640: 100%|██████████| 423/423 [05:42<00:00,  \n",
      "                 Class     Images  Instances      Box(P          R      mAP50  mAP50-95): 100%|██████████| 39/39 [00:30"
     ]
    },
    {
     "name": "stdout",
     "output_type": "stream",
     "text": [
      "                   all        154        206      0.993      0.939      0.973      0.934\n"
     ]
    },
    {
     "name": "stderr",
     "output_type": "stream",
     "text": [
      "\n"
     ]
    },
    {
     "name": "stdout",
     "output_type": "stream",
     "text": [
      "\n",
      "      Epoch    GPU_mem   box_loss   cls_loss   dfl_loss  Instances       Size\n"
     ]
    },
    {
     "name": "stderr",
     "output_type": "stream",
     "text": [
      "     62/100         2G     0.3918     0.3041     0.8992          6        640: 100%|██████████| 423/423 [05:37<00:00,  \n",
      "                 Class     Images  Instances      Box(P          R      mAP50  mAP50-95): 100%|██████████| 39/39 [00:32"
     ]
    },
    {
     "name": "stdout",
     "output_type": "stream",
     "text": [
      "                   all        154        206      0.981      0.953      0.976      0.934\n"
     ]
    },
    {
     "name": "stderr",
     "output_type": "stream",
     "text": [
      "\n"
     ]
    },
    {
     "name": "stdout",
     "output_type": "stream",
     "text": [
      "\n",
      "      Epoch    GPU_mem   box_loss   cls_loss   dfl_loss  Instances       Size\n"
     ]
    },
    {
     "name": "stderr",
     "output_type": "stream",
     "text": [
      "     63/100      2.17G     0.3871     0.3118     0.8904         11        640: 100%|██████████| 423/423 [05:42<00:00,  \n",
      "                 Class     Images  Instances      Box(P          R      mAP50  mAP50-95): 100%|██████████| 39/39 [00:29"
     ]
    },
    {
     "name": "stdout",
     "output_type": "stream",
     "text": [
      "                   all        154        206      0.994      0.936      0.977      0.937\n"
     ]
    },
    {
     "name": "stderr",
     "output_type": "stream",
     "text": [
      "\n"
     ]
    },
    {
     "name": "stdout",
     "output_type": "stream",
     "text": [
      "\n",
      "      Epoch    GPU_mem   box_loss   cls_loss   dfl_loss  Instances       Size\n"
     ]
    },
    {
     "name": "stderr",
     "output_type": "stream",
     "text": [
      "     64/100      2.01G       0.39      0.306     0.8966         12        640: 100%|██████████| 423/423 [05:41<00:00,  \n",
      "                 Class     Images  Instances      Box(P          R      mAP50  mAP50-95): 100%|██████████| 39/39 [00:31"
     ]
    },
    {
     "name": "stdout",
     "output_type": "stream",
     "text": [
      "                   all        154        206      0.998      0.941      0.978      0.941\n"
     ]
    },
    {
     "name": "stderr",
     "output_type": "stream",
     "text": [
      "\n"
     ]
    },
    {
     "name": "stdout",
     "output_type": "stream",
     "text": [
      "\n",
      "      Epoch    GPU_mem   box_loss   cls_loss   dfl_loss  Instances       Size\n"
     ]
    },
    {
     "name": "stderr",
     "output_type": "stream",
     "text": [
      "     65/100      1.98G     0.3932     0.3005     0.9039          4        640: 100%|██████████| 423/423 [05:46<00:00,  \n",
      "                 Class     Images  Instances      Box(P          R      mAP50  mAP50-95): 100%|██████████| 39/39 [00:31"
     ]
    },
    {
     "name": "stdout",
     "output_type": "stream",
     "text": [
      "                   all        154        206      0.991      0.948      0.978      0.938\n"
     ]
    },
    {
     "name": "stderr",
     "output_type": "stream",
     "text": [
      "\n"
     ]
    },
    {
     "name": "stdout",
     "output_type": "stream",
     "text": [
      "\n",
      "      Epoch    GPU_mem   box_loss   cls_loss   dfl_loss  Instances       Size\n"
     ]
    },
    {
     "name": "stderr",
     "output_type": "stream",
     "text": [
      "     66/100      2.15G     0.3884     0.3046     0.8992          6        640: 100%|██████████| 423/423 [05:40<00:00,  \n",
      "                 Class     Images  Instances      Box(P          R      mAP50  mAP50-95): 100%|██████████| 39/39 [00:31"
     ]
    },
    {
     "name": "stdout",
     "output_type": "stream",
     "text": [
      "                   all        154        206      0.982      0.955      0.976      0.938\n"
     ]
    },
    {
     "name": "stderr",
     "output_type": "stream",
     "text": [
      "\n"
     ]
    },
    {
     "name": "stdout",
     "output_type": "stream",
     "text": [
      "\n",
      "      Epoch    GPU_mem   box_loss   cls_loss   dfl_loss  Instances       Size\n"
     ]
    },
    {
     "name": "stderr",
     "output_type": "stream",
     "text": [
      "     67/100      1.97G     0.3839     0.3128     0.8948          8        640: 100%|██████████| 423/423 [05:33<00:00,  \n",
      "                 Class     Images  Instances      Box(P          R      mAP50  mAP50-95): 100%|██████████| 39/39 [00:28"
     ]
    },
    {
     "name": "stdout",
     "output_type": "stream",
     "text": [
      "                   all        154        206       0.99      0.948      0.979      0.944\n"
     ]
    },
    {
     "name": "stderr",
     "output_type": "stream",
     "text": [
      "\n"
     ]
    },
    {
     "name": "stdout",
     "output_type": "stream",
     "text": [
      "\n",
      "      Epoch    GPU_mem   box_loss   cls_loss   dfl_loss  Instances       Size\n"
     ]
    },
    {
     "name": "stderr",
     "output_type": "stream",
     "text": [
      "     68/100      2.14G     0.3801     0.3047     0.9045          7        640: 100%|██████████| 423/423 [05:44<00:00,  \n",
      "                 Class     Images  Instances      Box(P          R      mAP50  mAP50-95): 100%|██████████| 39/39 [00:31"
     ]
    },
    {
     "name": "stdout",
     "output_type": "stream",
     "text": [
      "                   all        154        206      0.989      0.945      0.978      0.938\n"
     ]
    },
    {
     "name": "stderr",
     "output_type": "stream",
     "text": [
      "\n"
     ]
    },
    {
     "name": "stdout",
     "output_type": "stream",
     "text": [
      "\n",
      "      Epoch    GPU_mem   box_loss   cls_loss   dfl_loss  Instances       Size\n"
     ]
    },
    {
     "name": "stderr",
     "output_type": "stream",
     "text": [
      "     69/100      1.99G     0.3907     0.3078     0.9021         14        640: 100%|██████████| 423/423 [05:41<00:00,  \n",
      "                 Class     Images  Instances      Box(P          R      mAP50  mAP50-95): 100%|██████████| 39/39 [00:29"
     ]
    },
    {
     "name": "stdout",
     "output_type": "stream",
     "text": [
      "                   all        154        206      0.978      0.948      0.974      0.935\n"
     ]
    },
    {
     "name": "stderr",
     "output_type": "stream",
     "text": [
      "\n"
     ]
    },
    {
     "name": "stdout",
     "output_type": "stream",
     "text": [
      "\n",
      "      Epoch    GPU_mem   box_loss   cls_loss   dfl_loss  Instances       Size\n"
     ]
    },
    {
     "name": "stderr",
     "output_type": "stream",
     "text": [
      "     70/100      2.17G     0.3858     0.3113     0.9064          9        640: 100%|██████████| 423/423 [05:43<00:00,  \n",
      "                 Class     Images  Instances      Box(P          R      mAP50  mAP50-95): 100%|██████████| 39/39 [00:30"
     ]
    },
    {
     "name": "stdout",
     "output_type": "stream",
     "text": [
      "                   all        154        206      0.978      0.948      0.977       0.94\n"
     ]
    },
    {
     "name": "stderr",
     "output_type": "stream",
     "text": [
      "\n"
     ]
    },
    {
     "name": "stdout",
     "output_type": "stream",
     "text": [
      "\n",
      "      Epoch    GPU_mem   box_loss   cls_loss   dfl_loss  Instances       Size\n"
     ]
    },
    {
     "name": "stderr",
     "output_type": "stream",
     "text": [
      "     71/100      1.98G     0.3794     0.3007     0.9048          8        640: 100%|██████████| 423/423 [05:44<00:00,  \n",
      "                 Class     Images  Instances      Box(P          R      mAP50  mAP50-95): 100%|██████████| 39/39 [00:30"
     ]
    },
    {
     "name": "stdout",
     "output_type": "stream",
     "text": [
      "                   all        154        206      0.987      0.947      0.977      0.937\n"
     ]
    },
    {
     "name": "stderr",
     "output_type": "stream",
     "text": [
      "\n"
     ]
    },
    {
     "name": "stdout",
     "output_type": "stream",
     "text": [
      "\n",
      "      Epoch    GPU_mem   box_loss   cls_loss   dfl_loss  Instances       Size\n"
     ]
    },
    {
     "name": "stderr",
     "output_type": "stream",
     "text": [
      "     72/100      2.15G     0.3866     0.2949      0.897          6        640: 100%|██████████| 423/423 [05:34<00:00,  \n",
      "                 Class     Images  Instances      Box(P          R      mAP50  mAP50-95): 100%|██████████| 39/39 [00:29"
     ]
    },
    {
     "name": "stdout",
     "output_type": "stream",
     "text": [
      "                   all        154        206      0.988      0.953      0.975      0.937\n"
     ]
    },
    {
     "name": "stderr",
     "output_type": "stream",
     "text": [
      "\n"
     ]
    },
    {
     "name": "stdout",
     "output_type": "stream",
     "text": [
      "\n",
      "      Epoch    GPU_mem   box_loss   cls_loss   dfl_loss  Instances       Size\n"
     ]
    },
    {
     "name": "stderr",
     "output_type": "stream",
     "text": [
      "     73/100      2.01G     0.3812     0.2919     0.8942          4        640: 100%|██████████| 423/423 [05:42<00:00,  \n",
      "                 Class     Images  Instances      Box(P          R      mAP50  mAP50-95): 100%|██████████| 39/39 [00:29"
     ]
    },
    {
     "name": "stdout",
     "output_type": "stream",
     "text": [
      "                   all        154        206      0.979      0.954      0.974      0.941\n"
     ]
    },
    {
     "name": "stderr",
     "output_type": "stream",
     "text": [
      "\n"
     ]
    },
    {
     "name": "stdout",
     "output_type": "stream",
     "text": [
      "\n",
      "      Epoch    GPU_mem   box_loss   cls_loss   dfl_loss  Instances       Size\n"
     ]
    },
    {
     "name": "stderr",
     "output_type": "stream",
     "text": [
      "     74/100      1.97G     0.3776     0.2947     0.8918         16        640: 100%|██████████| 423/423 [05:35<00:00,  \n",
      "                 Class     Images  Instances      Box(P          R      mAP50  mAP50-95): 100%|██████████| 39/39 [00:30"
     ]
    },
    {
     "name": "stdout",
     "output_type": "stream",
     "text": [
      "                   all        154        206      0.989      0.943      0.973      0.937\n"
     ]
    },
    {
     "name": "stderr",
     "output_type": "stream",
     "text": [
      "\n"
     ]
    },
    {
     "name": "stdout",
     "output_type": "stream",
     "text": [
      "\n",
      "      Epoch    GPU_mem   box_loss   cls_loss   dfl_loss  Instances       Size\n"
     ]
    },
    {
     "name": "stderr",
     "output_type": "stream",
     "text": [
      "     75/100      2.16G     0.3647     0.2933     0.8907          6        640: 100%|██████████| 423/423 [05:40<00:00,  \n",
      "                 Class     Images  Instances      Box(P          R      mAP50  mAP50-95): 100%|██████████| 39/39 [00:29"
     ]
    },
    {
     "name": "stdout",
     "output_type": "stream",
     "text": [
      "                   all        154        206      0.987      0.942      0.978      0.943\n"
     ]
    },
    {
     "name": "stderr",
     "output_type": "stream",
     "text": [
      "\n"
     ]
    },
    {
     "name": "stdout",
     "output_type": "stream",
     "text": [
      "\n",
      "      Epoch    GPU_mem   box_loss   cls_loss   dfl_loss  Instances       Size\n"
     ]
    },
    {
     "name": "stderr",
     "output_type": "stream",
     "text": [
      "     76/100      1.97G     0.3665     0.2859     0.8915          9        640: 100%|██████████| 423/423 [05:38<00:00,  \n",
      "                 Class     Images  Instances      Box(P          R      mAP50  mAP50-95): 100%|██████████| 39/39 [00:29"
     ]
    },
    {
     "name": "stdout",
     "output_type": "stream",
     "text": [
      "                   all        154        206      0.988      0.946      0.978      0.942\n"
     ]
    },
    {
     "name": "stderr",
     "output_type": "stream",
     "text": [
      "\n"
     ]
    },
    {
     "name": "stdout",
     "output_type": "stream",
     "text": [
      "\n",
      "      Epoch    GPU_mem   box_loss   cls_loss   dfl_loss  Instances       Size\n"
     ]
    },
    {
     "name": "stderr",
     "output_type": "stream",
     "text": [
      "     77/100      2.16G     0.3684     0.2846     0.8956          5        640: 100%|██████████| 423/423 [05:43<00:00,  \n",
      "                 Class     Images  Instances      Box(P          R      mAP50  mAP50-95): 100%|██████████| 39/39 [00:28"
     ]
    },
    {
     "name": "stdout",
     "output_type": "stream",
     "text": [
      "                   all        154        206      0.987      0.941      0.977      0.941\n"
     ]
    },
    {
     "name": "stderr",
     "output_type": "stream",
     "text": [
      "\n"
     ]
    },
    {
     "name": "stdout",
     "output_type": "stream",
     "text": [
      "\n",
      "      Epoch    GPU_mem   box_loss   cls_loss   dfl_loss  Instances       Size\n"
     ]
    },
    {
     "name": "stderr",
     "output_type": "stream",
     "text": [
      "     78/100      1.97G     0.3659     0.2853     0.8996          9        640: 100%|██████████| 423/423 [05:39<00:00,  \n",
      "                 Class     Images  Instances      Box(P          R      mAP50  mAP50-95): 100%|██████████| 39/39 [00:30"
     ]
    },
    {
     "name": "stdout",
     "output_type": "stream",
     "text": [
      "                   all        154        206      0.989      0.943      0.977       0.94\n"
     ]
    },
    {
     "name": "stderr",
     "output_type": "stream",
     "text": [
      "\n"
     ]
    },
    {
     "name": "stdout",
     "output_type": "stream",
     "text": [
      "\n",
      "      Epoch    GPU_mem   box_loss   cls_loss   dfl_loss  Instances       Size\n"
     ]
    },
    {
     "name": "stderr",
     "output_type": "stream",
     "text": [
      "     79/100      2.17G     0.3781     0.2883     0.8998          6        640: 100%|██████████| 423/423 [05:38<00:00,  \n",
      "                 Class     Images  Instances      Box(P          R      mAP50  mAP50-95): 100%|██████████| 39/39 [00:31"
     ]
    },
    {
     "name": "stdout",
     "output_type": "stream",
     "text": [
      "                   all        154        206      0.991      0.937      0.976      0.939\n"
     ]
    },
    {
     "name": "stderr",
     "output_type": "stream",
     "text": [
      "\n"
     ]
    },
    {
     "name": "stdout",
     "output_type": "stream",
     "text": [
      "\n",
      "      Epoch    GPU_mem   box_loss   cls_loss   dfl_loss  Instances       Size\n"
     ]
    },
    {
     "name": "stderr",
     "output_type": "stream",
     "text": [
      "     80/100      1.98G     0.3724     0.2952     0.9005          4        640: 100%|██████████| 423/423 [05:44<00:00,  \n",
      "                 Class     Images  Instances      Box(P          R      mAP50  mAP50-95): 100%|██████████| 39/39 [00:32"
     ]
    },
    {
     "name": "stdout",
     "output_type": "stream",
     "text": [
      "                   all        154        206      0.994      0.935      0.976       0.94\n"
     ]
    },
    {
     "name": "stderr",
     "output_type": "stream",
     "text": [
      "\n"
     ]
    },
    {
     "name": "stdout",
     "output_type": "stream",
     "text": [
      "\n",
      "      Epoch    GPU_mem   box_loss   cls_loss   dfl_loss  Instances       Size\n"
     ]
    },
    {
     "name": "stderr",
     "output_type": "stream",
     "text": [
      "     81/100      2.17G     0.3749     0.2904     0.8987          4        640: 100%|██████████| 423/423 [05:49<00:00,  \n",
      "                 Class     Images  Instances      Box(P          R      mAP50  mAP50-95): 100%|██████████| 39/39 [00:30"
     ]
    },
    {
     "name": "stdout",
     "output_type": "stream",
     "text": [
      "                   all        154        206      0.982      0.953      0.977      0.937\n"
     ]
    },
    {
     "name": "stderr",
     "output_type": "stream",
     "text": [
      "\n"
     ]
    },
    {
     "name": "stdout",
     "output_type": "stream",
     "text": [
      "\n",
      "      Epoch    GPU_mem   box_loss   cls_loss   dfl_loss  Instances       Size\n"
     ]
    },
    {
     "name": "stderr",
     "output_type": "stream",
     "text": [
      "     82/100      1.99G     0.3632     0.2773     0.8927          9        640: 100%|██████████| 423/423 [05:46<00:00,  \n",
      "                 Class     Images  Instances      Box(P          R      mAP50  mAP50-95): 100%|██████████| 39/39 [00:31"
     ]
    },
    {
     "name": "stdout",
     "output_type": "stream",
     "text": [
      "                   all        154        206      0.999      0.943      0.977      0.942\n"
     ]
    },
    {
     "name": "stderr",
     "output_type": "stream",
     "text": [
      "\n"
     ]
    },
    {
     "name": "stdout",
     "output_type": "stream",
     "text": [
      "\n",
      "      Epoch    GPU_mem   box_loss   cls_loss   dfl_loss  Instances       Size\n"
     ]
    },
    {
     "name": "stderr",
     "output_type": "stream",
     "text": [
      "     83/100      2.16G     0.3646     0.2818     0.8942          7        640: 100%|██████████| 423/423 [05:46<00:00,  \n",
      "                 Class     Images  Instances      Box(P          R      mAP50  mAP50-95): 100%|██████████| 39/39 [00:30"
     ]
    },
    {
     "name": "stdout",
     "output_type": "stream",
     "text": [
      "                   all        154        206      0.992      0.945      0.977      0.942\n"
     ]
    },
    {
     "name": "stderr",
     "output_type": "stream",
     "text": [
      "\n"
     ]
    },
    {
     "name": "stdout",
     "output_type": "stream",
     "text": [
      "\n",
      "      Epoch    GPU_mem   box_loss   cls_loss   dfl_loss  Instances       Size\n"
     ]
    },
    {
     "name": "stderr",
     "output_type": "stream",
     "text": [
      "     84/100      1.97G     0.3799     0.2878     0.9034          9        640: 100%|██████████| 423/423 [05:45<00:00,  \n",
      "                 Class     Images  Instances      Box(P          R      mAP50  mAP50-95): 100%|██████████| 39/39 [00:30"
     ]
    },
    {
     "name": "stdout",
     "output_type": "stream",
     "text": [
      "                   all        154        206       0.98      0.948      0.977       0.94\n"
     ]
    },
    {
     "name": "stderr",
     "output_type": "stream",
     "text": [
      "\n"
     ]
    },
    {
     "name": "stdout",
     "output_type": "stream",
     "text": [
      "\n",
      "      Epoch    GPU_mem   box_loss   cls_loss   dfl_loss  Instances       Size\n"
     ]
    },
    {
     "name": "stderr",
     "output_type": "stream",
     "text": [
      "     85/100      2.17G      0.358     0.2767     0.8795          3        640: 100%|██████████| 423/423 [05:41<00:00,  \n",
      "                 Class     Images  Instances      Box(P          R      mAP50  mAP50-95): 100%|██████████| 39/39 [00:30"
     ]
    },
    {
     "name": "stdout",
     "output_type": "stream",
     "text": [
      "                   all        154        206      0.985      0.937      0.976       0.94\n"
     ]
    },
    {
     "name": "stderr",
     "output_type": "stream",
     "text": [
      "\n"
     ]
    },
    {
     "name": "stdout",
     "output_type": "stream",
     "text": [
      "\n",
      "      Epoch    GPU_mem   box_loss   cls_loss   dfl_loss  Instances       Size\n"
     ]
    },
    {
     "name": "stderr",
     "output_type": "stream",
     "text": [
      "     86/100      1.99G     0.3477     0.2675     0.8854         11        640: 100%|██████████| 423/423 [05:43<00:00,  \n",
      "                 Class     Images  Instances      Box(P          R      mAP50  mAP50-95): 100%|██████████| 39/39 [00:30"
     ]
    },
    {
     "name": "stdout",
     "output_type": "stream",
     "text": [
      "                   all        154        206      0.992      0.937      0.976      0.942\n"
     ]
    },
    {
     "name": "stderr",
     "output_type": "stream",
     "text": [
      "\n"
     ]
    },
    {
     "name": "stdout",
     "output_type": "stream",
     "text": [
      "\n",
      "      Epoch    GPU_mem   box_loss   cls_loss   dfl_loss  Instances       Size\n"
     ]
    },
    {
     "name": "stderr",
     "output_type": "stream",
     "text": [
      "     87/100      2.15G     0.3665     0.2791     0.8861          5        640: 100%|██████████| 423/423 [05:47<00:00,  \n",
      "                 Class     Images  Instances      Box(P          R      mAP50  mAP50-95): 100%|██████████| 39/39 [00:31"
     ]
    },
    {
     "name": "stdout",
     "output_type": "stream",
     "text": [
      "                   all        154        206       0.99      0.941      0.978      0.942\n"
     ]
    },
    {
     "name": "stderr",
     "output_type": "stream",
     "text": [
      "\n"
     ]
    },
    {
     "name": "stdout",
     "output_type": "stream",
     "text": [
      "\n",
      "      Epoch    GPU_mem   box_loss   cls_loss   dfl_loss  Instances       Size\n"
     ]
    },
    {
     "name": "stderr",
     "output_type": "stream",
     "text": [
      "     88/100      1.98G     0.3594      0.276     0.8895         10        640: 100%|██████████| 423/423 [05:48<00:00,  \n",
      "                 Class     Images  Instances      Box(P          R      mAP50  mAP50-95): 100%|██████████| 39/39 [00:30"
     ]
    },
    {
     "name": "stdout",
     "output_type": "stream",
     "text": [
      "                   all        154        206      0.995      0.933      0.977      0.939\n"
     ]
    },
    {
     "name": "stderr",
     "output_type": "stream",
     "text": [
      "\n"
     ]
    },
    {
     "name": "stdout",
     "output_type": "stream",
     "text": [
      "\n",
      "      Epoch    GPU_mem   box_loss   cls_loss   dfl_loss  Instances       Size\n"
     ]
    },
    {
     "name": "stderr",
     "output_type": "stream",
     "text": [
      "     89/100      2.15G     0.3564     0.2747     0.8857          3        640: 100%|██████████| 423/423 [05:47<00:00,  \n",
      "                 Class     Images  Instances      Box(P          R      mAP50  mAP50-95): 100%|██████████| 39/39 [00:31"
     ]
    },
    {
     "name": "stdout",
     "output_type": "stream",
     "text": [
      "                   all        154        206      0.992      0.934      0.976      0.939\n"
     ]
    },
    {
     "name": "stderr",
     "output_type": "stream",
     "text": [
      "\n"
     ]
    },
    {
     "name": "stdout",
     "output_type": "stream",
     "text": [
      "\n",
      "      Epoch    GPU_mem   box_loss   cls_loss   dfl_loss  Instances       Size\n"
     ]
    },
    {
     "name": "stderr",
     "output_type": "stream",
     "text": [
      "     90/100      1.97G      0.362     0.2719     0.8943         13        640: 100%|██████████| 423/423 [05:37<00:00,  \n",
      "                 Class     Images  Instances      Box(P          R      mAP50  mAP50-95): 100%|██████████| 39/39 [00:29"
     ]
    },
    {
     "name": "stdout",
     "output_type": "stream",
     "text": [
      "                   all        154        206      0.993      0.935      0.977      0.942\n"
     ]
    },
    {
     "name": "stderr",
     "output_type": "stream",
     "text": [
      "\n"
     ]
    },
    {
     "name": "stdout",
     "output_type": "stream",
     "text": [
      "\n",
      "      Epoch    GPU_mem   box_loss   cls_loss   dfl_loss  Instances       Size\n"
     ]
    },
    {
     "name": "stderr",
     "output_type": "stream",
     "text": [
      "     91/100      2.16G     0.3478     0.2679     0.8837          3        640: 100%|██████████| 423/423 [05:43<00:00,  \n",
      "                 Class     Images  Instances      Box(P          R      mAP50  mAP50-95): 100%|██████████| 39/39 [00:30"
     ]
    },
    {
     "name": "stdout",
     "output_type": "stream",
     "text": [
      "                   all        154        206      0.994       0.93      0.976      0.939\n"
     ]
    },
    {
     "name": "stderr",
     "output_type": "stream",
     "text": [
      "\n"
     ]
    },
    {
     "name": "stdout",
     "output_type": "stream",
     "text": [
      "\n",
      "      Epoch    GPU_mem   box_loss   cls_loss   dfl_loss  Instances       Size\n"
     ]
    },
    {
     "name": "stderr",
     "output_type": "stream",
     "text": [
      "     92/100      1.99G     0.3546      0.274     0.8964          7        640: 100%|██████████| 423/423 [05:36<00:00,  \n",
      "                 Class     Images  Instances      Box(P          R      mAP50  mAP50-95): 100%|██████████| 39/39 [00:31"
     ]
    },
    {
     "name": "stdout",
     "output_type": "stream",
     "text": [
      "                   all        154        206      0.967      0.961      0.978      0.942\n"
     ]
    },
    {
     "name": "stderr",
     "output_type": "stream",
     "text": [
      "\n"
     ]
    },
    {
     "name": "stdout",
     "output_type": "stream",
     "text": [
      "\n",
      "      Epoch    GPU_mem   box_loss   cls_loss   dfl_loss  Instances       Size\n"
     ]
    },
    {
     "name": "stderr",
     "output_type": "stream",
     "text": [
      "     93/100      2.15G     0.3637     0.2816      0.896          8        640: 100%|██████████| 423/423 [05:47<00:00,  \n",
      "                 Class     Images  Instances      Box(P          R      mAP50  mAP50-95): 100%|██████████| 39/39 [00:30"
     ]
    },
    {
     "name": "stdout",
     "output_type": "stream",
     "text": [
      "                   all        154        206      0.994      0.933      0.976      0.941\n"
     ]
    },
    {
     "name": "stderr",
     "output_type": "stream",
     "text": [
      "\n"
     ]
    },
    {
     "name": "stdout",
     "output_type": "stream",
     "text": [
      "\n",
      "      Epoch    GPU_mem   box_loss   cls_loss   dfl_loss  Instances       Size\n"
     ]
    },
    {
     "name": "stderr",
     "output_type": "stream",
     "text": [
      "     94/100      1.98G     0.3526      0.254      0.883          7        640: 100%|██████████| 423/423 [05:50<00:00,  \n",
      "                 Class     Images  Instances      Box(P          R      mAP50  mAP50-95): 100%|██████████| 39/39 [00:31"
     ]
    },
    {
     "name": "stdout",
     "output_type": "stream",
     "text": [
      "                   all        154        206      0.995      0.932      0.978      0.944\n"
     ]
    },
    {
     "name": "stderr",
     "output_type": "stream",
     "text": [
      "\n"
     ]
    },
    {
     "name": "stdout",
     "output_type": "stream",
     "text": [
      "\n",
      "      Epoch    GPU_mem   box_loss   cls_loss   dfl_loss  Instances       Size\n"
     ]
    },
    {
     "name": "stderr",
     "output_type": "stream",
     "text": [
      "     95/100      2.15G     0.3574     0.2695     0.8831          3        640: 100%|██████████| 423/423 [05:48<00:00,  \n",
      "                 Class     Images  Instances      Box(P          R      mAP50  mAP50-95): 100%|██████████| 39/39 [00:30"
     ]
    },
    {
     "name": "stdout",
     "output_type": "stream",
     "text": [
      "                   all        154        206      0.995      0.932      0.978      0.942\n"
     ]
    },
    {
     "name": "stderr",
     "output_type": "stream",
     "text": [
      "\n"
     ]
    },
    {
     "name": "stdout",
     "output_type": "stream",
     "text": [
      "\n",
      "      Epoch    GPU_mem   box_loss   cls_loss   dfl_loss  Instances       Size\n"
     ]
    },
    {
     "name": "stderr",
     "output_type": "stream",
     "text": [
      "     96/100      1.99G      0.353     0.2761     0.8878         10        640: 100%|██████████| 423/423 [05:42<00:00,  \n",
      "                 Class     Images  Instances      Box(P          R      mAP50  mAP50-95): 100%|██████████| 39/39 [00:30"
     ]
    },
    {
     "name": "stdout",
     "output_type": "stream",
     "text": [
      "                   all        154        206      0.992      0.935      0.978      0.944\n"
     ]
    },
    {
     "name": "stderr",
     "output_type": "stream",
     "text": [
      "\n"
     ]
    },
    {
     "name": "stdout",
     "output_type": "stream",
     "text": [
      "\n",
      "      Epoch    GPU_mem   box_loss   cls_loss   dfl_loss  Instances       Size\n"
     ]
    },
    {
     "name": "stderr",
     "output_type": "stream",
     "text": [
      "     97/100      2.15G     0.3372     0.2504     0.8802          5        640: 100%|██████████| 423/423 [05:50<00:00,  \n",
      "                 Class     Images  Instances      Box(P          R      mAP50  mAP50-95): 100%|██████████| 39/39 [00:31"
     ]
    },
    {
     "name": "stdout",
     "output_type": "stream",
     "text": [
      "                   all        154        206      0.993      0.935      0.977      0.939\n"
     ]
    },
    {
     "name": "stderr",
     "output_type": "stream",
     "text": [
      "\n"
     ]
    },
    {
     "name": "stdout",
     "output_type": "stream",
     "text": [
      "\n",
      "      Epoch    GPU_mem   box_loss   cls_loss   dfl_loss  Instances       Size\n"
     ]
    },
    {
     "name": "stderr",
     "output_type": "stream",
     "text": [
      "     98/100      2.01G     0.3516     0.2688     0.8874          9        640: 100%|██████████| 423/423 [05:33<00:00,  \n",
      "                 Class     Images  Instances      Box(P          R      mAP50  mAP50-95): 100%|██████████| 39/39 [00:30"
     ]
    },
    {
     "name": "stdout",
     "output_type": "stream",
     "text": [
      "                   all        154        206      0.991      0.937      0.978      0.942\n"
     ]
    },
    {
     "name": "stderr",
     "output_type": "stream",
     "text": [
      "\n"
     ]
    },
    {
     "name": "stdout",
     "output_type": "stream",
     "text": [
      "\n",
      "      Epoch    GPU_mem   box_loss   cls_loss   dfl_loss  Instances       Size\n"
     ]
    },
    {
     "name": "stderr",
     "output_type": "stream",
     "text": [
      "     99/100      1.99G      0.365     0.2656     0.8906          5        640: 100%|██████████| 423/423 [05:48<00:00,  \n",
      "                 Class     Images  Instances      Box(P          R      mAP50  mAP50-95): 100%|██████████| 39/39 [00:31"
     ]
    },
    {
     "name": "stdout",
     "output_type": "stream",
     "text": [
      "                   all        154        206      0.989      0.937      0.976      0.941\n"
     ]
    },
    {
     "name": "stderr",
     "output_type": "stream",
     "text": [
      "\n"
     ]
    },
    {
     "name": "stdout",
     "output_type": "stream",
     "text": [
      "\n",
      "      Epoch    GPU_mem   box_loss   cls_loss   dfl_loss  Instances       Size\n"
     ]
    },
    {
     "name": "stderr",
     "output_type": "stream",
     "text": [
      "    100/100      2.15G     0.3483     0.2625     0.8829          6        640: 100%|██████████| 423/423 [05:45<00:00,  \n",
      "                 Class     Images  Instances      Box(P          R      mAP50  mAP50-95): 100%|██████████| 39/39 [00:30"
     ]
    },
    {
     "name": "stdout",
     "output_type": "stream",
     "text": [
      "                   all        154        206      0.987      0.938      0.976      0.943\n"
     ]
    },
    {
     "name": "stderr",
     "output_type": "stream",
     "text": [
      "\n"
     ]
    },
    {
     "name": "stdout",
     "output_type": "stream",
     "text": [
      "\n",
      "100 epochs completed in 10.563 hours.\n",
      "Optimizer stripped from runs\\detect\\HackByte_YOLOv8L4\\weights\\last.pt, 87.6MB\n",
      "Optimizer stripped from runs\\detect\\HackByte_YOLOv8L4\\weights\\best.pt, 87.6MB\n",
      "\n",
      "Validating runs\\detect\\HackByte_YOLOv8L4\\weights\\best.pt...\n",
      "Ultralytics 8.3.156  Python-3.10.18 torch-2.7.1+cu118 CUDA:0 (NVIDIA GeForce RTX 3050 Laptop GPU, 4096MiB)\n",
      "Model summary (fused): 112 layers, 43,608,921 parameters, 0 gradients, 164.8 GFLOPs\n"
     ]
    },
    {
     "name": "stderr",
     "output_type": "stream",
     "text": [
      "                 Class     Images  Instances      Box(P          R      mAP50  mAP50-95): 100%|██████████| 39/39 [00:29\n"
     ]
    },
    {
     "name": "stdout",
     "output_type": "stream",
     "text": [
      "                   all        154        206      0.995      0.932      0.978      0.944\n",
      "      FireExtinguisher         67         67      0.997       0.97      0.987      0.957\n",
      "               ToolBox         60         60      0.989      0.917       0.97      0.946\n",
      "            OxygenTank         79         79          1      0.908      0.976      0.929\n",
      "Speed: 0.4ms preprocess, 23.3ms inference, 0.0ms loss, 5.7ms postprocess per image\n",
      "Results saved to \u001b[1mruns\\detect\\HackByte_YOLOv8L4\u001b[0m\n"
     ]
    },
    {
     "data": {
      "text/plain": [
       "ultralytics.utils.metrics.DetMetrics object with attributes:\n",
       "\n",
       "ap_class_index: array([0, 1, 2])\n",
       "box: ultralytics.utils.metrics.Metric object\n",
       "confusion_matrix: <ultralytics.utils.metrics.ConfusionMatrix object at 0x0000022782048DC0>\n",
       "curves: ['Precision-Recall(B)', 'F1-Confidence(B)', 'Precision-Confidence(B)', 'Recall-Confidence(B)']\n",
       "curves_results: [[array([          0,    0.001001,    0.002002,    0.003003,    0.004004,    0.005005,    0.006006,    0.007007,    0.008008,    0.009009,     0.01001,    0.011011,    0.012012,    0.013013,    0.014014,    0.015015,    0.016016,    0.017017,    0.018018,    0.019019,     0.02002,    0.021021,    0.022022,    0.023023,\n",
       "          0.024024,    0.025025,    0.026026,    0.027027,    0.028028,    0.029029,     0.03003,    0.031031,    0.032032,    0.033033,    0.034034,    0.035035,    0.036036,    0.037037,    0.038038,    0.039039,     0.04004,    0.041041,    0.042042,    0.043043,    0.044044,    0.045045,    0.046046,    0.047047,\n",
       "          0.048048,    0.049049,     0.05005,    0.051051,    0.052052,    0.053053,    0.054054,    0.055055,    0.056056,    0.057057,    0.058058,    0.059059,     0.06006,    0.061061,    0.062062,    0.063063,    0.064064,    0.065065,    0.066066,    0.067067,    0.068068,    0.069069,     0.07007,    0.071071,\n",
       "          0.072072,    0.073073,    0.074074,    0.075075,    0.076076,    0.077077,    0.078078,    0.079079,     0.08008,    0.081081,    0.082082,    0.083083,    0.084084,    0.085085,    0.086086,    0.087087,    0.088088,    0.089089,     0.09009,    0.091091,    0.092092,    0.093093,    0.094094,    0.095095,\n",
       "          0.096096,    0.097097,    0.098098,    0.099099,      0.1001,      0.1011,      0.1021,      0.1031,      0.1041,     0.10511,     0.10611,     0.10711,     0.10811,     0.10911,     0.11011,     0.11111,     0.11211,     0.11311,     0.11411,     0.11512,     0.11612,     0.11712,     0.11812,     0.11912,\n",
       "           0.12012,     0.12112,     0.12212,     0.12312,     0.12412,     0.12513,     0.12613,     0.12713,     0.12813,     0.12913,     0.13013,     0.13113,     0.13213,     0.13313,     0.13413,     0.13514,     0.13614,     0.13714,     0.13814,     0.13914,     0.14014,     0.14114,     0.14214,     0.14314,\n",
       "           0.14414,     0.14515,     0.14615,     0.14715,     0.14815,     0.14915,     0.15015,     0.15115,     0.15215,     0.15315,     0.15415,     0.15516,     0.15616,     0.15716,     0.15816,     0.15916,     0.16016,     0.16116,     0.16216,     0.16316,     0.16416,     0.16517,     0.16617,     0.16717,\n",
       "           0.16817,     0.16917,     0.17017,     0.17117,     0.17217,     0.17317,     0.17417,     0.17518,     0.17618,     0.17718,     0.17818,     0.17918,     0.18018,     0.18118,     0.18218,     0.18318,     0.18418,     0.18519,     0.18619,     0.18719,     0.18819,     0.18919,     0.19019,     0.19119,\n",
       "           0.19219,     0.19319,     0.19419,      0.1952,      0.1962,      0.1972,      0.1982,      0.1992,      0.2002,      0.2012,      0.2022,      0.2032,      0.2042,     0.20521,     0.20621,     0.20721,     0.20821,     0.20921,     0.21021,     0.21121,     0.21221,     0.21321,     0.21421,     0.21522,\n",
       "           0.21622,     0.21722,     0.21822,     0.21922,     0.22022,     0.22122,     0.22222,     0.22322,     0.22422,     0.22523,     0.22623,     0.22723,     0.22823,     0.22923,     0.23023,     0.23123,     0.23223,     0.23323,     0.23423,     0.23524,     0.23624,     0.23724,     0.23824,     0.23924,\n",
       "           0.24024,     0.24124,     0.24224,     0.24324,     0.24424,     0.24525,     0.24625,     0.24725,     0.24825,     0.24925,     0.25025,     0.25125,     0.25225,     0.25325,     0.25425,     0.25526,     0.25626,     0.25726,     0.25826,     0.25926,     0.26026,     0.26126,     0.26226,     0.26326,\n",
       "           0.26426,     0.26527,     0.26627,     0.26727,     0.26827,     0.26927,     0.27027,     0.27127,     0.27227,     0.27327,     0.27427,     0.27528,     0.27628,     0.27728,     0.27828,     0.27928,     0.28028,     0.28128,     0.28228,     0.28328,     0.28428,     0.28529,     0.28629,     0.28729,\n",
       "           0.28829,     0.28929,     0.29029,     0.29129,     0.29229,     0.29329,     0.29429,      0.2953,      0.2963,      0.2973,      0.2983,      0.2993,      0.3003,      0.3013,      0.3023,      0.3033,      0.3043,     0.30531,     0.30631,     0.30731,     0.30831,     0.30931,     0.31031,     0.31131,\n",
       "           0.31231,     0.31331,     0.31431,     0.31532,     0.31632,     0.31732,     0.31832,     0.31932,     0.32032,     0.32132,     0.32232,     0.32332,     0.32432,     0.32533,     0.32633,     0.32733,     0.32833,     0.32933,     0.33033,     0.33133,     0.33233,     0.33333,     0.33433,     0.33534,\n",
       "           0.33634,     0.33734,     0.33834,     0.33934,     0.34034,     0.34134,     0.34234,     0.34334,     0.34434,     0.34535,     0.34635,     0.34735,     0.34835,     0.34935,     0.35035,     0.35135,     0.35235,     0.35335,     0.35435,     0.35536,     0.35636,     0.35736,     0.35836,     0.35936,\n",
       "           0.36036,     0.36136,     0.36236,     0.36336,     0.36436,     0.36537,     0.36637,     0.36737,     0.36837,     0.36937,     0.37037,     0.37137,     0.37237,     0.37337,     0.37437,     0.37538,     0.37638,     0.37738,     0.37838,     0.37938,     0.38038,     0.38138,     0.38238,     0.38338,\n",
       "           0.38438,     0.38539,     0.38639,     0.38739,     0.38839,     0.38939,     0.39039,     0.39139,     0.39239,     0.39339,     0.39439,      0.3954,      0.3964,      0.3974,      0.3984,      0.3994,      0.4004,      0.4014,      0.4024,      0.4034,      0.4044,     0.40541,     0.40641,     0.40741,\n",
       "           0.40841,     0.40941,     0.41041,     0.41141,     0.41241,     0.41341,     0.41441,     0.41542,     0.41642,     0.41742,     0.41842,     0.41942,     0.42042,     0.42142,     0.42242,     0.42342,     0.42442,     0.42543,     0.42643,     0.42743,     0.42843,     0.42943,     0.43043,     0.43143,\n",
       "           0.43243,     0.43343,     0.43443,     0.43544,     0.43644,     0.43744,     0.43844,     0.43944,     0.44044,     0.44144,     0.44244,     0.44344,     0.44444,     0.44545,     0.44645,     0.44745,     0.44845,     0.44945,     0.45045,     0.45145,     0.45245,     0.45345,     0.45445,     0.45546,\n",
       "           0.45646,     0.45746,     0.45846,     0.45946,     0.46046,     0.46146,     0.46246,     0.46346,     0.46446,     0.46547,     0.46647,     0.46747,     0.46847,     0.46947,     0.47047,     0.47147,     0.47247,     0.47347,     0.47447,     0.47548,     0.47648,     0.47748,     0.47848,     0.47948,\n",
       "           0.48048,     0.48148,     0.48248,     0.48348,     0.48448,     0.48549,     0.48649,     0.48749,     0.48849,     0.48949,     0.49049,     0.49149,     0.49249,     0.49349,     0.49449,      0.4955,      0.4965,      0.4975,      0.4985,      0.4995,      0.5005,      0.5015,      0.5025,      0.5035,\n",
       "            0.5045,     0.50551,     0.50651,     0.50751,     0.50851,     0.50951,     0.51051,     0.51151,     0.51251,     0.51351,     0.51451,     0.51552,     0.51652,     0.51752,     0.51852,     0.51952,     0.52052,     0.52152,     0.52252,     0.52352,     0.52452,     0.52553,     0.52653,     0.52753,\n",
       "           0.52853,     0.52953,     0.53053,     0.53153,     0.53253,     0.53353,     0.53453,     0.53554,     0.53654,     0.53754,     0.53854,     0.53954,     0.54054,     0.54154,     0.54254,     0.54354,     0.54454,     0.54555,     0.54655,     0.54755,     0.54855,     0.54955,     0.55055,     0.55155,\n",
       "           0.55255,     0.55355,     0.55455,     0.55556,     0.55656,     0.55756,     0.55856,     0.55956,     0.56056,     0.56156,     0.56256,     0.56356,     0.56456,     0.56557,     0.56657,     0.56757,     0.56857,     0.56957,     0.57057,     0.57157,     0.57257,     0.57357,     0.57457,     0.57558,\n",
       "           0.57658,     0.57758,     0.57858,     0.57958,     0.58058,     0.58158,     0.58258,     0.58358,     0.58458,     0.58559,     0.58659,     0.58759,     0.58859,     0.58959,     0.59059,     0.59159,     0.59259,     0.59359,     0.59459,      0.5956,      0.5966,      0.5976,      0.5986,      0.5996,\n",
       "            0.6006,      0.6016,      0.6026,      0.6036,      0.6046,     0.60561,     0.60661,     0.60761,     0.60861,     0.60961,     0.61061,     0.61161,     0.61261,     0.61361,     0.61461,     0.61562,     0.61662,     0.61762,     0.61862,     0.61962,     0.62062,     0.62162,     0.62262,     0.62362,\n",
       "           0.62462,     0.62563,     0.62663,     0.62763,     0.62863,     0.62963,     0.63063,     0.63163,     0.63263,     0.63363,     0.63463,     0.63564,     0.63664,     0.63764,     0.63864,     0.63964,     0.64064,     0.64164,     0.64264,     0.64364,     0.64464,     0.64565,     0.64665,     0.64765,\n",
       "           0.64865,     0.64965,     0.65065,     0.65165,     0.65265,     0.65365,     0.65465,     0.65566,     0.65666,     0.65766,     0.65866,     0.65966,     0.66066,     0.66166,     0.66266,     0.66366,     0.66466,     0.66567,     0.66667,     0.66767,     0.66867,     0.66967,     0.67067,     0.67167,\n",
       "           0.67267,     0.67367,     0.67467,     0.67568,     0.67668,     0.67768,     0.67868,     0.67968,     0.68068,     0.68168,     0.68268,     0.68368,     0.68468,     0.68569,     0.68669,     0.68769,     0.68869,     0.68969,     0.69069,     0.69169,     0.69269,     0.69369,     0.69469,      0.6957,\n",
       "            0.6967,      0.6977,      0.6987,      0.6997,      0.7007,      0.7017,      0.7027,      0.7037,      0.7047,     0.70571,     0.70671,     0.70771,     0.70871,     0.70971,     0.71071,     0.71171,     0.71271,     0.71371,     0.71471,     0.71572,     0.71672,     0.71772,     0.71872,     0.71972,\n",
       "           0.72072,     0.72172,     0.72272,     0.72372,     0.72472,     0.72573,     0.72673,     0.72773,     0.72873,     0.72973,     0.73073,     0.73173,     0.73273,     0.73373,     0.73473,     0.73574,     0.73674,     0.73774,     0.73874,     0.73974,     0.74074,     0.74174,     0.74274,     0.74374,\n",
       "           0.74474,     0.74575,     0.74675,     0.74775,     0.74875,     0.74975,     0.75075,     0.75175,     0.75275,     0.75375,     0.75475,     0.75576,     0.75676,     0.75776,     0.75876,     0.75976,     0.76076,     0.76176,     0.76276,     0.76376,     0.76476,     0.76577,     0.76677,     0.76777,\n",
       "           0.76877,     0.76977,     0.77077,     0.77177,     0.77277,     0.77377,     0.77477,     0.77578,     0.77678,     0.77778,     0.77878,     0.77978,     0.78078,     0.78178,     0.78278,     0.78378,     0.78478,     0.78579,     0.78679,     0.78779,     0.78879,     0.78979,     0.79079,     0.79179,\n",
       "           0.79279,     0.79379,     0.79479,      0.7958,      0.7968,      0.7978,      0.7988,      0.7998,      0.8008,      0.8018,      0.8028,      0.8038,      0.8048,     0.80581,     0.80681,     0.80781,     0.80881,     0.80981,     0.81081,     0.81181,     0.81281,     0.81381,     0.81481,     0.81582,\n",
       "           0.81682,     0.81782,     0.81882,     0.81982,     0.82082,     0.82182,     0.82282,     0.82382,     0.82482,     0.82583,     0.82683,     0.82783,     0.82883,     0.82983,     0.83083,     0.83183,     0.83283,     0.83383,     0.83483,     0.83584,     0.83684,     0.83784,     0.83884,     0.83984,\n",
       "           0.84084,     0.84184,     0.84284,     0.84384,     0.84484,     0.84585,     0.84685,     0.84785,     0.84885,     0.84985,     0.85085,     0.85185,     0.85285,     0.85385,     0.85485,     0.85586,     0.85686,     0.85786,     0.85886,     0.85986,     0.86086,     0.86186,     0.86286,     0.86386,\n",
       "           0.86486,     0.86587,     0.86687,     0.86787,     0.86887,     0.86987,     0.87087,     0.87187,     0.87287,     0.87387,     0.87487,     0.87588,     0.87688,     0.87788,     0.87888,     0.87988,     0.88088,     0.88188,     0.88288,     0.88388,     0.88488,     0.88589,     0.88689,     0.88789,\n",
       "           0.88889,     0.88989,     0.89089,     0.89189,     0.89289,     0.89389,     0.89489,      0.8959,      0.8969,      0.8979,      0.8989,      0.8999,      0.9009,      0.9019,      0.9029,      0.9039,      0.9049,     0.90591,     0.90691,     0.90791,     0.90891,     0.90991,     0.91091,     0.91191,\n",
       "           0.91291,     0.91391,     0.91491,     0.91592,     0.91692,     0.91792,     0.91892,     0.91992,     0.92092,     0.92192,     0.92292,     0.92392,     0.92492,     0.92593,     0.92693,     0.92793,     0.92893,     0.92993,     0.93093,     0.93193,     0.93293,     0.93393,     0.93493,     0.93594,\n",
       "           0.93694,     0.93794,     0.93894,     0.93994,     0.94094,     0.94194,     0.94294,     0.94394,     0.94494,     0.94595,     0.94695,     0.94795,     0.94895,     0.94995,     0.95095,     0.95195,     0.95295,     0.95395,     0.95495,     0.95596,     0.95696,     0.95796,     0.95896,     0.95996,\n",
       "           0.96096,     0.96196,     0.96296,     0.96396,     0.96496,     0.96597,     0.96697,     0.96797,     0.96897,     0.96997,     0.97097,     0.97197,     0.97297,     0.97397,     0.97497,     0.97598,     0.97698,     0.97798,     0.97898,     0.97998,     0.98098,     0.98198,     0.98298,     0.98398,\n",
       "           0.98498,     0.98599,     0.98699,     0.98799,     0.98899,     0.98999,     0.99099,     0.99199,     0.99299,     0.99399,     0.99499,       0.996,       0.997,       0.998,       0.999,           1]), array([[          1,           1,           1, ...,    0.049183,    0.024591,           0],\n",
       "       [          1,           1,           1, ...,    0.025996,    0.012998,           0],\n",
       "       [          1,           1,           1, ...,     0.05819,    0.029095,           0]]), 'Recall', 'Precision'], [array([          0,    0.001001,    0.002002,    0.003003,    0.004004,    0.005005,    0.006006,    0.007007,    0.008008,    0.009009,     0.01001,    0.011011,    0.012012,    0.013013,    0.014014,    0.015015,    0.016016,    0.017017,    0.018018,    0.019019,     0.02002,    0.021021,    0.022022,    0.023023,\n",
       "          0.024024,    0.025025,    0.026026,    0.027027,    0.028028,    0.029029,     0.03003,    0.031031,    0.032032,    0.033033,    0.034034,    0.035035,    0.036036,    0.037037,    0.038038,    0.039039,     0.04004,    0.041041,    0.042042,    0.043043,    0.044044,    0.045045,    0.046046,    0.047047,\n",
       "          0.048048,    0.049049,     0.05005,    0.051051,    0.052052,    0.053053,    0.054054,    0.055055,    0.056056,    0.057057,    0.058058,    0.059059,     0.06006,    0.061061,    0.062062,    0.063063,    0.064064,    0.065065,    0.066066,    0.067067,    0.068068,    0.069069,     0.07007,    0.071071,\n",
       "          0.072072,    0.073073,    0.074074,    0.075075,    0.076076,    0.077077,    0.078078,    0.079079,     0.08008,    0.081081,    0.082082,    0.083083,    0.084084,    0.085085,    0.086086,    0.087087,    0.088088,    0.089089,     0.09009,    0.091091,    0.092092,    0.093093,    0.094094,    0.095095,\n",
       "          0.096096,    0.097097,    0.098098,    0.099099,      0.1001,      0.1011,      0.1021,      0.1031,      0.1041,     0.10511,     0.10611,     0.10711,     0.10811,     0.10911,     0.11011,     0.11111,     0.11211,     0.11311,     0.11411,     0.11512,     0.11612,     0.11712,     0.11812,     0.11912,\n",
       "           0.12012,     0.12112,     0.12212,     0.12312,     0.12412,     0.12513,     0.12613,     0.12713,     0.12813,     0.12913,     0.13013,     0.13113,     0.13213,     0.13313,     0.13413,     0.13514,     0.13614,     0.13714,     0.13814,     0.13914,     0.14014,     0.14114,     0.14214,     0.14314,\n",
       "           0.14414,     0.14515,     0.14615,     0.14715,     0.14815,     0.14915,     0.15015,     0.15115,     0.15215,     0.15315,     0.15415,     0.15516,     0.15616,     0.15716,     0.15816,     0.15916,     0.16016,     0.16116,     0.16216,     0.16316,     0.16416,     0.16517,     0.16617,     0.16717,\n",
       "           0.16817,     0.16917,     0.17017,     0.17117,     0.17217,     0.17317,     0.17417,     0.17518,     0.17618,     0.17718,     0.17818,     0.17918,     0.18018,     0.18118,     0.18218,     0.18318,     0.18418,     0.18519,     0.18619,     0.18719,     0.18819,     0.18919,     0.19019,     0.19119,\n",
       "           0.19219,     0.19319,     0.19419,      0.1952,      0.1962,      0.1972,      0.1982,      0.1992,      0.2002,      0.2012,      0.2022,      0.2032,      0.2042,     0.20521,     0.20621,     0.20721,     0.20821,     0.20921,     0.21021,     0.21121,     0.21221,     0.21321,     0.21421,     0.21522,\n",
       "           0.21622,     0.21722,     0.21822,     0.21922,     0.22022,     0.22122,     0.22222,     0.22322,     0.22422,     0.22523,     0.22623,     0.22723,     0.22823,     0.22923,     0.23023,     0.23123,     0.23223,     0.23323,     0.23423,     0.23524,     0.23624,     0.23724,     0.23824,     0.23924,\n",
       "           0.24024,     0.24124,     0.24224,     0.24324,     0.24424,     0.24525,     0.24625,     0.24725,     0.24825,     0.24925,     0.25025,     0.25125,     0.25225,     0.25325,     0.25425,     0.25526,     0.25626,     0.25726,     0.25826,     0.25926,     0.26026,     0.26126,     0.26226,     0.26326,\n",
       "           0.26426,     0.26527,     0.26627,     0.26727,     0.26827,     0.26927,     0.27027,     0.27127,     0.27227,     0.27327,     0.27427,     0.27528,     0.27628,     0.27728,     0.27828,     0.27928,     0.28028,     0.28128,     0.28228,     0.28328,     0.28428,     0.28529,     0.28629,     0.28729,\n",
       "           0.28829,     0.28929,     0.29029,     0.29129,     0.29229,     0.29329,     0.29429,      0.2953,      0.2963,      0.2973,      0.2983,      0.2993,      0.3003,      0.3013,      0.3023,      0.3033,      0.3043,     0.30531,     0.30631,     0.30731,     0.30831,     0.30931,     0.31031,     0.31131,\n",
       "           0.31231,     0.31331,     0.31431,     0.31532,     0.31632,     0.31732,     0.31832,     0.31932,     0.32032,     0.32132,     0.32232,     0.32332,     0.32432,     0.32533,     0.32633,     0.32733,     0.32833,     0.32933,     0.33033,     0.33133,     0.33233,     0.33333,     0.33433,     0.33534,\n",
       "           0.33634,     0.33734,     0.33834,     0.33934,     0.34034,     0.34134,     0.34234,     0.34334,     0.34434,     0.34535,     0.34635,     0.34735,     0.34835,     0.34935,     0.35035,     0.35135,     0.35235,     0.35335,     0.35435,     0.35536,     0.35636,     0.35736,     0.35836,     0.35936,\n",
       "           0.36036,     0.36136,     0.36236,     0.36336,     0.36436,     0.36537,     0.36637,     0.36737,     0.36837,     0.36937,     0.37037,     0.37137,     0.37237,     0.37337,     0.37437,     0.37538,     0.37638,     0.37738,     0.37838,     0.37938,     0.38038,     0.38138,     0.38238,     0.38338,\n",
       "           0.38438,     0.38539,     0.38639,     0.38739,     0.38839,     0.38939,     0.39039,     0.39139,     0.39239,     0.39339,     0.39439,      0.3954,      0.3964,      0.3974,      0.3984,      0.3994,      0.4004,      0.4014,      0.4024,      0.4034,      0.4044,     0.40541,     0.40641,     0.40741,\n",
       "           0.40841,     0.40941,     0.41041,     0.41141,     0.41241,     0.41341,     0.41441,     0.41542,     0.41642,     0.41742,     0.41842,     0.41942,     0.42042,     0.42142,     0.42242,     0.42342,     0.42442,     0.42543,     0.42643,     0.42743,     0.42843,     0.42943,     0.43043,     0.43143,\n",
       "           0.43243,     0.43343,     0.43443,     0.43544,     0.43644,     0.43744,     0.43844,     0.43944,     0.44044,     0.44144,     0.44244,     0.44344,     0.44444,     0.44545,     0.44645,     0.44745,     0.44845,     0.44945,     0.45045,     0.45145,     0.45245,     0.45345,     0.45445,     0.45546,\n",
       "           0.45646,     0.45746,     0.45846,     0.45946,     0.46046,     0.46146,     0.46246,     0.46346,     0.46446,     0.46547,     0.46647,     0.46747,     0.46847,     0.46947,     0.47047,     0.47147,     0.47247,     0.47347,     0.47447,     0.47548,     0.47648,     0.47748,     0.47848,     0.47948,\n",
       "           0.48048,     0.48148,     0.48248,     0.48348,     0.48448,     0.48549,     0.48649,     0.48749,     0.48849,     0.48949,     0.49049,     0.49149,     0.49249,     0.49349,     0.49449,      0.4955,      0.4965,      0.4975,      0.4985,      0.4995,      0.5005,      0.5015,      0.5025,      0.5035,\n",
       "            0.5045,     0.50551,     0.50651,     0.50751,     0.50851,     0.50951,     0.51051,     0.51151,     0.51251,     0.51351,     0.51451,     0.51552,     0.51652,     0.51752,     0.51852,     0.51952,     0.52052,     0.52152,     0.52252,     0.52352,     0.52452,     0.52553,     0.52653,     0.52753,\n",
       "           0.52853,     0.52953,     0.53053,     0.53153,     0.53253,     0.53353,     0.53453,     0.53554,     0.53654,     0.53754,     0.53854,     0.53954,     0.54054,     0.54154,     0.54254,     0.54354,     0.54454,     0.54555,     0.54655,     0.54755,     0.54855,     0.54955,     0.55055,     0.55155,\n",
       "           0.55255,     0.55355,     0.55455,     0.55556,     0.55656,     0.55756,     0.55856,     0.55956,     0.56056,     0.56156,     0.56256,     0.56356,     0.56456,     0.56557,     0.56657,     0.56757,     0.56857,     0.56957,     0.57057,     0.57157,     0.57257,     0.57357,     0.57457,     0.57558,\n",
       "           0.57658,     0.57758,     0.57858,     0.57958,     0.58058,     0.58158,     0.58258,     0.58358,     0.58458,     0.58559,     0.58659,     0.58759,     0.58859,     0.58959,     0.59059,     0.59159,     0.59259,     0.59359,     0.59459,      0.5956,      0.5966,      0.5976,      0.5986,      0.5996,\n",
       "            0.6006,      0.6016,      0.6026,      0.6036,      0.6046,     0.60561,     0.60661,     0.60761,     0.60861,     0.60961,     0.61061,     0.61161,     0.61261,     0.61361,     0.61461,     0.61562,     0.61662,     0.61762,     0.61862,     0.61962,     0.62062,     0.62162,     0.62262,     0.62362,\n",
       "           0.62462,     0.62563,     0.62663,     0.62763,     0.62863,     0.62963,     0.63063,     0.63163,     0.63263,     0.63363,     0.63463,     0.63564,     0.63664,     0.63764,     0.63864,     0.63964,     0.64064,     0.64164,     0.64264,     0.64364,     0.64464,     0.64565,     0.64665,     0.64765,\n",
       "           0.64865,     0.64965,     0.65065,     0.65165,     0.65265,     0.65365,     0.65465,     0.65566,     0.65666,     0.65766,     0.65866,     0.65966,     0.66066,     0.66166,     0.66266,     0.66366,     0.66466,     0.66567,     0.66667,     0.66767,     0.66867,     0.66967,     0.67067,     0.67167,\n",
       "           0.67267,     0.67367,     0.67467,     0.67568,     0.67668,     0.67768,     0.67868,     0.67968,     0.68068,     0.68168,     0.68268,     0.68368,     0.68468,     0.68569,     0.68669,     0.68769,     0.68869,     0.68969,     0.69069,     0.69169,     0.69269,     0.69369,     0.69469,      0.6957,\n",
       "            0.6967,      0.6977,      0.6987,      0.6997,      0.7007,      0.7017,      0.7027,      0.7037,      0.7047,     0.70571,     0.70671,     0.70771,     0.70871,     0.70971,     0.71071,     0.71171,     0.71271,     0.71371,     0.71471,     0.71572,     0.71672,     0.71772,     0.71872,     0.71972,\n",
       "           0.72072,     0.72172,     0.72272,     0.72372,     0.72472,     0.72573,     0.72673,     0.72773,     0.72873,     0.72973,     0.73073,     0.73173,     0.73273,     0.73373,     0.73473,     0.73574,     0.73674,     0.73774,     0.73874,     0.73974,     0.74074,     0.74174,     0.74274,     0.74374,\n",
       "           0.74474,     0.74575,     0.74675,     0.74775,     0.74875,     0.74975,     0.75075,     0.75175,     0.75275,     0.75375,     0.75475,     0.75576,     0.75676,     0.75776,     0.75876,     0.75976,     0.76076,     0.76176,     0.76276,     0.76376,     0.76476,     0.76577,     0.76677,     0.76777,\n",
       "           0.76877,     0.76977,     0.77077,     0.77177,     0.77277,     0.77377,     0.77477,     0.77578,     0.77678,     0.77778,     0.77878,     0.77978,     0.78078,     0.78178,     0.78278,     0.78378,     0.78478,     0.78579,     0.78679,     0.78779,     0.78879,     0.78979,     0.79079,     0.79179,\n",
       "           0.79279,     0.79379,     0.79479,      0.7958,      0.7968,      0.7978,      0.7988,      0.7998,      0.8008,      0.8018,      0.8028,      0.8038,      0.8048,     0.80581,     0.80681,     0.80781,     0.80881,     0.80981,     0.81081,     0.81181,     0.81281,     0.81381,     0.81481,     0.81582,\n",
       "           0.81682,     0.81782,     0.81882,     0.81982,     0.82082,     0.82182,     0.82282,     0.82382,     0.82482,     0.82583,     0.82683,     0.82783,     0.82883,     0.82983,     0.83083,     0.83183,     0.83283,     0.83383,     0.83483,     0.83584,     0.83684,     0.83784,     0.83884,     0.83984,\n",
       "           0.84084,     0.84184,     0.84284,     0.84384,     0.84484,     0.84585,     0.84685,     0.84785,     0.84885,     0.84985,     0.85085,     0.85185,     0.85285,     0.85385,     0.85485,     0.85586,     0.85686,     0.85786,     0.85886,     0.85986,     0.86086,     0.86186,     0.86286,     0.86386,\n",
       "           0.86486,     0.86587,     0.86687,     0.86787,     0.86887,     0.86987,     0.87087,     0.87187,     0.87287,     0.87387,     0.87487,     0.87588,     0.87688,     0.87788,     0.87888,     0.87988,     0.88088,     0.88188,     0.88288,     0.88388,     0.88488,     0.88589,     0.88689,     0.88789,\n",
       "           0.88889,     0.88989,     0.89089,     0.89189,     0.89289,     0.89389,     0.89489,      0.8959,      0.8969,      0.8979,      0.8989,      0.8999,      0.9009,      0.9019,      0.9029,      0.9039,      0.9049,     0.90591,     0.90691,     0.90791,     0.90891,     0.90991,     0.91091,     0.91191,\n",
       "           0.91291,     0.91391,     0.91491,     0.91592,     0.91692,     0.91792,     0.91892,     0.91992,     0.92092,     0.92192,     0.92292,     0.92392,     0.92492,     0.92593,     0.92693,     0.92793,     0.92893,     0.92993,     0.93093,     0.93193,     0.93293,     0.93393,     0.93493,     0.93594,\n",
       "           0.93694,     0.93794,     0.93894,     0.93994,     0.94094,     0.94194,     0.94294,     0.94394,     0.94494,     0.94595,     0.94695,     0.94795,     0.94895,     0.94995,     0.95095,     0.95195,     0.95295,     0.95395,     0.95495,     0.95596,     0.95696,     0.95796,     0.95896,     0.95996,\n",
       "           0.96096,     0.96196,     0.96296,     0.96396,     0.96496,     0.96597,     0.96697,     0.96797,     0.96897,     0.96997,     0.97097,     0.97197,     0.97297,     0.97397,     0.97497,     0.97598,     0.97698,     0.97798,     0.97898,     0.97998,     0.98098,     0.98198,     0.98298,     0.98398,\n",
       "           0.98498,     0.98599,     0.98699,     0.98799,     0.98899,     0.98999,     0.99099,     0.99199,     0.99299,     0.99399,     0.99499,       0.996,       0.997,       0.998,       0.999,           1]), array([[    0.53441,     0.53441,     0.65748, ...,           0,           0,           0],\n",
       "       [    0.59794,     0.59794,      0.7065, ...,           0,           0,           0],\n",
       "       [    0.53608,     0.53608,     0.65471, ...,           0,           0,           0]]), 'Confidence', 'F1'], [array([          0,    0.001001,    0.002002,    0.003003,    0.004004,    0.005005,    0.006006,    0.007007,    0.008008,    0.009009,     0.01001,    0.011011,    0.012012,    0.013013,    0.014014,    0.015015,    0.016016,    0.017017,    0.018018,    0.019019,     0.02002,    0.021021,    0.022022,    0.023023,\n",
       "          0.024024,    0.025025,    0.026026,    0.027027,    0.028028,    0.029029,     0.03003,    0.031031,    0.032032,    0.033033,    0.034034,    0.035035,    0.036036,    0.037037,    0.038038,    0.039039,     0.04004,    0.041041,    0.042042,    0.043043,    0.044044,    0.045045,    0.046046,    0.047047,\n",
       "          0.048048,    0.049049,     0.05005,    0.051051,    0.052052,    0.053053,    0.054054,    0.055055,    0.056056,    0.057057,    0.058058,    0.059059,     0.06006,    0.061061,    0.062062,    0.063063,    0.064064,    0.065065,    0.066066,    0.067067,    0.068068,    0.069069,     0.07007,    0.071071,\n",
       "          0.072072,    0.073073,    0.074074,    0.075075,    0.076076,    0.077077,    0.078078,    0.079079,     0.08008,    0.081081,    0.082082,    0.083083,    0.084084,    0.085085,    0.086086,    0.087087,    0.088088,    0.089089,     0.09009,    0.091091,    0.092092,    0.093093,    0.094094,    0.095095,\n",
       "          0.096096,    0.097097,    0.098098,    0.099099,      0.1001,      0.1011,      0.1021,      0.1031,      0.1041,     0.10511,     0.10611,     0.10711,     0.10811,     0.10911,     0.11011,     0.11111,     0.11211,     0.11311,     0.11411,     0.11512,     0.11612,     0.11712,     0.11812,     0.11912,\n",
       "           0.12012,     0.12112,     0.12212,     0.12312,     0.12412,     0.12513,     0.12613,     0.12713,     0.12813,     0.12913,     0.13013,     0.13113,     0.13213,     0.13313,     0.13413,     0.13514,     0.13614,     0.13714,     0.13814,     0.13914,     0.14014,     0.14114,     0.14214,     0.14314,\n",
       "           0.14414,     0.14515,     0.14615,     0.14715,     0.14815,     0.14915,     0.15015,     0.15115,     0.15215,     0.15315,     0.15415,     0.15516,     0.15616,     0.15716,     0.15816,     0.15916,     0.16016,     0.16116,     0.16216,     0.16316,     0.16416,     0.16517,     0.16617,     0.16717,\n",
       "           0.16817,     0.16917,     0.17017,     0.17117,     0.17217,     0.17317,     0.17417,     0.17518,     0.17618,     0.17718,     0.17818,     0.17918,     0.18018,     0.18118,     0.18218,     0.18318,     0.18418,     0.18519,     0.18619,     0.18719,     0.18819,     0.18919,     0.19019,     0.19119,\n",
       "           0.19219,     0.19319,     0.19419,      0.1952,      0.1962,      0.1972,      0.1982,      0.1992,      0.2002,      0.2012,      0.2022,      0.2032,      0.2042,     0.20521,     0.20621,     0.20721,     0.20821,     0.20921,     0.21021,     0.21121,     0.21221,     0.21321,     0.21421,     0.21522,\n",
       "           0.21622,     0.21722,     0.21822,     0.21922,     0.22022,     0.22122,     0.22222,     0.22322,     0.22422,     0.22523,     0.22623,     0.22723,     0.22823,     0.22923,     0.23023,     0.23123,     0.23223,     0.23323,     0.23423,     0.23524,     0.23624,     0.23724,     0.23824,     0.23924,\n",
       "           0.24024,     0.24124,     0.24224,     0.24324,     0.24424,     0.24525,     0.24625,     0.24725,     0.24825,     0.24925,     0.25025,     0.25125,     0.25225,     0.25325,     0.25425,     0.25526,     0.25626,     0.25726,     0.25826,     0.25926,     0.26026,     0.26126,     0.26226,     0.26326,\n",
       "           0.26426,     0.26527,     0.26627,     0.26727,     0.26827,     0.26927,     0.27027,     0.27127,     0.27227,     0.27327,     0.27427,     0.27528,     0.27628,     0.27728,     0.27828,     0.27928,     0.28028,     0.28128,     0.28228,     0.28328,     0.28428,     0.28529,     0.28629,     0.28729,\n",
       "           0.28829,     0.28929,     0.29029,     0.29129,     0.29229,     0.29329,     0.29429,      0.2953,      0.2963,      0.2973,      0.2983,      0.2993,      0.3003,      0.3013,      0.3023,      0.3033,      0.3043,     0.30531,     0.30631,     0.30731,     0.30831,     0.30931,     0.31031,     0.31131,\n",
       "           0.31231,     0.31331,     0.31431,     0.31532,     0.31632,     0.31732,     0.31832,     0.31932,     0.32032,     0.32132,     0.32232,     0.32332,     0.32432,     0.32533,     0.32633,     0.32733,     0.32833,     0.32933,     0.33033,     0.33133,     0.33233,     0.33333,     0.33433,     0.33534,\n",
       "           0.33634,     0.33734,     0.33834,     0.33934,     0.34034,     0.34134,     0.34234,     0.34334,     0.34434,     0.34535,     0.34635,     0.34735,     0.34835,     0.34935,     0.35035,     0.35135,     0.35235,     0.35335,     0.35435,     0.35536,     0.35636,     0.35736,     0.35836,     0.35936,\n",
       "           0.36036,     0.36136,     0.36236,     0.36336,     0.36436,     0.36537,     0.36637,     0.36737,     0.36837,     0.36937,     0.37037,     0.37137,     0.37237,     0.37337,     0.37437,     0.37538,     0.37638,     0.37738,     0.37838,     0.37938,     0.38038,     0.38138,     0.38238,     0.38338,\n",
       "           0.38438,     0.38539,     0.38639,     0.38739,     0.38839,     0.38939,     0.39039,     0.39139,     0.39239,     0.39339,     0.39439,      0.3954,      0.3964,      0.3974,      0.3984,      0.3994,      0.4004,      0.4014,      0.4024,      0.4034,      0.4044,     0.40541,     0.40641,     0.40741,\n",
       "           0.40841,     0.40941,     0.41041,     0.41141,     0.41241,     0.41341,     0.41441,     0.41542,     0.41642,     0.41742,     0.41842,     0.41942,     0.42042,     0.42142,     0.42242,     0.42342,     0.42442,     0.42543,     0.42643,     0.42743,     0.42843,     0.42943,     0.43043,     0.43143,\n",
       "           0.43243,     0.43343,     0.43443,     0.43544,     0.43644,     0.43744,     0.43844,     0.43944,     0.44044,     0.44144,     0.44244,     0.44344,     0.44444,     0.44545,     0.44645,     0.44745,     0.44845,     0.44945,     0.45045,     0.45145,     0.45245,     0.45345,     0.45445,     0.45546,\n",
       "           0.45646,     0.45746,     0.45846,     0.45946,     0.46046,     0.46146,     0.46246,     0.46346,     0.46446,     0.46547,     0.46647,     0.46747,     0.46847,     0.46947,     0.47047,     0.47147,     0.47247,     0.47347,     0.47447,     0.47548,     0.47648,     0.47748,     0.47848,     0.47948,\n",
       "           0.48048,     0.48148,     0.48248,     0.48348,     0.48448,     0.48549,     0.48649,     0.48749,     0.48849,     0.48949,     0.49049,     0.49149,     0.49249,     0.49349,     0.49449,      0.4955,      0.4965,      0.4975,      0.4985,      0.4995,      0.5005,      0.5015,      0.5025,      0.5035,\n",
       "            0.5045,     0.50551,     0.50651,     0.50751,     0.50851,     0.50951,     0.51051,     0.51151,     0.51251,     0.51351,     0.51451,     0.51552,     0.51652,     0.51752,     0.51852,     0.51952,     0.52052,     0.52152,     0.52252,     0.52352,     0.52452,     0.52553,     0.52653,     0.52753,\n",
       "           0.52853,     0.52953,     0.53053,     0.53153,     0.53253,     0.53353,     0.53453,     0.53554,     0.53654,     0.53754,     0.53854,     0.53954,     0.54054,     0.54154,     0.54254,     0.54354,     0.54454,     0.54555,     0.54655,     0.54755,     0.54855,     0.54955,     0.55055,     0.55155,\n",
       "           0.55255,     0.55355,     0.55455,     0.55556,     0.55656,     0.55756,     0.55856,     0.55956,     0.56056,     0.56156,     0.56256,     0.56356,     0.56456,     0.56557,     0.56657,     0.56757,     0.56857,     0.56957,     0.57057,     0.57157,     0.57257,     0.57357,     0.57457,     0.57558,\n",
       "           0.57658,     0.57758,     0.57858,     0.57958,     0.58058,     0.58158,     0.58258,     0.58358,     0.58458,     0.58559,     0.58659,     0.58759,     0.58859,     0.58959,     0.59059,     0.59159,     0.59259,     0.59359,     0.59459,      0.5956,      0.5966,      0.5976,      0.5986,      0.5996,\n",
       "            0.6006,      0.6016,      0.6026,      0.6036,      0.6046,     0.60561,     0.60661,     0.60761,     0.60861,     0.60961,     0.61061,     0.61161,     0.61261,     0.61361,     0.61461,     0.61562,     0.61662,     0.61762,     0.61862,     0.61962,     0.62062,     0.62162,     0.62262,     0.62362,\n",
       "           0.62462,     0.62563,     0.62663,     0.62763,     0.62863,     0.62963,     0.63063,     0.63163,     0.63263,     0.63363,     0.63463,     0.63564,     0.63664,     0.63764,     0.63864,     0.63964,     0.64064,     0.64164,     0.64264,     0.64364,     0.64464,     0.64565,     0.64665,     0.64765,\n",
       "           0.64865,     0.64965,     0.65065,     0.65165,     0.65265,     0.65365,     0.65465,     0.65566,     0.65666,     0.65766,     0.65866,     0.65966,     0.66066,     0.66166,     0.66266,     0.66366,     0.66466,     0.66567,     0.66667,     0.66767,     0.66867,     0.66967,     0.67067,     0.67167,\n",
       "           0.67267,     0.67367,     0.67467,     0.67568,     0.67668,     0.67768,     0.67868,     0.67968,     0.68068,     0.68168,     0.68268,     0.68368,     0.68468,     0.68569,     0.68669,     0.68769,     0.68869,     0.68969,     0.69069,     0.69169,     0.69269,     0.69369,     0.69469,      0.6957,\n",
       "            0.6967,      0.6977,      0.6987,      0.6997,      0.7007,      0.7017,      0.7027,      0.7037,      0.7047,     0.70571,     0.70671,     0.70771,     0.70871,     0.70971,     0.71071,     0.71171,     0.71271,     0.71371,     0.71471,     0.71572,     0.71672,     0.71772,     0.71872,     0.71972,\n",
       "           0.72072,     0.72172,     0.72272,     0.72372,     0.72472,     0.72573,     0.72673,     0.72773,     0.72873,     0.72973,     0.73073,     0.73173,     0.73273,     0.73373,     0.73473,     0.73574,     0.73674,     0.73774,     0.73874,     0.73974,     0.74074,     0.74174,     0.74274,     0.74374,\n",
       "           0.74474,     0.74575,     0.74675,     0.74775,     0.74875,     0.74975,     0.75075,     0.75175,     0.75275,     0.75375,     0.75475,     0.75576,     0.75676,     0.75776,     0.75876,     0.75976,     0.76076,     0.76176,     0.76276,     0.76376,     0.76476,     0.76577,     0.76677,     0.76777,\n",
       "           0.76877,     0.76977,     0.77077,     0.77177,     0.77277,     0.77377,     0.77477,     0.77578,     0.77678,     0.77778,     0.77878,     0.77978,     0.78078,     0.78178,     0.78278,     0.78378,     0.78478,     0.78579,     0.78679,     0.78779,     0.78879,     0.78979,     0.79079,     0.79179,\n",
       "           0.79279,     0.79379,     0.79479,      0.7958,      0.7968,      0.7978,      0.7988,      0.7998,      0.8008,      0.8018,      0.8028,      0.8038,      0.8048,     0.80581,     0.80681,     0.80781,     0.80881,     0.80981,     0.81081,     0.81181,     0.81281,     0.81381,     0.81481,     0.81582,\n",
       "           0.81682,     0.81782,     0.81882,     0.81982,     0.82082,     0.82182,     0.82282,     0.82382,     0.82482,     0.82583,     0.82683,     0.82783,     0.82883,     0.82983,     0.83083,     0.83183,     0.83283,     0.83383,     0.83483,     0.83584,     0.83684,     0.83784,     0.83884,     0.83984,\n",
       "           0.84084,     0.84184,     0.84284,     0.84384,     0.84484,     0.84585,     0.84685,     0.84785,     0.84885,     0.84985,     0.85085,     0.85185,     0.85285,     0.85385,     0.85485,     0.85586,     0.85686,     0.85786,     0.85886,     0.85986,     0.86086,     0.86186,     0.86286,     0.86386,\n",
       "           0.86486,     0.86587,     0.86687,     0.86787,     0.86887,     0.86987,     0.87087,     0.87187,     0.87287,     0.87387,     0.87487,     0.87588,     0.87688,     0.87788,     0.87888,     0.87988,     0.88088,     0.88188,     0.88288,     0.88388,     0.88488,     0.88589,     0.88689,     0.88789,\n",
       "           0.88889,     0.88989,     0.89089,     0.89189,     0.89289,     0.89389,     0.89489,      0.8959,      0.8969,      0.8979,      0.8989,      0.8999,      0.9009,      0.9019,      0.9029,      0.9039,      0.9049,     0.90591,     0.90691,     0.90791,     0.90891,     0.90991,     0.91091,     0.91191,\n",
       "           0.91291,     0.91391,     0.91491,     0.91592,     0.91692,     0.91792,     0.91892,     0.91992,     0.92092,     0.92192,     0.92292,     0.92392,     0.92492,     0.92593,     0.92693,     0.92793,     0.92893,     0.92993,     0.93093,     0.93193,     0.93293,     0.93393,     0.93493,     0.93594,\n",
       "           0.93694,     0.93794,     0.93894,     0.93994,     0.94094,     0.94194,     0.94294,     0.94394,     0.94494,     0.94595,     0.94695,     0.94795,     0.94895,     0.94995,     0.95095,     0.95195,     0.95295,     0.95395,     0.95495,     0.95596,     0.95696,     0.95796,     0.95896,     0.95996,\n",
       "           0.96096,     0.96196,     0.96296,     0.96396,     0.96496,     0.96597,     0.96697,     0.96797,     0.96897,     0.96997,     0.97097,     0.97197,     0.97297,     0.97397,     0.97497,     0.97598,     0.97698,     0.97798,     0.97898,     0.97998,     0.98098,     0.98198,     0.98298,     0.98398,\n",
       "           0.98498,     0.98599,     0.98699,     0.98799,     0.98899,     0.98999,     0.99099,     0.99199,     0.99299,     0.99399,     0.99499,       0.996,       0.997,       0.998,       0.999,           1]), array([[    0.36667,     0.36667,     0.49339, ...,           1,           1,           1],\n",
       "       [    0.43284,     0.43284,     0.55668, ...,           1,           1,           1],\n",
       "       [    0.36792,     0.36792,     0.48973, ...,           1,           1,           1]]), 'Confidence', 'Precision'], [array([          0,    0.001001,    0.002002,    0.003003,    0.004004,    0.005005,    0.006006,    0.007007,    0.008008,    0.009009,     0.01001,    0.011011,    0.012012,    0.013013,    0.014014,    0.015015,    0.016016,    0.017017,    0.018018,    0.019019,     0.02002,    0.021021,    0.022022,    0.023023,\n",
       "          0.024024,    0.025025,    0.026026,    0.027027,    0.028028,    0.029029,     0.03003,    0.031031,    0.032032,    0.033033,    0.034034,    0.035035,    0.036036,    0.037037,    0.038038,    0.039039,     0.04004,    0.041041,    0.042042,    0.043043,    0.044044,    0.045045,    0.046046,    0.047047,\n",
       "          0.048048,    0.049049,     0.05005,    0.051051,    0.052052,    0.053053,    0.054054,    0.055055,    0.056056,    0.057057,    0.058058,    0.059059,     0.06006,    0.061061,    0.062062,    0.063063,    0.064064,    0.065065,    0.066066,    0.067067,    0.068068,    0.069069,     0.07007,    0.071071,\n",
       "          0.072072,    0.073073,    0.074074,    0.075075,    0.076076,    0.077077,    0.078078,    0.079079,     0.08008,    0.081081,    0.082082,    0.083083,    0.084084,    0.085085,    0.086086,    0.087087,    0.088088,    0.089089,     0.09009,    0.091091,    0.092092,    0.093093,    0.094094,    0.095095,\n",
       "          0.096096,    0.097097,    0.098098,    0.099099,      0.1001,      0.1011,      0.1021,      0.1031,      0.1041,     0.10511,     0.10611,     0.10711,     0.10811,     0.10911,     0.11011,     0.11111,     0.11211,     0.11311,     0.11411,     0.11512,     0.11612,     0.11712,     0.11812,     0.11912,\n",
       "           0.12012,     0.12112,     0.12212,     0.12312,     0.12412,     0.12513,     0.12613,     0.12713,     0.12813,     0.12913,     0.13013,     0.13113,     0.13213,     0.13313,     0.13413,     0.13514,     0.13614,     0.13714,     0.13814,     0.13914,     0.14014,     0.14114,     0.14214,     0.14314,\n",
       "           0.14414,     0.14515,     0.14615,     0.14715,     0.14815,     0.14915,     0.15015,     0.15115,     0.15215,     0.15315,     0.15415,     0.15516,     0.15616,     0.15716,     0.15816,     0.15916,     0.16016,     0.16116,     0.16216,     0.16316,     0.16416,     0.16517,     0.16617,     0.16717,\n",
       "           0.16817,     0.16917,     0.17017,     0.17117,     0.17217,     0.17317,     0.17417,     0.17518,     0.17618,     0.17718,     0.17818,     0.17918,     0.18018,     0.18118,     0.18218,     0.18318,     0.18418,     0.18519,     0.18619,     0.18719,     0.18819,     0.18919,     0.19019,     0.19119,\n",
       "           0.19219,     0.19319,     0.19419,      0.1952,      0.1962,      0.1972,      0.1982,      0.1992,      0.2002,      0.2012,      0.2022,      0.2032,      0.2042,     0.20521,     0.20621,     0.20721,     0.20821,     0.20921,     0.21021,     0.21121,     0.21221,     0.21321,     0.21421,     0.21522,\n",
       "           0.21622,     0.21722,     0.21822,     0.21922,     0.22022,     0.22122,     0.22222,     0.22322,     0.22422,     0.22523,     0.22623,     0.22723,     0.22823,     0.22923,     0.23023,     0.23123,     0.23223,     0.23323,     0.23423,     0.23524,     0.23624,     0.23724,     0.23824,     0.23924,\n",
       "           0.24024,     0.24124,     0.24224,     0.24324,     0.24424,     0.24525,     0.24625,     0.24725,     0.24825,     0.24925,     0.25025,     0.25125,     0.25225,     0.25325,     0.25425,     0.25526,     0.25626,     0.25726,     0.25826,     0.25926,     0.26026,     0.26126,     0.26226,     0.26326,\n",
       "           0.26426,     0.26527,     0.26627,     0.26727,     0.26827,     0.26927,     0.27027,     0.27127,     0.27227,     0.27327,     0.27427,     0.27528,     0.27628,     0.27728,     0.27828,     0.27928,     0.28028,     0.28128,     0.28228,     0.28328,     0.28428,     0.28529,     0.28629,     0.28729,\n",
       "           0.28829,     0.28929,     0.29029,     0.29129,     0.29229,     0.29329,     0.29429,      0.2953,      0.2963,      0.2973,      0.2983,      0.2993,      0.3003,      0.3013,      0.3023,      0.3033,      0.3043,     0.30531,     0.30631,     0.30731,     0.30831,     0.30931,     0.31031,     0.31131,\n",
       "           0.31231,     0.31331,     0.31431,     0.31532,     0.31632,     0.31732,     0.31832,     0.31932,     0.32032,     0.32132,     0.32232,     0.32332,     0.32432,     0.32533,     0.32633,     0.32733,     0.32833,     0.32933,     0.33033,     0.33133,     0.33233,     0.33333,     0.33433,     0.33534,\n",
       "           0.33634,     0.33734,     0.33834,     0.33934,     0.34034,     0.34134,     0.34234,     0.34334,     0.34434,     0.34535,     0.34635,     0.34735,     0.34835,     0.34935,     0.35035,     0.35135,     0.35235,     0.35335,     0.35435,     0.35536,     0.35636,     0.35736,     0.35836,     0.35936,\n",
       "           0.36036,     0.36136,     0.36236,     0.36336,     0.36436,     0.36537,     0.36637,     0.36737,     0.36837,     0.36937,     0.37037,     0.37137,     0.37237,     0.37337,     0.37437,     0.37538,     0.37638,     0.37738,     0.37838,     0.37938,     0.38038,     0.38138,     0.38238,     0.38338,\n",
       "           0.38438,     0.38539,     0.38639,     0.38739,     0.38839,     0.38939,     0.39039,     0.39139,     0.39239,     0.39339,     0.39439,      0.3954,      0.3964,      0.3974,      0.3984,      0.3994,      0.4004,      0.4014,      0.4024,      0.4034,      0.4044,     0.40541,     0.40641,     0.40741,\n",
       "           0.40841,     0.40941,     0.41041,     0.41141,     0.41241,     0.41341,     0.41441,     0.41542,     0.41642,     0.41742,     0.41842,     0.41942,     0.42042,     0.42142,     0.42242,     0.42342,     0.42442,     0.42543,     0.42643,     0.42743,     0.42843,     0.42943,     0.43043,     0.43143,\n",
       "           0.43243,     0.43343,     0.43443,     0.43544,     0.43644,     0.43744,     0.43844,     0.43944,     0.44044,     0.44144,     0.44244,     0.44344,     0.44444,     0.44545,     0.44645,     0.44745,     0.44845,     0.44945,     0.45045,     0.45145,     0.45245,     0.45345,     0.45445,     0.45546,\n",
       "           0.45646,     0.45746,     0.45846,     0.45946,     0.46046,     0.46146,     0.46246,     0.46346,     0.46446,     0.46547,     0.46647,     0.46747,     0.46847,     0.46947,     0.47047,     0.47147,     0.47247,     0.47347,     0.47447,     0.47548,     0.47648,     0.47748,     0.47848,     0.47948,\n",
       "           0.48048,     0.48148,     0.48248,     0.48348,     0.48448,     0.48549,     0.48649,     0.48749,     0.48849,     0.48949,     0.49049,     0.49149,     0.49249,     0.49349,     0.49449,      0.4955,      0.4965,      0.4975,      0.4985,      0.4995,      0.5005,      0.5015,      0.5025,      0.5035,\n",
       "            0.5045,     0.50551,     0.50651,     0.50751,     0.50851,     0.50951,     0.51051,     0.51151,     0.51251,     0.51351,     0.51451,     0.51552,     0.51652,     0.51752,     0.51852,     0.51952,     0.52052,     0.52152,     0.52252,     0.52352,     0.52452,     0.52553,     0.52653,     0.52753,\n",
       "           0.52853,     0.52953,     0.53053,     0.53153,     0.53253,     0.53353,     0.53453,     0.53554,     0.53654,     0.53754,     0.53854,     0.53954,     0.54054,     0.54154,     0.54254,     0.54354,     0.54454,     0.54555,     0.54655,     0.54755,     0.54855,     0.54955,     0.55055,     0.55155,\n",
       "           0.55255,     0.55355,     0.55455,     0.55556,     0.55656,     0.55756,     0.55856,     0.55956,     0.56056,     0.56156,     0.56256,     0.56356,     0.56456,     0.56557,     0.56657,     0.56757,     0.56857,     0.56957,     0.57057,     0.57157,     0.57257,     0.57357,     0.57457,     0.57558,\n",
       "           0.57658,     0.57758,     0.57858,     0.57958,     0.58058,     0.58158,     0.58258,     0.58358,     0.58458,     0.58559,     0.58659,     0.58759,     0.58859,     0.58959,     0.59059,     0.59159,     0.59259,     0.59359,     0.59459,      0.5956,      0.5966,      0.5976,      0.5986,      0.5996,\n",
       "            0.6006,      0.6016,      0.6026,      0.6036,      0.6046,     0.60561,     0.60661,     0.60761,     0.60861,     0.60961,     0.61061,     0.61161,     0.61261,     0.61361,     0.61461,     0.61562,     0.61662,     0.61762,     0.61862,     0.61962,     0.62062,     0.62162,     0.62262,     0.62362,\n",
       "           0.62462,     0.62563,     0.62663,     0.62763,     0.62863,     0.62963,     0.63063,     0.63163,     0.63263,     0.63363,     0.63463,     0.63564,     0.63664,     0.63764,     0.63864,     0.63964,     0.64064,     0.64164,     0.64264,     0.64364,     0.64464,     0.64565,     0.64665,     0.64765,\n",
       "           0.64865,     0.64965,     0.65065,     0.65165,     0.65265,     0.65365,     0.65465,     0.65566,     0.65666,     0.65766,     0.65866,     0.65966,     0.66066,     0.66166,     0.66266,     0.66366,     0.66466,     0.66567,     0.66667,     0.66767,     0.66867,     0.66967,     0.67067,     0.67167,\n",
       "           0.67267,     0.67367,     0.67467,     0.67568,     0.67668,     0.67768,     0.67868,     0.67968,     0.68068,     0.68168,     0.68268,     0.68368,     0.68468,     0.68569,     0.68669,     0.68769,     0.68869,     0.68969,     0.69069,     0.69169,     0.69269,     0.69369,     0.69469,      0.6957,\n",
       "            0.6967,      0.6977,      0.6987,      0.6997,      0.7007,      0.7017,      0.7027,      0.7037,      0.7047,     0.70571,     0.70671,     0.70771,     0.70871,     0.70971,     0.71071,     0.71171,     0.71271,     0.71371,     0.71471,     0.71572,     0.71672,     0.71772,     0.71872,     0.71972,\n",
       "           0.72072,     0.72172,     0.72272,     0.72372,     0.72472,     0.72573,     0.72673,     0.72773,     0.72873,     0.72973,     0.73073,     0.73173,     0.73273,     0.73373,     0.73473,     0.73574,     0.73674,     0.73774,     0.73874,     0.73974,     0.74074,     0.74174,     0.74274,     0.74374,\n",
       "           0.74474,     0.74575,     0.74675,     0.74775,     0.74875,     0.74975,     0.75075,     0.75175,     0.75275,     0.75375,     0.75475,     0.75576,     0.75676,     0.75776,     0.75876,     0.75976,     0.76076,     0.76176,     0.76276,     0.76376,     0.76476,     0.76577,     0.76677,     0.76777,\n",
       "           0.76877,     0.76977,     0.77077,     0.77177,     0.77277,     0.77377,     0.77477,     0.77578,     0.77678,     0.77778,     0.77878,     0.77978,     0.78078,     0.78178,     0.78278,     0.78378,     0.78478,     0.78579,     0.78679,     0.78779,     0.78879,     0.78979,     0.79079,     0.79179,\n",
       "           0.79279,     0.79379,     0.79479,      0.7958,      0.7968,      0.7978,      0.7988,      0.7998,      0.8008,      0.8018,      0.8028,      0.8038,      0.8048,     0.80581,     0.80681,     0.80781,     0.80881,     0.80981,     0.81081,     0.81181,     0.81281,     0.81381,     0.81481,     0.81582,\n",
       "           0.81682,     0.81782,     0.81882,     0.81982,     0.82082,     0.82182,     0.82282,     0.82382,     0.82482,     0.82583,     0.82683,     0.82783,     0.82883,     0.82983,     0.83083,     0.83183,     0.83283,     0.83383,     0.83483,     0.83584,     0.83684,     0.83784,     0.83884,     0.83984,\n",
       "           0.84084,     0.84184,     0.84284,     0.84384,     0.84484,     0.84585,     0.84685,     0.84785,     0.84885,     0.84985,     0.85085,     0.85185,     0.85285,     0.85385,     0.85485,     0.85586,     0.85686,     0.85786,     0.85886,     0.85986,     0.86086,     0.86186,     0.86286,     0.86386,\n",
       "           0.86486,     0.86587,     0.86687,     0.86787,     0.86887,     0.86987,     0.87087,     0.87187,     0.87287,     0.87387,     0.87487,     0.87588,     0.87688,     0.87788,     0.87888,     0.87988,     0.88088,     0.88188,     0.88288,     0.88388,     0.88488,     0.88589,     0.88689,     0.88789,\n",
       "           0.88889,     0.88989,     0.89089,     0.89189,     0.89289,     0.89389,     0.89489,      0.8959,      0.8969,      0.8979,      0.8989,      0.8999,      0.9009,      0.9019,      0.9029,      0.9039,      0.9049,     0.90591,     0.90691,     0.90791,     0.90891,     0.90991,     0.91091,     0.91191,\n",
       "           0.91291,     0.91391,     0.91491,     0.91592,     0.91692,     0.91792,     0.91892,     0.91992,     0.92092,     0.92192,     0.92292,     0.92392,     0.92492,     0.92593,     0.92693,     0.92793,     0.92893,     0.92993,     0.93093,     0.93193,     0.93293,     0.93393,     0.93493,     0.93594,\n",
       "           0.93694,     0.93794,     0.93894,     0.93994,     0.94094,     0.94194,     0.94294,     0.94394,     0.94494,     0.94595,     0.94695,     0.94795,     0.94895,     0.94995,     0.95095,     0.95195,     0.95295,     0.95395,     0.95495,     0.95596,     0.95696,     0.95796,     0.95896,     0.95996,\n",
       "           0.96096,     0.96196,     0.96296,     0.96396,     0.96496,     0.96597,     0.96697,     0.96797,     0.96897,     0.96997,     0.97097,     0.97197,     0.97297,     0.97397,     0.97497,     0.97598,     0.97698,     0.97798,     0.97898,     0.97998,     0.98098,     0.98198,     0.98298,     0.98398,\n",
       "           0.98498,     0.98599,     0.98699,     0.98799,     0.98899,     0.98999,     0.99099,     0.99199,     0.99299,     0.99399,     0.99499,       0.996,       0.997,       0.998,       0.999,           1]), array([[    0.98507,     0.98507,     0.98507, ...,           0,           0,           0],\n",
       "       [    0.96667,     0.96667,     0.96667, ...,           0,           0,           0],\n",
       "       [    0.98734,     0.98734,     0.98734, ...,           0,           0,           0]]), 'Confidence', 'Recall']]\n",
       "fitness: np.float64(0.9474926818107502)\n",
       "keys: ['metrics/precision(B)', 'metrics/recall(B)', 'metrics/mAP50(B)', 'metrics/mAP50-95(B)']\n",
       "maps: array([     0.9569,     0.94608,     0.92948])\n",
       "names: {0: 'FireExtinguisher', 1: 'ToolBox', 2: 'OxygenTank'}\n",
       "nt_per_class: array([67, 60, 79])\n",
       "nt_per_image: array([67, 60, 79])\n",
       "results_dict: {'metrics/precision(B)': np.float64(0.9951349658564701), 'metrics/recall(B)': np.float64(0.9317382157873793), 'metrics/mAP50(B)': np.float64(0.9775705010307593), 'metrics/mAP50-95(B)': np.float64(0.9441507018974159), 'fitness': np.float64(0.9474926818107502)}\n",
       "speed: {'preprocess': 0.43713701295503116, 'inference': 23.33533116868605, 'loss': 0.011194805063189359, 'postprocess': 5.679435064931485}\n",
       "stats: {'tp': [], 'conf': [], 'pred_cls': [], 'target_cls': [], 'target_img': []}\n",
       "task: 'detect'"
      ]
     },
     "execution_count": 3,
     "metadata": {},
     "output_type": "execute_result"
    }
   ],
   "source": [
    "model.train(\n",
    "    data=\"D:/HackByte_Dataset/yolo_params.yaml\",  # Must be in same folder as notebook\n",
    "    epochs=100,\n",
    "    imgsz=640,\n",
    "    batch=2,\n",
    "    device=0,\n",
    "    workers=0,           # ✅ no multiprocessing\n",
    "    cache=False,         # ✅ no memory dump\n",
    "    close_mosaic=0,      # ✅ avoid mosaic switching\n",
    "    optimizer=\"SGD\",\n",
    "    lr0=0.001,\n",
    "    lrf=0.01,\n",
    "    momentum=0.937,\n",
    "    weight_decay=0.0005,\n",
    "    hsv_h=0.015,\n",
    "    hsv_s=0.7,\n",
    "    hsv_v=0.4,\n",
    "    flipud=0.2,\n",
    "    fliplr=0.5,\n",
    "    mosaic=1.0,\n",
    "    mixup=0.3,\n",
    "    name=\"HackByte_YOLOv8L\"\n",
    ")\n"
   ]
  },
  {
   "cell_type": "code",
   "execution_count": 9,
   "id": "139ae394-16da-42f4-8dbd-c8bf315b4bd7",
   "metadata": {
    "scrolled": true
   },
   "outputs": [
    {
     "name": "stdout",
     "output_type": "stream",
     "text": [
      "Ultralytics 8.3.156  Python-3.10.18 torch-2.7.1+cu118 CUDA:0 (NVIDIA GeForce RTX 3050 Laptop GPU, 4096MiB)\n",
      "Model summary (fused): 112 layers, 43,608,921 parameters, 0 gradients, 164.8 GFLOPs\n",
      "\u001b[34m\u001b[1mval: \u001b[0mFast image access  (ping: 0.20.1 ms, read: 888.3351.1 MB/s, size: 2948.3 KB)\n"
     ]
    },
    {
     "name": "stderr",
     "output_type": "stream",
     "text": [
      "\u001b[34m\u001b[1mval: \u001b[0mScanning D:\\HackByte_Dataset\\data\\val\\labels.cache... 154 images, 0 backgrounds, 0 corrupt: 100%|██████████| 154/1\u001b[0m\n",
      "                 Class     Images  Instances      Box(P          R      mAP50  mAP50-95): 100%|██████████| 10/10 [00:15\n"
     ]
    },
    {
     "name": "stdout",
     "output_type": "stream",
     "text": [
      "                   all        154        206      0.998       0.94       0.98       0.95\n",
      "      FireExtinguisher         67         67      0.997       0.97      0.987      0.958\n",
      "               ToolBox         60         60      0.997      0.917      0.972      0.948\n",
      "            OxygenTank         79         79          1      0.934      0.983      0.946\n",
      "Speed: 0.7ms preprocess, 30.9ms inference, 0.0ms loss, 4.4ms postprocess per image\n",
      "Saving runs\\detect\\val\\predictions.json...\n",
      "Results saved to \u001b[1mruns\\detect\\val\u001b[0m\n",
      "✅ mAP@0.5: 0.9804833471488354\n"
     ]
    }
   ],
   "source": [
    "model = YOLO(\"runs/detect/HackByte_Yolov8L2/weights/best.pt\")\n",
    "metrics = model.val(data=\"D:/HackByte_Dataset/yolo_params.yaml\", save_json=True)\n",
    "print(\"✅ mAP@0.5:\", metrics.box.map50)\n"
   ]
  },
  {
   "cell_type": "code",
   "execution_count": 18,
   "id": "3e550f59-3e82-4a51-8325-1eab2e97930b",
   "metadata": {},
   "outputs": [
    {
     "name": "stdout",
     "output_type": "stream",
     "text": [
      "\n",
      "image 1/400 D:\\HackByte_Dataset\\data\\test\\images\\000000000.png: 384x640 1 OxygenTank, 180.6ms\n",
      "image 2/400 D:\\HackByte_Dataset\\data\\test\\images\\000000001.png: 384x640 1 ToolBox, 48.2ms\n",
      "image 3/400 D:\\HackByte_Dataset\\data\\test\\images\\000000002.png: 384x640 1 FireExtinguisher, 1 ToolBox, 41.5ms\n",
      "image 4/400 D:\\HackByte_Dataset\\data\\test\\images\\000000003.png: 384x640 1 ToolBox, 65.9ms\n",
      "image 5/400 D:\\HackByte_Dataset\\data\\test\\images\\000000004.png: 384x640 1 OxygenTank, 69.5ms\n",
      "image 6/400 D:\\HackByte_Dataset\\data\\test\\images\\000000005.png: 384x640 1 ToolBox, 57.6ms\n",
      "image 7/400 D:\\HackByte_Dataset\\data\\test\\images\\000000006.png: 384x640 1 ToolBox, 58.9ms\n",
      "image 8/400 D:\\HackByte_Dataset\\data\\test\\images\\000000007.png: 384x640 1 FireExtinguisher, 1 ToolBox, 1 OxygenTank, 56.3ms\n",
      "image 9/400 D:\\HackByte_Dataset\\data\\test\\images\\000000008.png: 384x640 1 OxygenTank, 57.3ms\n",
      "image 10/400 D:\\HackByte_Dataset\\data\\test\\images\\000000009.png: 384x640 1 ToolBox, 63.5ms\n",
      "image 11/400 D:\\HackByte_Dataset\\data\\test\\images\\000000010.png: 384x640 1 ToolBox, 64.2ms\n",
      "image 12/400 D:\\HackByte_Dataset\\data\\test\\images\\000000011.png: 384x640 1 OxygenTank, 69.9ms\n",
      "image 13/400 D:\\HackByte_Dataset\\data\\test\\images\\000000012.png: 384x640 1 FireExtinguisher, 71.6ms\n",
      "image 14/400 D:\\HackByte_Dataset\\data\\test\\images\\000000013.png: 384x640 1 FireExtinguisher, 78.0ms\n",
      "image 15/400 D:\\HackByte_Dataset\\data\\test\\images\\000000014.png: 384x640 1 OxygenTank, 78.4ms\n",
      "image 16/400 D:\\HackByte_Dataset\\data\\test\\images\\000000015.png: 384x640 1 FireExtinguisher, 81.7ms\n",
      "image 17/400 D:\\HackByte_Dataset\\data\\test\\images\\000000016.png: 384x640 1 ToolBox, 85.7ms\n",
      "image 18/400 D:\\HackByte_Dataset\\data\\test\\images\\000000017.png: 384x640 1 FireExtinguisher, 79.6ms\n",
      "image 19/400 D:\\HackByte_Dataset\\data\\test\\images\\000000018.png: 384x640 1 OxygenTank, 79.3ms\n",
      "image 20/400 D:\\HackByte_Dataset\\data\\test\\images\\000000019.png: 384x640 1 FireExtinguisher, 79.7ms\n",
      "image 21/400 D:\\HackByte_Dataset\\data\\test\\images\\000000020.png: 384x640 1 ToolBox, 1 OxygenTank, 79.5ms\n",
      "image 22/400 D:\\HackByte_Dataset\\data\\test\\images\\000000021.png: 384x640 1 FireExtinguisher, 1 ToolBox, 1 OxygenTank, 79.7ms\n",
      "image 23/400 D:\\HackByte_Dataset\\data\\test\\images\\000000022.png: 384x640 1 FireExtinguisher, 78.2ms\n",
      "image 24/400 D:\\HackByte_Dataset\\data\\test\\images\\000000023.png: 384x640 1 FireExtinguisher, 78.6ms\n",
      "image 25/400 D:\\HackByte_Dataset\\data\\test\\images\\000000024.png: 384x640 1 OxygenTank, 112.3ms\n",
      "image 26/400 D:\\HackByte_Dataset\\data\\test\\images\\000000025.png: 384x640 1 ToolBox, 151.0ms\n",
      "image 27/400 D:\\HackByte_Dataset\\data\\test\\images\\000000026.png: 384x640 1 ToolBox, 1 OxygenTank, 146.5ms\n",
      "image 28/400 D:\\HackByte_Dataset\\data\\test\\images\\000000027.png: 384x640 1 FireExtinguisher, 143.5ms\n",
      "image 29/400 D:\\HackByte_Dataset\\data\\test\\images\\000000028.png: 384x640 1 ToolBox, 60.0ms\n",
      "image 30/400 D:\\HackByte_Dataset\\data\\test\\images\\000000029.png: 384x640 1 ToolBox, 1 OxygenTank, 50.8ms\n",
      "image 31/400 D:\\HackByte_Dataset\\data\\test\\images\\000000030.png: 384x640 1 FireExtinguisher, 60.2ms\n",
      "image 32/400 D:\\HackByte_Dataset\\data\\test\\images\\000000031.png: 384x640 1 ToolBox, 54.9ms\n",
      "image 33/400 D:\\HackByte_Dataset\\data\\test\\images\\000000032.png: 384x640 1 OxygenTank, 57.3ms\n",
      "image 34/400 D:\\HackByte_Dataset\\data\\test\\images\\000000033.png: 384x640 1 FireExtinguisher, 64.9ms\n",
      "image 35/400 D:\\HackByte_Dataset\\data\\test\\images\\000000034.png: 384x640 1 ToolBox, 145.2ms\n",
      "image 36/400 D:\\HackByte_Dataset\\data\\test\\images\\000000035.png: 384x640 1 FireExtinguisher, 63.0ms\n",
      "image 37/400 D:\\HackByte_Dataset\\data\\test\\images\\000000036.png: 384x640 1 OxygenTank, 60.4ms\n",
      "image 38/400 D:\\HackByte_Dataset\\data\\test\\images\\000000037.png: 384x640 1 OxygenTank, 56.8ms\n",
      "image 39/400 D:\\HackByte_Dataset\\data\\test\\images\\000000038.png: 384x640 1 FireExtinguisher, 56.9ms\n",
      "image 40/400 D:\\HackByte_Dataset\\data\\test\\images\\000000039.png: 384x640 1 FireExtinguisher, 59.4ms\n",
      "image 41/400 D:\\HackByte_Dataset\\data\\test\\images\\000000040.png: 384x640 1 ToolBox, 1 OxygenTank, 60.4ms\n",
      "image 42/400 D:\\HackByte_Dataset\\data\\test\\images\\000000041.png: 384x640 1 FireExtinguisher, 1 ToolBox, 1 OxygenTank, 55.0ms\n",
      "image 43/400 D:\\HackByte_Dataset\\data\\test\\images\\000000042.png: 384x640 1 OxygenTank, 60.1ms\n",
      "image 44/400 D:\\HackByte_Dataset\\data\\test\\images\\000000043.png: 384x640 1 OxygenTank, 61.1ms\n",
      "image 45/400 D:\\HackByte_Dataset\\data\\test\\images\\000000044.png: 384x640 1 FireExtinguisher, 1 OxygenTank, 67.2ms\n",
      "image 46/400 D:\\HackByte_Dataset\\data\\test\\images\\000000045.png: 384x640 1 FireExtinguisher, 1 ToolBox, 1 OxygenTank, 68.0ms\n",
      "image 47/400 D:\\HackByte_Dataset\\data\\test\\images\\000000046.png: 384x640 1 ToolBox, 75.4ms\n",
      "image 48/400 D:\\HackByte_Dataset\\data\\test\\images\\000000047.png: 384x640 1 FireExtinguisher, 1 OxygenTank, 77.6ms\n",
      "image 49/400 D:\\HackByte_Dataset\\data\\test\\images\\000000048.png: 384x640 1 ToolBox, 82.0ms\n",
      "image 50/400 D:\\HackByte_Dataset\\data\\test\\images\\000000049.png: 384x640 1 FireExtinguisher, 1 ToolBox, 1 OxygenTank, 79.7ms\n",
      "image 51/400 D:\\HackByte_Dataset\\data\\test\\images\\000000050.png: 384x640 1 FireExtinguisher, 79.6ms\n",
      "image 52/400 D:\\HackByte_Dataset\\data\\test\\images\\000000051.png: 384x640 1 FireExtinguisher, 80.1ms\n",
      "image 53/400 D:\\HackByte_Dataset\\data\\test\\images\\000000052.png: 384x640 1 OxygenTank, 79.4ms\n",
      "image 54/400 D:\\HackByte_Dataset\\data\\test\\images\\000000053.png: 384x640 1 FireExtinguisher, 1 ToolBox, 79.4ms\n",
      "image 55/400 D:\\HackByte_Dataset\\data\\test\\images\\000000054.png: 384x640 1 ToolBox, 79.7ms\n",
      "image 56/400 D:\\HackByte_Dataset\\data\\test\\images\\000000055.png: 384x640 1 FireExtinguisher, 85.9ms\n",
      "image 57/400 D:\\HackByte_Dataset\\data\\test\\images\\000000056.png: 384x640 1 OxygenTank, 79.7ms\n",
      "image 58/400 D:\\HackByte_Dataset\\data\\test\\images\\000000057.png: 384x640 1 FireExtinguisher, 79.4ms\n",
      "image 59/400 D:\\HackByte_Dataset\\data\\test\\images\\000000058.png: 384x640 1 ToolBox, 79.5ms\n",
      "image 60/400 D:\\HackByte_Dataset\\data\\test\\images\\000000059.png: 384x640 1 FireExtinguisher, 1 ToolBox, 79.4ms\n",
      "image 61/400 D:\\HackByte_Dataset\\data\\test\\images\\000000060.png: 384x640 1 OxygenTank, 79.4ms\n",
      "image 62/400 D:\\HackByte_Dataset\\data\\test\\images\\000000061.png: 384x640 1 OxygenTank, 79.5ms\n",
      "image 63/400 D:\\HackByte_Dataset\\data\\test\\images\\000000062.png: 384x640 1 OxygenTank, 80.1ms\n",
      "image 64/400 D:\\HackByte_Dataset\\data\\test\\images\\000000063.png: 384x640 1 OxygenTank, 85.7ms\n",
      "image 65/400 D:\\HackByte_Dataset\\data\\test\\images\\000000064.png: 384x640 1 OxygenTank, 79.5ms\n",
      "image 66/400 D:\\HackByte_Dataset\\data\\test\\images\\000000065.png: 384x640 1 OxygenTank, 80.1ms\n",
      "image 67/400 D:\\HackByte_Dataset\\data\\test\\images\\000000066.png: 384x640 1 ToolBox, 1 OxygenTank, 79.4ms\n",
      "image 68/400 D:\\HackByte_Dataset\\data\\test\\images\\000000067.png: 384x640 1 ToolBox, 79.9ms\n",
      "image 69/400 D:\\HackByte_Dataset\\data\\test\\images\\000000068.png: 384x640 1 ToolBox, 2 OxygenTanks, 79.7ms\n",
      "image 70/400 D:\\HackByte_Dataset\\data\\test\\images\\000000069.png: 384x640 1 OxygenTank, 79.4ms\n",
      "image 71/400 D:\\HackByte_Dataset\\data\\test\\images\\000000070.png: 384x640 1 FireExtinguisher, 81.2ms\n",
      "image 72/400 D:\\HackByte_Dataset\\data\\test\\images\\000000071.png: 384x640 1 FireExtinguisher, 85.9ms\n",
      "image 73/400 D:\\HackByte_Dataset\\data\\test\\images\\000000072.png: 384x640 1 OxygenTank, 156.0ms\n",
      "image 74/400 D:\\HackByte_Dataset\\data\\test\\images\\000000073.png: 384x640 1 FireExtinguisher, 144.3ms\n",
      "image 75/400 D:\\HackByte_Dataset\\data\\test\\images\\000000074.png: 384x640 1 FireExtinguisher, 138.2ms\n",
      "image 76/400 D:\\HackByte_Dataset\\data\\test\\images\\000000075.png: 384x640 1 OxygenTank, 58.5ms\n",
      "image 77/400 D:\\HackByte_Dataset\\data\\test\\images\\000000076.png: 384x640 1 ToolBox, 56.7ms\n",
      "image 78/400 D:\\HackByte_Dataset\\data\\test\\images\\000000077.png: 384x640 1 FireExtinguisher, 65.8ms\n",
      "image 79/400 D:\\HackByte_Dataset\\data\\test\\images\\000000078.png: 384x640 1 FireExtinguisher, 1 OxygenTank, 62.6ms\n",
      "image 80/400 D:\\HackByte_Dataset\\data\\test\\images\\000000079.png: 384x640 1 FireExtinguisher, 1 OxygenTank, 63.2ms\n",
      "image 81/400 D:\\HackByte_Dataset\\data\\test\\images\\000000080.png: 384x640 1 FireExtinguisher, 62.0ms\n",
      "image 82/400 D:\\HackByte_Dataset\\data\\test\\images\\000000081.png: 384x640 1 ToolBox, 58.4ms\n",
      "image 83/400 D:\\HackByte_Dataset\\data\\test\\images\\000000082.png: 384x640 1 OxygenTank, 66.3ms\n",
      "image 84/400 D:\\HackByte_Dataset\\data\\test\\images\\000000083.png: 384x640 1 ToolBox, 63.3ms\n",
      "image 85/400 D:\\HackByte_Dataset\\data\\test\\images\\000000084.png: 384x640 1 ToolBox, 69.3ms\n",
      "image 86/400 D:\\HackByte_Dataset\\data\\test\\images\\000000085.png: 384x640 2 FireExtinguishers, 1 ToolBox, 71.0ms\n",
      "image 87/400 D:\\HackByte_Dataset\\data\\test\\images\\000000086.png: 384x640 1 ToolBox, 77.2ms\n",
      "image 88/400 D:\\HackByte_Dataset\\data\\test\\images\\000000087.png: 384x640 1 FireExtinguisher, 1 ToolBox, 1 OxygenTank, 81.5ms\n",
      "image 89/400 D:\\HackByte_Dataset\\data\\test\\images\\000000088.png: 384x640 1 FireExtinguisher, 84.5ms\n",
      "image 90/400 D:\\HackByte_Dataset\\data\\test\\images\\000000089.png: 384x640 1 FireExtinguisher, 1 ToolBox, 79.4ms\n",
      "image 91/400 D:\\HackByte_Dataset\\data\\test\\images\\000000090.png: 384x640 1 ToolBox, 79.4ms\n",
      "image 92/400 D:\\HackByte_Dataset\\data\\test\\images\\000000091.png: 384x640 1 FireExtinguisher, 79.5ms\n",
      "image 93/400 D:\\HackByte_Dataset\\data\\test\\images\\000000092.png: 384x640 1 FireExtinguisher, 79.2ms\n",
      "image 94/400 D:\\HackByte_Dataset\\data\\test\\images\\000000093.png: 384x640 1 ToolBox, 79.5ms\n",
      "image 95/400 D:\\HackByte_Dataset\\data\\test\\images\\000000094.png: 384x640 1 FireExtinguisher, 79.4ms\n",
      "image 96/400 D:\\HackByte_Dataset\\data\\test\\images\\000000095.png: 384x640 1 OxygenTank, 85.2ms\n",
      "image 97/400 D:\\HackByte_Dataset\\data\\test\\images\\000000096.png: 384x640 1 OxygenTank, 81.9ms\n",
      "image 98/400 D:\\HackByte_Dataset\\data\\test\\images\\000000097.png: 384x640 1 ToolBox, 79.4ms\n",
      "image 99/400 D:\\HackByte_Dataset\\data\\test\\images\\000000098.png: 384x640 1 FireExtinguisher, 79.6ms\n",
      "image 100/400 D:\\HackByte_Dataset\\data\\test\\images\\000000099.png: 384x640 1 FireExtinguisher, 1 ToolBox, 79.4ms\n",
      "image 101/400 D:\\HackByte_Dataset\\data\\test\\images\\000000100.png: 384x640 1 OxygenTank, 79.7ms\n",
      "image 102/400 D:\\HackByte_Dataset\\data\\test\\images\\000000101.png: 384x640 1 FireExtinguisher, 1 ToolBox, 79.4ms\n",
      "image 103/400 D:\\HackByte_Dataset\\data\\test\\images\\000000102.png: 384x640 1 FireExtinguisher, 79.3ms\n",
      "image 104/400 D:\\HackByte_Dataset\\data\\test\\images\\000000103.png: 384x640 1 ToolBox, 85.7ms\n",
      "image 105/400 D:\\HackByte_Dataset\\data\\test\\images\\000000104.png: 384x640 1 FireExtinguisher, 79.4ms\n",
      "image 106/400 D:\\HackByte_Dataset\\data\\test\\images\\000000105.png: 384x640 1 ToolBox, 79.5ms\n",
      "image 107/400 D:\\HackByte_Dataset\\data\\test\\images\\000000106.png: 384x640 1 ToolBox, 79.6ms\n",
      "image 108/400 D:\\HackByte_Dataset\\data\\test\\images\\000000107.png: 384x640 1 OxygenTank, 79.3ms\n",
      "image 109/400 D:\\HackByte_Dataset\\data\\test\\images\\000000108.png: 384x640 1 ToolBox, 79.4ms\n",
      "image 110/400 D:\\HackByte_Dataset\\data\\test\\images\\000000109.png: 384x640 1 FireExtinguisher, 153.2ms\n",
      "image 111/400 D:\\HackByte_Dataset\\data\\test\\images\\000000110.png: 384x640 1 OxygenTank, 147.7ms\n",
      "image 112/400 D:\\HackByte_Dataset\\data\\test\\images\\000000111.png: 384x640 1 OxygenTank, 140.1ms\n",
      "image 113/400 D:\\HackByte_Dataset\\data\\test\\images\\000000112.png: 384x640 (no detections), 59.1ms\n",
      "image 114/400 D:\\HackByte_Dataset\\data\\test\\images\\000000113.png: 384x640 1 FireExtinguisher, 59.9ms\n",
      "image 115/400 D:\\HackByte_Dataset\\data\\test\\images\\000000114.png: 384x640 1 ToolBox, 57.7ms\n",
      "image 116/400 D:\\HackByte_Dataset\\data\\test\\images\\000000115.png: 384x640 1 ToolBox, 67.1ms\n",
      "image 117/400 D:\\HackByte_Dataset\\data\\test\\images\\000000116.png: 384x640 1 OxygenTank, 59.5ms\n",
      "image 118/400 D:\\HackByte_Dataset\\data\\test\\images\\000000117.png: 384x640 1 ToolBox, 58.2ms\n",
      "image 119/400 D:\\HackByte_Dataset\\data\\test\\images\\000000118.png: 384x640 1 OxygenTank, 53.6ms\n",
      "image 120/400 D:\\HackByte_Dataset\\data\\test\\images\\000000119.png: 384x640 1 ToolBox, 56.0ms\n",
      "image 121/400 D:\\HackByte_Dataset\\data\\test\\images\\000000120.png: 384x640 1 ToolBox, 1 OxygenTank, 60.3ms\n",
      "image 122/400 D:\\HackByte_Dataset\\data\\test\\images\\000000121.png: 384x640 1 FireExtinguisher, 61.4ms\n",
      "image 123/400 D:\\HackByte_Dataset\\data\\test\\images\\000000122.png: 384x640 1 FireExtinguisher, 1 ToolBox, 68.1ms\n",
      "image 124/400 D:\\HackByte_Dataset\\data\\test\\images\\000000123.png: 384x640 1 OxygenTank, 68.7ms\n",
      "image 125/400 D:\\HackByte_Dataset\\data\\test\\images\\000000124.png: 384x640 1 FireExtinguisher, 1 ToolBox, 76.7ms\n",
      "image 126/400 D:\\HackByte_Dataset\\data\\test\\images\\000000125.png: 384x640 1 OxygenTank, 75.5ms\n",
      "image 127/400 D:\\HackByte_Dataset\\data\\test\\images\\000000126.png: 384x640 1 ToolBox, 81.8ms\n",
      "image 128/400 D:\\HackByte_Dataset\\data\\test\\images\\000000127.png: 384x640 1 FireExtinguisher, 1 OxygenTank, 79.5ms\n",
      "image 129/400 D:\\HackByte_Dataset\\data\\test\\images\\000000128.png: 384x640 1 FireExtinguisher, 1 OxygenTank, 79.4ms\n",
      "image 130/400 D:\\HackByte_Dataset\\data\\test\\images\\000000129.png: 384x640 1 FireExtinguisher, 81.1ms\n",
      "image 131/400 D:\\HackByte_Dataset\\data\\test\\images\\000000130.png: 384x640 1 FireExtinguisher, 1 OxygenTank, 79.5ms\n",
      "image 132/400 D:\\HackByte_Dataset\\data\\test\\images\\000000131.png: 384x640 1 FireExtinguisher, 79.2ms\n",
      "image 133/400 D:\\HackByte_Dataset\\data\\test\\images\\000000132.png: 384x640 1 ToolBox, 79.7ms\n",
      "image 134/400 D:\\HackByte_Dataset\\data\\test\\images\\000000133.png: 384x640 1 FireExtinguisher, 1 OxygenTank, 86.1ms\n",
      "image 135/400 D:\\HackByte_Dataset\\data\\test\\images\\000000134.png: 384x640 1 ToolBox, 137.8ms\n",
      "image 136/400 D:\\HackByte_Dataset\\data\\test\\images\\000000135.png: 384x640 1 FireExtinguisher, 1 ToolBox, 143.8ms\n",
      "image 137/400 D:\\HackByte_Dataset\\data\\test\\images\\000000136.png: 384x640 1 OxygenTank, 55.6ms\n",
      "image 138/400 D:\\HackByte_Dataset\\data\\test\\images\\000000137.png: 384x640 1 OxygenTank, 58.2ms\n",
      "image 139/400 D:\\HackByte_Dataset\\data\\test\\images\\000000138.png: 384x640 1 ToolBox, 54.7ms\n",
      "image 140/400 D:\\HackByte_Dataset\\data\\test\\images\\000000139.png: 384x640 1 FireExtinguisher, 3 ToolBoxs, 60.1ms\n",
      "image 141/400 D:\\HackByte_Dataset\\data\\test\\images\\000000140.png: 384x640 1 ToolBox, 54.6ms\n",
      "image 142/400 D:\\HackByte_Dataset\\data\\test\\images\\000000141.png: 384x640 1 FireExtinguisher, 1 OxygenTank, 59.2ms\n",
      "image 143/400 D:\\HackByte_Dataset\\data\\test\\images\\000000142.png: 384x640 1 ToolBox, 1 OxygenTank, 148.5ms\n",
      "image 144/400 D:\\HackByte_Dataset\\data\\test\\images\\000000143.png: 384x640 1 FireExtinguisher, 125.4ms\n",
      "image 145/400 D:\\HackByte_Dataset\\data\\test\\images\\000000144.png: 384x640 1 FireExtinguisher, 55.1ms\n",
      "image 146/400 D:\\HackByte_Dataset\\data\\test\\images\\000000145.png: 384x640 1 FireExtinguisher, 65.8ms\n",
      "image 147/400 D:\\HackByte_Dataset\\data\\test\\images\\000000146.png: 384x640 1 ToolBox, 57.1ms\n",
      "image 148/400 D:\\HackByte_Dataset\\data\\test\\images\\000000147.png: 384x640 1 OxygenTank, 56.5ms\n",
      "image 149/400 D:\\HackByte_Dataset\\data\\test\\images\\000000148.png: 384x640 1 ToolBox, 1 OxygenTank, 64.7ms\n",
      "image 150/400 D:\\HackByte_Dataset\\data\\test\\images\\000000149.png: 384x640 1 FireExtinguisher, 55.8ms\n",
      "image 151/400 D:\\HackByte_Dataset\\data\\test\\images\\000000150.png: 384x640 1 FireExtinguisher, 2 OxygenTanks, 64.5ms\n",
      "image 152/400 D:\\HackByte_Dataset\\data\\test\\images\\000000151.png: 384x640 1 OxygenTank, 64.7ms\n",
      "image 153/400 D:\\HackByte_Dataset\\data\\test\\images\\000000152.png: 384x640 1 FireExtinguisher, 71.2ms\n",
      "image 154/400 D:\\HackByte_Dataset\\data\\test\\images\\000000153.png: 384x640 1 OxygenTank, 108.3ms\n",
      "image 155/400 D:\\HackByte_Dataset\\data\\test\\images\\000000154.png: 384x640 1 ToolBox, 150.5ms\n",
      "image 156/400 D:\\HackByte_Dataset\\data\\test\\images\\000000155.png: 384x640 1 OxygenTank, 125.4ms\n",
      "image 157/400 D:\\HackByte_Dataset\\data\\test\\images\\000000156.png: 384x640 1 ToolBox, 60.0ms\n",
      "image 158/400 D:\\HackByte_Dataset\\data\\test\\images\\000000157.png: 384x640 1 FireExtinguisher, 62.2ms\n",
      "image 159/400 D:\\HackByte_Dataset\\data\\test\\images\\000000158.png: 384x640 1 OxygenTank, 65.1ms\n",
      "image 160/400 D:\\HackByte_Dataset\\data\\test\\images\\000000159.png: 384x640 1 FireExtinguisher, 53.7ms\n",
      "image 161/400 D:\\HackByte_Dataset\\data\\test\\images\\000000160.png: 384x640 1 OxygenTank, 63.7ms\n",
      "image 162/400 D:\\HackByte_Dataset\\data\\test\\images\\000000161.png: 384x640 1 FireExtinguisher, 52.7ms\n",
      "image 163/400 D:\\HackByte_Dataset\\data\\test\\images\\000000162.png: 384x640 1 ToolBox, 66.4ms\n",
      "image 164/400 D:\\HackByte_Dataset\\data\\test\\images\\000000163.png: 384x640 1 FireExtinguisher, 67.8ms\n",
      "image 165/400 D:\\HackByte_Dataset\\data\\test\\images\\000000164.png: 384x640 1 FireExtinguisher, 1 OxygenTank, 71.5ms\n",
      "image 166/400 D:\\HackByte_Dataset\\data\\test\\images\\000000165.png: 384x640 1 FireExtinguisher, 1 OxygenTank, 74.2ms\n",
      "image 167/400 D:\\HackByte_Dataset\\data\\test\\images\\000000166.png: 384x640 1 ToolBox, 79.4ms\n",
      "image 168/400 D:\\HackByte_Dataset\\data\\test\\images\\000000167.png: 384x640 1 OxygenTank, 81.0ms\n",
      "image 169/400 D:\\HackByte_Dataset\\data\\test\\images\\000000168.png: 384x640 1 ToolBox, 79.7ms\n",
      "image 170/400 D:\\HackByte_Dataset\\data\\test\\images\\000000169.png: 384x640 1 ToolBox, 79.3ms\n",
      "image 171/400 D:\\HackByte_Dataset\\data\\test\\images\\000000170.png: 384x640 1 FireExtinguisher, 80.2ms\n",
      "image 172/400 D:\\HackByte_Dataset\\data\\test\\images\\000000171.png: 384x640 1 ToolBox, 81.0ms\n",
      "image 173/400 D:\\HackByte_Dataset\\data\\test\\images\\000000172.png: 384x640 1 FireExtinguisher, 79.4ms\n",
      "image 174/400 D:\\HackByte_Dataset\\data\\test\\images\\000000173.png: 384x640 1 ToolBox, 80.3ms\n",
      "image 175/400 D:\\HackByte_Dataset\\data\\test\\images\\000000174.png: 384x640 1 ToolBox, 85.6ms\n",
      "image 176/400 D:\\HackByte_Dataset\\data\\test\\images\\000000175.png: 384x640 1 ToolBox, 79.3ms\n",
      "image 177/400 D:\\HackByte_Dataset\\data\\test\\images\\000000176.png: 384x640 2 OxygenTanks, 79.4ms\n",
      "image 178/400 D:\\HackByte_Dataset\\data\\test\\images\\000000177.png: 384x640 1 FireExtinguisher, 79.5ms\n",
      "image 179/400 D:\\HackByte_Dataset\\data\\test\\images\\000000178.png: 384x640 1 ToolBox, 79.8ms\n",
      "image 180/400 D:\\HackByte_Dataset\\data\\test\\images\\000000179.png: 384x640 1 FireExtinguisher, 79.7ms\n",
      "image 181/400 D:\\HackByte_Dataset\\data\\test\\images\\000000180.png: 384x640 1 ToolBox, 1 OxygenTank, 107.7ms\n",
      "image 182/400 D:\\HackByte_Dataset\\data\\test\\images\\000000181.png: 384x640 1 FireExtinguisher, 154.5ms\n",
      "image 183/400 D:\\HackByte_Dataset\\data\\test\\images\\000000182.png: 384x640 1 OxygenTank, 149.3ms\n",
      "image 184/400 D:\\HackByte_Dataset\\data\\test\\images\\000000183.png: 384x640 1 FireExtinguisher, 69.6ms\n",
      "image 185/400 D:\\HackByte_Dataset\\data\\test\\images\\000000184.png: 384x640 1 ToolBox, 1 OxygenTank, 62.9ms\n",
      "image 186/400 D:\\HackByte_Dataset\\data\\test\\images\\000000185.png: 384x640 1 OxygenTank, 48.5ms\n",
      "image 187/400 D:\\HackByte_Dataset\\data\\test\\images\\000000186.png: 384x640 1 FireExtinguisher, 1 ToolBox, 54.3ms\n",
      "image 188/400 D:\\HackByte_Dataset\\data\\test\\images\\000000187.png: 384x640 1 FireExtinguisher, 1 ToolBox, 53.7ms\n",
      "image 189/400 D:\\HackByte_Dataset\\data\\test\\images\\000000188.png: 384x640 1 FireExtinguisher, 1 ToolBox, 58.0ms\n",
      "image 190/400 D:\\HackByte_Dataset\\data\\test\\images\\000000189.png: 384x640 1 FireExtinguisher, 66.4ms\n",
      "image 191/400 D:\\HackByte_Dataset\\data\\test\\images\\000000190.png: 384x640 1 ToolBox, 68.7ms\n",
      "image 192/400 D:\\HackByte_Dataset\\data\\test\\images\\000000191.png: 384x640 1 ToolBox, 1 OxygenTank, 73.3ms\n",
      "image 193/400 D:\\HackByte_Dataset\\data\\test\\images\\000000192.png: 384x640 1 ToolBox, 78.4ms\n",
      "image 194/400 D:\\HackByte_Dataset\\data\\test\\images\\000000193.png: 384x640 1 ToolBox, 1 OxygenTank, 80.8ms\n",
      "image 195/400 D:\\HackByte_Dataset\\data\\test\\images\\000000194.png: 384x640 1 FireExtinguisher, 3 ToolBoxs, 1 OxygenTank, 79.8ms\n",
      "image 196/400 D:\\HackByte_Dataset\\data\\test\\images\\000000195.png: 384x640 1 ToolBox, 79.5ms\n",
      "image 197/400 D:\\HackByte_Dataset\\data\\test\\images\\000000196.png: 384x640 1 FireExtinguisher, 1 OxygenTank, 79.3ms\n",
      "image 198/400 D:\\HackByte_Dataset\\data\\test\\images\\000000197.png: 384x640 1 FireExtinguisher, 84.1ms\n",
      "image 199/400 D:\\HackByte_Dataset\\data\\test\\images\\000000198.png: 384x640 1 ToolBox, 1 OxygenTank, 79.4ms\n",
      "image 200/400 D:\\HackByte_Dataset\\data\\test\\images\\000000199.png: 384x640 1 ToolBox, 79.7ms\n",
      "image 201/400 D:\\HackByte_Dataset\\data\\test\\images\\000000200.png: 384x640 1 FireExtinguisher, 85.9ms\n",
      "image 202/400 D:\\HackByte_Dataset\\data\\test\\images\\000000201.png: 384x640 1 ToolBox, 79.6ms\n",
      "image 203/400 D:\\HackByte_Dataset\\data\\test\\images\\000000202.png: 384x640 1 OxygenTank, 79.5ms\n",
      "image 204/400 D:\\HackByte_Dataset\\data\\test\\images\\000000203.png: 384x640 1 FireExtinguisher, 79.7ms\n",
      "image 205/400 D:\\HackByte_Dataset\\data\\test\\images\\000000204.png: 384x640 1 FireExtinguisher, 79.7ms\n",
      "image 206/400 D:\\HackByte_Dataset\\data\\test\\images\\000000205.png: 384x640 1 ToolBox, 1 OxygenTank, 79.3ms\n",
      "image 207/400 D:\\HackByte_Dataset\\data\\test\\images\\000000206.png: 384x640 1 FireExtinguisher, 79.5ms\n",
      "image 208/400 D:\\HackByte_Dataset\\data\\test\\images\\000000207.png: 384x640 1 FireExtinguisher, 82.0ms\n",
      "image 209/400 D:\\HackByte_Dataset\\data\\test\\images\\000000208.png: 384x640 1 ToolBox, 1 OxygenTank, 89.0ms\n",
      "image 210/400 D:\\HackByte_Dataset\\data\\test\\images\\000000209.png: 384x640 1 FireExtinguisher, 79.4ms\n",
      "image 211/400 D:\\HackByte_Dataset\\data\\test\\images\\000000210.png: 384x640 1 FireExtinguisher, 79.6ms\n",
      "image 212/400 D:\\HackByte_Dataset\\data\\test\\images\\000000211.png: 384x640 1 FireExtinguisher, 92.8ms\n",
      "image 213/400 D:\\HackByte_Dataset\\data\\test\\images\\000000212.png: 384x640 1 FireExtinguisher, 153.7ms\n",
      "image 214/400 D:\\HackByte_Dataset\\data\\test\\images\\000000213.png: 384x640 1 ToolBox, 53.0ms\n",
      "image 215/400 D:\\HackByte_Dataset\\data\\test\\images\\1000000000.png: 384x640 1 FireExtinguisher, 1 ToolBox, 1 OxygenTank, 65.9ms\n",
      "image 216/400 D:\\HackByte_Dataset\\data\\test\\images\\1000000001.png: 384x640 1 FireExtinguisher, 1 ToolBox, 54.3ms\n",
      "image 217/400 D:\\HackByte_Dataset\\data\\test\\images\\1000000002.png: 384x640 1 FireExtinguisher, 1 ToolBox, 51.3ms\n",
      "image 218/400 D:\\HackByte_Dataset\\data\\test\\images\\1000000003.png: 384x640 1 OxygenTank, 53.1ms\n",
      "image 219/400 D:\\HackByte_Dataset\\data\\test\\images\\1000000004.png: 384x640 1 ToolBox, 54.4ms\n",
      "image 220/400 D:\\HackByte_Dataset\\data\\test\\images\\1000000005.png: 384x640 1 FireExtinguisher, 67.0ms\n",
      "image 221/400 D:\\HackByte_Dataset\\data\\test\\images\\1000000006.png: 384x640 1 ToolBox, 71.4ms\n",
      "image 222/400 D:\\HackByte_Dataset\\data\\test\\images\\1000000007.png: 384x640 1 ToolBox, 1 OxygenTank, 76.4ms\n",
      "image 223/400 D:\\HackByte_Dataset\\data\\test\\images\\1000000008.png: 384x640 1 ToolBox, 1 OxygenTank, 78.3ms\n",
      "image 224/400 D:\\HackByte_Dataset\\data\\test\\images\\1000000009.png: 384x640 (no detections), 85.9ms\n",
      "image 225/400 D:\\HackByte_Dataset\\data\\test\\images\\1000000010.png: 384x640 1 ToolBox, 81.5ms\n",
      "image 226/400 D:\\HackByte_Dataset\\data\\test\\images\\1000000011.png: 384x640 1 ToolBox, 1 OxygenTank, 79.5ms\n",
      "image 227/400 D:\\HackByte_Dataset\\data\\test\\images\\1000000012.png: 384x640 1 FireExtinguisher, 78.5ms\n",
      "image 228/400 D:\\HackByte_Dataset\\data\\test\\images\\1000000013.png: 384x640 1 FireExtinguisher, 78.4ms\n",
      "image 229/400 D:\\HackByte_Dataset\\data\\test\\images\\1000000014.png: 384x640 1 ToolBox, 78.3ms\n",
      "image 230/400 D:\\HackByte_Dataset\\data\\test\\images\\1000000015.png: 384x640 (no detections), 78.4ms\n",
      "image 231/400 D:\\HackByte_Dataset\\data\\test\\images\\1000000016.png: 384x640 1 OxygenTank, 78.6ms\n",
      "image 232/400 D:\\HackByte_Dataset\\data\\test\\images\\1000000017.png: 384x640 1 OxygenTank, 78.4ms\n",
      "image 233/400 D:\\HackByte_Dataset\\data\\test\\images\\1000000018.png: 384x640 1 FireExtinguisher, 1 OxygenTank, 85.7ms\n",
      "image 234/400 D:\\HackByte_Dataset\\data\\test\\images\\1000000019.png: 384x640 1 ToolBox, 79.5ms\n",
      "image 235/400 D:\\HackByte_Dataset\\data\\test\\images\\1000000020.png: 384x640 1 FireExtinguisher, 1 ToolBox, 1 OxygenTank, 79.4ms\n",
      "image 236/400 D:\\HackByte_Dataset\\data\\test\\images\\1000000021.png: 384x640 1 ToolBox, 79.5ms\n",
      "image 237/400 D:\\HackByte_Dataset\\data\\test\\images\\1000000022.png: 384x640 1 FireExtinguisher, 1 ToolBox, 1 OxygenTank, 105.0ms\n",
      "image 238/400 D:\\HackByte_Dataset\\data\\test\\images\\1000000023.png: 384x640 1 FireExtinguisher, 2 ToolBoxs, 155.8ms\n",
      "image 239/400 D:\\HackByte_Dataset\\data\\test\\images\\1000000024.png: 384x640 1 OxygenTank, 150.1ms\n",
      "image 240/400 D:\\HackByte_Dataset\\data\\test\\images\\1000000025.png: 384x640 1 ToolBox, 143.3ms\n",
      "image 241/400 D:\\HackByte_Dataset\\data\\test\\images\\1000000026.png: 384x640 1 FireExtinguisher, 1 ToolBox, 56.9ms\n",
      "image 242/400 D:\\HackByte_Dataset\\data\\test\\images\\1000000027.png: 384x640 1 ToolBox, 59.7ms\n",
      "image 243/400 D:\\HackByte_Dataset\\data\\test\\images\\1000000028.png: 384x640 1 ToolBox, 53.9ms\n",
      "image 244/400 D:\\HackByte_Dataset\\data\\test\\images\\1000000029.png: 384x640 1 OxygenTank, 63.3ms\n",
      "image 245/400 D:\\HackByte_Dataset\\data\\test\\images\\1000000030.png: 384x640 1 OxygenTank, 56.2ms\n",
      "image 246/400 D:\\HackByte_Dataset\\data\\test\\images\\1000000031.png: 384x640 (no detections), 54.6ms\n",
      "image 247/400 D:\\HackByte_Dataset\\data\\test\\images\\1000000032.png: 384x640 1 OxygenTank, 58.6ms\n",
      "image 248/400 D:\\HackByte_Dataset\\data\\test\\images\\1000000033.png: 384x640 1 FireExtinguisher, 64.9ms\n",
      "image 249/400 D:\\HackByte_Dataset\\data\\test\\images\\1000000034.png: 384x640 1 OxygenTank, 67.9ms\n",
      "image 250/400 D:\\HackByte_Dataset\\data\\test\\images\\1000000035.png: 384x640 1 FireExtinguisher, 72.2ms\n",
      "image 251/400 D:\\HackByte_Dataset\\data\\test\\images\\1000000036.png: 384x640 1 FireExtinguisher, 1 ToolBox, 2 OxygenTanks, 78.3ms\n",
      "image 252/400 D:\\HackByte_Dataset\\data\\test\\images\\1000000037.png: 384x640 1 ToolBox, 79.6ms\n",
      "image 253/400 D:\\HackByte_Dataset\\data\\test\\images\\1000000038.png: 384x640 1 ToolBox, 1 OxygenTank, 85.8ms\n",
      "image 254/400 D:\\HackByte_Dataset\\data\\test\\images\\1000000039.png: 384x640 1 FireExtinguisher, 79.5ms\n",
      "image 255/400 D:\\HackByte_Dataset\\data\\test\\images\\1000000040.png: 384x640 1 ToolBox, 79.4ms\n",
      "image 256/400 D:\\HackByte_Dataset\\data\\test\\images\\1000000041.png: 384x640 1 ToolBox, 1 OxygenTank, 79.4ms\n",
      "image 257/400 D:\\HackByte_Dataset\\data\\test\\images\\1000000042.png: 384x640 1 ToolBox, 3 OxygenTanks, 79.6ms\n",
      "image 258/400 D:\\HackByte_Dataset\\data\\test\\images\\1000000043.png: 384x640 1 FireExtinguisher, 79.5ms\n",
      "image 259/400 D:\\HackByte_Dataset\\data\\test\\images\\1000000044.png: 384x640 1 FireExtinguisher, 1 OxygenTank, 85.8ms\n",
      "image 260/400 D:\\HackByte_Dataset\\data\\test\\images\\1000000045.png: 384x640 1 FireExtinguisher, 1 OxygenTank, 79.5ms\n",
      "image 261/400 D:\\HackByte_Dataset\\data\\test\\images\\1000000046.png: 384x640 1 FireExtinguisher, 81.0ms\n",
      "image 262/400 D:\\HackByte_Dataset\\data\\test\\images\\1000000047.png: 384x640 1 ToolBox, 79.7ms\n",
      "image 263/400 D:\\HackByte_Dataset\\data\\test\\images\\1000000048.png: 384x640 1 ToolBox, 154.7ms\n",
      "image 264/400 D:\\HackByte_Dataset\\data\\test\\images\\1000000049.png: 384x640 1 FireExtinguisher, 1 ToolBox, 152.4ms\n",
      "image 265/400 D:\\HackByte_Dataset\\data\\test\\images\\1000000050.png: 384x640 1 ToolBox, 149.2ms\n",
      "image 266/400 D:\\HackByte_Dataset\\data\\test\\images\\1000000051.png: 384x640 1 OxygenTank, 142.8ms\n",
      "image 267/400 D:\\HackByte_Dataset\\data\\test\\images\\1000000053.png: 384x640 1 OxygenTank, 62.9ms\n",
      "image 268/400 D:\\HackByte_Dataset\\data\\test\\images\\1000000054.png: 384x640 1 ToolBox, 58.2ms\n",
      "image 269/400 D:\\HackByte_Dataset\\data\\test\\images\\1000000055.png: 384x640 1 ToolBox, 59.0ms\n",
      "image 270/400 D:\\HackByte_Dataset\\data\\test\\images\\1000000056.png: 384x640 1 FireExtinguisher, 1 OxygenTank, 55.7ms\n",
      "image 271/400 D:\\HackByte_Dataset\\data\\test\\images\\1000000057.png: 384x640 1 FireExtinguisher, 1 ToolBox, 60.3ms\n",
      "image 272/400 D:\\HackByte_Dataset\\data\\test\\images\\1000000058.png: 384x640 1 FireExtinguisher, 1 ToolBox, 70.8ms\n",
      "image 273/400 D:\\HackByte_Dataset\\data\\test\\images\\1000000059.png: 384x640 1 FireExtinguisher, 1 ToolBox, 1 OxygenTank, 52.9ms\n",
      "image 274/400 D:\\HackByte_Dataset\\data\\test\\images\\1000000060.png: 384x640 1 FireExtinguisher, 1 ToolBox, 2 OxygenTanks, 57.1ms\n",
      "image 275/400 D:\\HackByte_Dataset\\data\\test\\images\\1000000061.png: 384x640 1 ToolBox, 59.5ms\n",
      "image 276/400 D:\\HackByte_Dataset\\data\\test\\images\\1000000062.png: 384x640 1 ToolBox, 64.2ms\n",
      "image 277/400 D:\\HackByte_Dataset\\data\\test\\images\\1000000063.png: 384x640 1 ToolBox, 1 OxygenTank, 65.7ms\n",
      "image 278/400 D:\\HackByte_Dataset\\data\\test\\images\\1000000064.png: 384x640 1 FireExtinguisher, 72.5ms\n",
      "image 279/400 D:\\HackByte_Dataset\\data\\test\\images\\1000000065.png: 384x640 1 FireExtinguisher, 72.8ms\n",
      "image 280/400 D:\\HackByte_Dataset\\data\\test\\images\\1000000066.png: 384x640 1 FireExtinguisher, 1 ToolBox, 79.5ms\n",
      "image 281/400 D:\\HackByte_Dataset\\data\\test\\images\\1000000067.png: 384x640 1 OxygenTank, 85.7ms\n",
      "image 282/400 D:\\HackByte_Dataset\\data\\test\\images\\1000000068.png: 384x640 1 FireExtinguisher, 1 ToolBox, 1 OxygenTank, 83.2ms\n",
      "image 283/400 D:\\HackByte_Dataset\\data\\test\\images\\1000000069.png: 384x640 1 ToolBox, 83.5ms\n",
      "image 284/400 D:\\HackByte_Dataset\\data\\test\\images\\1000000070.png: 384x640 1 ToolBox, 79.6ms\n",
      "image 285/400 D:\\HackByte_Dataset\\data\\test\\images\\1000000071.png: 384x640 1 OxygenTank, 79.5ms\n",
      "image 286/400 D:\\HackByte_Dataset\\data\\test\\images\\1000000073.png: 384x640 1 OxygenTank, 79.4ms\n",
      "image 287/400 D:\\HackByte_Dataset\\data\\test\\images\\1000000074.png: 384x640 1 ToolBox, 79.4ms\n",
      "image 288/400 D:\\HackByte_Dataset\\data\\test\\images\\1000000075.png: 384x640 1 OxygenTank, 79.5ms\n",
      "image 289/400 D:\\HackByte_Dataset\\data\\test\\images\\1000000076.png: 384x640 1 FireExtinguisher, 79.5ms\n",
      "image 290/400 D:\\HackByte_Dataset\\data\\test\\images\\1000000077.png: 384x640 1 OxygenTank, 83.2ms\n",
      "image 291/400 D:\\HackByte_Dataset\\data\\test\\images\\1000000078.png: 384x640 1 ToolBox, 85.8ms\n",
      "image 292/400 D:\\HackByte_Dataset\\data\\test\\images\\1000000079.png: 384x640 1 ToolBox, 1 OxygenTank, 80.6ms\n",
      "image 293/400 D:\\HackByte_Dataset\\data\\test\\images\\1000000080.png: 384x640 1 FireExtinguisher, 96.7ms\n",
      "image 294/400 D:\\HackByte_Dataset\\data\\test\\images\\1000000081.png: 384x640 1 OxygenTank, 153.1ms\n",
      "image 295/400 D:\\HackByte_Dataset\\data\\test\\images\\1000000082.png: 384x640 1 FireExtinguisher, 1 ToolBox, 1 OxygenTank, 146.2ms\n",
      "image 296/400 D:\\HackByte_Dataset\\data\\test\\images\\2000000000.png: 384x640 1 FireExtinguisher, 125.9ms\n",
      "image 297/400 D:\\HackByte_Dataset\\data\\test\\images\\2000000001.png: 384x640 1 FireExtinguisher, 60.9ms\n",
      "image 298/400 D:\\HackByte_Dataset\\data\\test\\images\\2000000002.png: 384x640 1 FireExtinguisher, 61.1ms\n",
      "image 299/400 D:\\HackByte_Dataset\\data\\test\\images\\2000000003.png: 384x640 2 FireExtinguishers, 1 ToolBox, 59.5ms\n",
      "image 300/400 D:\\HackByte_Dataset\\data\\test\\images\\2000000004.png: 384x640 1 FireExtinguisher, 1 ToolBox, 57.7ms\n",
      "image 301/400 D:\\HackByte_Dataset\\data\\test\\images\\2000000005.png: 384x640 1 FireExtinguisher, 56.4ms\n",
      "image 302/400 D:\\HackByte_Dataset\\data\\test\\images\\2000000006.png: 384x640 1 FireExtinguisher, 62.1ms\n",
      "image 303/400 D:\\HackByte_Dataset\\data\\test\\images\\2000000007.png: 384x640 1 FireExtinguisher, 62.1ms\n",
      "image 304/400 D:\\HackByte_Dataset\\data\\test\\images\\2000000008.png: 384x640 1 FireExtinguisher, 1 ToolBox, 1 OxygenTank, 67.0ms\n",
      "image 305/400 D:\\HackByte_Dataset\\data\\test\\images\\2000000009.png: 384x640 1 OxygenTank, 73.4ms\n",
      "image 306/400 D:\\HackByte_Dataset\\data\\test\\images\\2000000010.png: 384x640 2 FireExtinguishers, 1 OxygenTank, 73.2ms\n",
      "image 307/400 D:\\HackByte_Dataset\\data\\test\\images\\2000000011.png: 384x640 1 FireExtinguisher, 1 ToolBox, 1 OxygenTank, 76.8ms\n",
      "image 308/400 D:\\HackByte_Dataset\\data\\test\\images\\2000000012.png: 384x640 2 OxygenTanks, 80.5ms\n",
      "image 309/400 D:\\HackByte_Dataset\\data\\test\\images\\2000000013.png: 384x640 1 FireExtinguisher, 79.5ms\n",
      "image 310/400 D:\\HackByte_Dataset\\data\\test\\images\\2000000014.png: 384x640 1 ToolBox, 1 OxygenTank, 79.6ms\n",
      "image 311/400 D:\\HackByte_Dataset\\data\\test\\images\\2000000015.png: 384x640 1 ToolBox, 79.5ms\n",
      "image 312/400 D:\\HackByte_Dataset\\data\\test\\images\\2000000016.png: 384x640 2 OxygenTanks, 79.6ms\n",
      "image 313/400 D:\\HackByte_Dataset\\data\\test\\images\\2000000017.png: 384x640 1 ToolBox, 79.9ms\n",
      "image 314/400 D:\\HackByte_Dataset\\data\\test\\images\\2000000018.png: 384x640 1 FireExtinguisher, 1 OxygenTank, 79.5ms\n",
      "image 315/400 D:\\HackByte_Dataset\\data\\test\\images\\2000000019.png: 384x640 1 FireExtinguisher, 86.0ms\n",
      "image 316/400 D:\\HackByte_Dataset\\data\\test\\images\\2000000020.png: 384x640 1 FireExtinguisher, 1 ToolBox, 2 OxygenTanks, 79.5ms\n",
      "image 317/400 D:\\HackByte_Dataset\\data\\test\\images\\2000000021.png: 384x640 1 ToolBox, 2 OxygenTanks, 79.8ms\n",
      "image 318/400 D:\\HackByte_Dataset\\data\\test\\images\\2000000022.png: 384x640 1 FireExtinguisher, 1 ToolBox, 1 OxygenTank, 79.6ms\n",
      "image 319/400 D:\\HackByte_Dataset\\data\\test\\images\\2000000023.png: 384x640 1 ToolBox, 1 OxygenTank, 155.9ms\n",
      "image 320/400 D:\\HackByte_Dataset\\data\\test\\images\\2000000024.png: 384x640 1 OxygenTank, 147.0ms\n",
      "image 321/400 D:\\HackByte_Dataset\\data\\test\\images\\2000000025.png: 384x640 1 ToolBox, 136.1ms\n",
      "image 322/400 D:\\HackByte_Dataset\\data\\test\\images\\2000000026.png: 384x640 1 FireExtinguisher, 1 ToolBox, 1 OxygenTank, 58.8ms\n",
      "image 323/400 D:\\HackByte_Dataset\\data\\test\\images\\2000000027.png: 384x640 1 FireExtinguisher, 58.1ms\n",
      "image 324/400 D:\\HackByte_Dataset\\data\\test\\images\\2000000028.png: 384x640 1 ToolBox, 60.5ms\n",
      "image 325/400 D:\\HackByte_Dataset\\data\\test\\images\\2000000029.png: 384x640 1 FireExtinguisher, 66.1ms\n",
      "image 326/400 D:\\HackByte_Dataset\\data\\test\\images\\2000000030.png: 384x640 1 FireExtinguisher, 56.4ms\n",
      "image 327/400 D:\\HackByte_Dataset\\data\\test\\images\\2000000031.png: 384x640 1 OxygenTank, 56.3ms\n",
      "image 328/400 D:\\HackByte_Dataset\\data\\test\\images\\2000000032.png: 384x640 1 OxygenTank, 56.9ms\n",
      "image 329/400 D:\\HackByte_Dataset\\data\\test\\images\\2000000033.png: 384x640 1 OxygenTank, 61.0ms\n",
      "image 330/400 D:\\HackByte_Dataset\\data\\test\\images\\2000000034.png: 384x640 1 ToolBox, 64.9ms\n",
      "image 331/400 D:\\HackByte_Dataset\\data\\test\\images\\2000000035.png: 384x640 1 ToolBox, 68.2ms\n",
      "image 332/400 D:\\HackByte_Dataset\\data\\test\\images\\2000000036.png: 384x640 1 FireExtinguisher, 1 OxygenTank, 71.3ms\n",
      "image 333/400 D:\\HackByte_Dataset\\data\\test\\images\\2000000037.png: 384x640 1 FireExtinguisher, 1 ToolBox, 72.9ms\n",
      "image 334/400 D:\\HackByte_Dataset\\data\\test\\images\\2000000038.png: 384x640 1 ToolBox, 77.8ms\n",
      "image 335/400 D:\\HackByte_Dataset\\data\\test\\images\\2000000040.png: 384x640 1 FireExtinguisher, 2 ToolBoxs, 1 OxygenTank, 78.7ms\n",
      "image 336/400 D:\\HackByte_Dataset\\data\\test\\images\\2000000041.png: 384x640 1 FireExtinguisher, 1 ToolBox, 85.8ms\n",
      "image 337/400 D:\\HackByte_Dataset\\data\\test\\images\\2000000042.png: 384x640 2 FireExtinguishers, 1 ToolBox, 1 OxygenTank, 80.2ms\n",
      "image 338/400 D:\\HackByte_Dataset\\data\\test\\images\\2000000043.png: 384x640 1 FireExtinguisher, 1 ToolBox, 79.5ms\n",
      "image 339/400 D:\\HackByte_Dataset\\data\\test\\images\\2000000044.png: 384x640 1 FireExtinguisher, 2 OxygenTanks, 79.4ms\n",
      "image 340/400 D:\\HackByte_Dataset\\data\\test\\images\\2000000045.png: 384x640 1 OxygenTank, 79.5ms\n",
      "image 341/400 D:\\HackByte_Dataset\\data\\test\\images\\2000000046.png: 384x640 1 FireExtinguisher, 2 OxygenTanks, 79.7ms\n",
      "image 342/400 D:\\HackByte_Dataset\\data\\test\\images\\2000000047.png: 384x640 1 FireExtinguisher, 138.6ms\n",
      "image 343/400 D:\\HackByte_Dataset\\data\\test\\images\\2000000048.png: 384x640 1 FireExtinguisher, 1 OxygenTank, 145.2ms\n",
      "image 344/400 D:\\HackByte_Dataset\\data\\test\\images\\2000000049.png: 384x640 1 FireExtinguisher, 61.7ms\n",
      "image 345/400 D:\\HackByte_Dataset\\data\\test\\images\\2000000050.png: 384x640 1 OxygenTank, 54.9ms\n",
      "image 346/400 D:\\HackByte_Dataset\\data\\test\\images\\2000000051.png: 384x640 1 OxygenTank, 61.5ms\n",
      "image 347/400 D:\\HackByte_Dataset\\data\\test\\images\\2000000052.png: 384x640 2 ToolBoxs, 61.7ms\n",
      "image 348/400 D:\\HackByte_Dataset\\data\\test\\images\\2000000053.png: 384x640 1 OxygenTank, 59.9ms\n",
      "image 349/400 D:\\HackByte_Dataset\\data\\test\\images\\2000000054.png: 384x640 1 ToolBox, 63.3ms\n",
      "image 350/400 D:\\HackByte_Dataset\\data\\test\\images\\2000000055.png: 384x640 1 ToolBox, 149.4ms\n",
      "image 351/400 D:\\HackByte_Dataset\\data\\test\\images\\2000000056.png: 384x640 2 ToolBoxs, 52.1ms\n",
      "image 352/400 D:\\HackByte_Dataset\\data\\test\\images\\2000000057.png: 384x640 1 ToolBox, 1 OxygenTank, 59.7ms\n",
      "image 353/400 D:\\HackByte_Dataset\\data\\test\\images\\2000000058.png: 384x640 1 OxygenTank, 67.6ms\n",
      "image 354/400 D:\\HackByte_Dataset\\data\\test\\images\\2000000059.png: 384x640 1 ToolBox, 61.9ms\n",
      "image 355/400 D:\\HackByte_Dataset\\data\\test\\images\\2000000060.png: 384x640 1 OxygenTank, 58.4ms\n",
      "image 356/400 D:\\HackByte_Dataset\\data\\test\\images\\2000000061.png: 384x640 1 ToolBox, 62.1ms\n",
      "image 357/400 D:\\HackByte_Dataset\\data\\test\\images\\2000000062.png: 384x640 (no detections), 59.2ms\n",
      "image 358/400 D:\\HackByte_Dataset\\data\\test\\images\\2000000063.png: 384x640 1 ToolBox, 1 OxygenTank, 60.5ms\n",
      "image 359/400 D:\\HackByte_Dataset\\data\\test\\images\\2000000064.png: 384x640 1 FireExtinguisher, 66.4ms\n",
      "image 360/400 D:\\HackByte_Dataset\\data\\test\\images\\2000000065.png: 384x640 1 OxygenTank, 67.5ms\n",
      "image 361/400 D:\\HackByte_Dataset\\data\\test\\images\\2000000066.png: 384x640 1 FireExtinguisher, 74.8ms\n",
      "image 362/400 D:\\HackByte_Dataset\\data\\test\\images\\2000000067.png: 384x640 1 FireExtinguisher, 1 ToolBox, 74.3ms\n",
      "image 363/400 D:\\HackByte_Dataset\\data\\test\\images\\2000000068.png: 384x640 1 FireExtinguisher, 2 ToolBoxs, 1 OxygenTank, 80.7ms\n",
      "image 364/400 D:\\HackByte_Dataset\\data\\test\\images\\2000000069.png: 384x640 1 FireExtinguisher, 79.4ms\n",
      "image 365/400 D:\\HackByte_Dataset\\data\\test\\images\\2000000070.png: 384x640 1 ToolBox, 79.6ms\n",
      "image 366/400 D:\\HackByte_Dataset\\data\\test\\images\\2000000071.png: 384x640 1 OxygenTank, 79.5ms\n",
      "image 367/400 D:\\HackByte_Dataset\\data\\test\\images\\2000000072.png: 384x640 1 ToolBox, 1 OxygenTank, 79.8ms\n",
      "image 368/400 D:\\HackByte_Dataset\\data\\test\\images\\2000000073.png: 384x640 (no detections), 79.6ms\n",
      "image 369/400 D:\\HackByte_Dataset\\data\\test\\images\\2000000074.png: 384x640 1 ToolBox, 79.6ms\n",
      "image 370/400 D:\\HackByte_Dataset\\data\\test\\images\\2000000075.png: 384x640 1 OxygenTank, 85.8ms\n",
      "image 371/400 D:\\HackByte_Dataset\\data\\test\\images\\2000000076.png: 384x640 1 FireExtinguisher, 1 OxygenTank, 79.4ms\n",
      "image 372/400 D:\\HackByte_Dataset\\data\\test\\images\\2000000077.png: 384x640 1 OxygenTank, 79.5ms\n",
      "image 373/400 D:\\HackByte_Dataset\\data\\test\\images\\2000000078.png: 384x640 2 FireExtinguishers, 1 OxygenTank, 79.5ms\n",
      "image 374/400 D:\\HackByte_Dataset\\data\\test\\images\\2000000079.png: 384x640 1 OxygenTank, 79.9ms\n",
      "image 375/400 D:\\HackByte_Dataset\\data\\test\\images\\2000000080.png: 384x640 1 OxygenTank, 79.3ms\n",
      "image 376/400 D:\\HackByte_Dataset\\data\\test\\images\\2000000081.png: 384x640 1 OxygenTank, 79.7ms\n",
      "image 377/400 D:\\HackByte_Dataset\\data\\test\\images\\2000000082.png: 384x640 2 FireExtinguishers, 1 OxygenTank, 80.5ms\n",
      "image 378/400 D:\\HackByte_Dataset\\data\\test\\images\\3000000000.png: 384x640 1 FireExtinguisher, 1 ToolBox, 85.7ms\n",
      "image 379/400 D:\\HackByte_Dataset\\data\\test\\images\\3000000001.png: 384x640 1 OxygenTank, 79.5ms\n",
      "image 380/400 D:\\HackByte_Dataset\\data\\test\\images\\3000000004.png: 384x640 1 FireExtinguisher, 1 OxygenTank, 79.4ms\n",
      "image 381/400 D:\\HackByte_Dataset\\data\\test\\images\\3000000015.png: 384x640 1 ToolBox, 1 OxygenTank, 79.4ms\n",
      "image 382/400 D:\\HackByte_Dataset\\data\\test\\images\\3000000017.png: 384x640 1 FireExtinguisher, 79.4ms\n",
      "image 383/400 D:\\HackByte_Dataset\\data\\test\\images\\3000000018.png: 384x640 1 FireExtinguisher, 1 ToolBox, 79.4ms\n",
      "image 384/400 D:\\HackByte_Dataset\\data\\test\\images\\3000000024.png: 384x640 1 ToolBox, 1 OxygenTank, 79.9ms\n",
      "image 385/400 D:\\HackByte_Dataset\\data\\test\\images\\3000000027.png: 384x640 1 ToolBox, 79.4ms\n",
      "image 386/400 D:\\HackByte_Dataset\\data\\test\\images\\3000000030.png: 384x640 1 ToolBox, 85.3ms\n",
      "image 387/400 D:\\HackByte_Dataset\\data\\test\\images\\3000000033.png: 384x640 1 ToolBox, 83.1ms\n",
      "image 388/400 D:\\HackByte_Dataset\\data\\test\\images\\3000000034.png: 384x640 1 FireExtinguisher, 79.8ms\n",
      "image 389/400 D:\\HackByte_Dataset\\data\\test\\images\\3000000036.png: 384x640 1 ToolBox, 1 OxygenTank, 79.4ms\n",
      "image 390/400 D:\\HackByte_Dataset\\data\\test\\images\\3000000038.png: 384x640 1 OxygenTank, 79.5ms\n",
      "image 391/400 D:\\HackByte_Dataset\\data\\test\\images\\3000000042.png: 384x640 1 FireExtinguisher, 1 OxygenTank, 80.1ms\n",
      "image 392/400 D:\\HackByte_Dataset\\data\\test\\images\\3000000050.png: 384x640 1 ToolBox, 79.6ms\n",
      "image 393/400 D:\\HackByte_Dataset\\data\\test\\images\\3000000054.png: 384x640 2 FireExtinguishers, 1 ToolBox, 80.4ms\n",
      "image 394/400 D:\\HackByte_Dataset\\data\\test\\images\\3000000060.png: 384x640 2 FireExtinguishers, 85.8ms\n",
      "image 395/400 D:\\HackByte_Dataset\\data\\test\\images\\3000000064.png: 384x640 1 ToolBox, 79.5ms\n",
      "image 396/400 D:\\HackByte_Dataset\\data\\test\\images\\3000000072.png: 384x640 1 FireExtinguisher, 1 OxygenTank, 79.5ms\n",
      "image 397/400 D:\\HackByte_Dataset\\data\\test\\images\\3000000073.png: 384x640 1 FireExtinguisher, 79.5ms\n",
      "image 398/400 D:\\HackByte_Dataset\\data\\test\\images\\3000000075.png: 384x640 1 OxygenTank, 156.1ms\n",
      "image 399/400 D:\\HackByte_Dataset\\data\\test\\images\\3000000077.png: 384x640 1 FireExtinguisher, 1 ToolBox, 1 OxygenTank, 149.0ms\n",
      "image 400/400 D:\\HackByte_Dataset\\data\\test\\images\\3000000079.png: 384x640 1 OxygenTank, 145.2ms\n",
      "Speed: 6.1ms preprocess, 79.8ms inference, 7.8ms postprocess per image at shape (1, 3, 384, 640)\n",
      "Results saved to \u001b[1mruns\\detect\\predict\u001b[0m\n"
     ]
    }
   ],
   "source": [
    "from ultralytics import YOLO\n",
    "\n",
    "model = YOLO(\"runs/detect/HackByte_YOLOv8L2/weights/best.pt\")\n",
    "results = model.predict(source=\"D:/HackByte_Dataset/data/test/images\", conf=0.25, save=True)"
   ]
  },
  {
   "cell_type": "code",
   "execution_count": 20,
   "id": "cb21240f-c5a4-40d0-bf55-df9e3676ab53",
   "metadata": {},
   "outputs": [],
   "source": [
    "metrics.confusion_matrix.plot(save_dir=\"runs/detect/HackByte_YOLOv8L\")\n"
   ]
  },
  {
   "cell_type": "code",
   "execution_count": 24,
   "id": "23557ba9-176a-4657-9408-b93cff187e47",
   "metadata": {},
   "outputs": [
    {
     "data": {
      "image/png": "[encoded data removed]",
      "text/plain": [
       "<IPython.core.display.Image object>"
      ]
     },
     "execution_count": 24,
     "metadata": {},
     "output_type": "execute_result"
    }
   ],
   "source": [
    "from IPython.display import Image\n",
    "Image(filename='runs/detect/val/confusion_matrix.png')"
   ]
  },
  {
   "cell_type": "code",
   "execution_count": null,
   "id": "58207b44-9874-4ed3-a636-97c54adb32e5",
   "metadata": {},
   "outputs": [
    {
     "name": "stdout",
     "output_type": "stream",
     "text": [
      "Ultralytics 8.3.156  Python-3.10.18 torch-2.7.1+cu118 CUDA:0 (NVIDIA GeForce RTX 3050 Laptop GPU, 4096MiB)\n",
      "Model summary (fused): 112 layers, 43,608,921 parameters, 0 gradients, 164.8 GFLOPs\n",
      "\u001b[34m\u001b[1mval: \u001b[0mFast image access  (ping: 0.80.1 ms, read: 89.821.6 MB/s, size: 2215.8 KB)\n"
     ]
    },
    {
     "name": "stderr",
     "output_type": "stream",
     "text": [
      "\u001b[34m\u001b[1mval: \u001b[0mScanning D:\\HackByte_Dataset\\data\\val\\labels.cache... 154 images, 0 backgrounds, 0 corrupt: 100%|██████████| 154/1\u001b[0m\n",
      "                 Class     Images  Instances      Box(P          R      mAP50  mAP50-95): 100%|██████████| 10/10 [00:08\n"
     ]
    },
    {
     "name": "stdout",
     "output_type": "stream",
     "text": [
      "                   all        154        206      0.998       0.94       0.98       0.95\n",
      "      FireExtinguisher         67         67      0.997       0.97      0.987      0.958\n",
      "               ToolBox         60         60      0.997      0.917      0.972      0.948\n"
     ]
    }
   ],
   "source": [
    "from ultralytics import YOLO\n",
    "\n",
    "# Load best trained weights\n",
    "model = YOLO(\"runs/detect/HackByte_Yolov8L2/weights/best.pt\")\n",
    "\n",
    "# Run evaluation on validation set\n",
    "metrics = model.val(data=\"D:/HackByte_Dataset/yolo_params.yaml\")\n",
    "\n",
    "# Print mAP score\n",
    "print(\"✅ mAP@0.5:\", metrics.box.map50)"
   ]
  },
  {
   "cell_type": "code",
   "execution_count": null,
   "id": "274486a3-c205-43b1-a598-d037534a23ca",
   "metadata": {},
   "outputs": [],
   "source": []
  }
 ],
 "metadata": {
  "kernelspec": {
   "display_name": "Python (YOLO GPU)",
   "language": "python",
   "name": "yolo_gpu"
  },
  "language_info": {
   "codemirror_mode": {
    "name": "ipython",
    "version": 3
   },
   "file_extension": ".py",
   "mimetype": "text/x-python",
   "name": "python",
   "nbconvert_exporter": "python",
   "pygments_lexer": "ipython3",
   "version": "3.10.18"
  }
 },
 "nbformat": 4,
 "nbformat_minor": 5
}
